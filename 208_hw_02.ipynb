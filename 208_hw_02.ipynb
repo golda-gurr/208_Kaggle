{
 "cells": [
  {
   "cell_type": "markdown",
   "metadata": {},
   "source": [
    "# Курс Спортивный анализ данных. Платформа Kaggle"
   ]
  },
  {
   "cell_type": "markdown",
   "metadata": {},
   "source": [
    "# Практическое задание урока 2. Обзор основных алгоритмов машинного обучения, используемых в соревнованиях"
   ]
  },
  {
   "cell_type": "markdown",
   "metadata": {},
   "source": [
    "В домашнем задании, будем обучать разные алгоритмы машинного обучения. Для этого, нужно предварительно зафиксировать схему валидации решения (можете выбрать любую, которую знаете). Выбранную схему валидации нужно использовать во всех задачах этого домашнего задания. Метрика качества - ROC AUC, целевая переменная - isFraud.\n",
    "\n",
    "Ссылка на данные - https://drive.google.com/file/d/1gMEVl47pIoV1-AseB9doQ6DZNJrY3NkW/view?usp=sharing\n"
   ]
  },
  {
   "cell_type": "markdown",
   "metadata": {},
   "source": [
    "## Подключение библиотек и скриптов"
   ]
  },
  {
   "cell_type": "code",
   "execution_count": 20,
   "metadata": {},
   "outputs": [],
   "source": [
    "import warnings\n",
    "import numpy as np\n",
    "import pandas as pd\n",
    "import xgboost as xgb\n",
    "import catboost as cb\n",
    "import lightgbm as lgb\n",
    "import matplotlib.pyplot as plt\n",
    "\n",
    "from sklearn.model_selection import train_test_split\n",
    "from sklearn.metrics import roc_auc_score, roc_curve, auc, plot_roc_curve\n",
    "\n",
    "from pathlib import Path\n",
    "\n",
    "warnings.simplefilter(\"ignore\")"
   ]
  },
  {
   "cell_type": "markdown",
   "metadata": {},
   "source": [
    "## Пути к директориям и файлам"
   ]
  },
  {
   "cell_type": "code",
   "execution_count": 21,
   "metadata": {},
   "outputs": [],
   "source": [
    "DATA_ROOT = Path('D:/DS_materials/208_kaggle/data/')\n",
    "\n",
    "# input\n",
    "TRAIN_DATASET_PATH = DATA_ROOT / 'assignment_2_train.csv'\n",
    "TEST_DATASET_PATH = DATA_ROOT / 'assignment_2_test.csv'"
   ]
  },
  {
   "cell_type": "markdown",
   "metadata": {},
   "source": [
    "## Загрузка данных"
   ]
  },
  {
   "cell_type": "code",
   "execution_count": 22,
   "metadata": {},
   "outputs": [],
   "source": [
    "base_df = pd.read_csv(TRAIN_DATASET_PATH)\n",
    "train_df = pd.read_csv(TRAIN_DATASET_PATH)\n",
    "test_df = pd.read_csv(TEST_DATASET_PATH)"
   ]
  },
  {
   "cell_type": "code",
   "execution_count": 23,
   "metadata": {},
   "outputs": [
    {
     "name": "stdout",
     "output_type": "stream",
     "text": [
      "train_df.shape = 180000 rows, 394 cols\n",
      "test_df.shape = 100001 rows, 394 cols\n"
     ]
    },
    {
     "data": {
      "text/html": [
       "<div>\n",
       "<style scoped>\n",
       "    .dataframe tbody tr th:only-of-type {\n",
       "        vertical-align: middle;\n",
       "    }\n",
       "\n",
       "    .dataframe tbody tr th {\n",
       "        vertical-align: top;\n",
       "    }\n",
       "\n",
       "    .dataframe thead th {\n",
       "        text-align: right;\n",
       "    }\n",
       "</style>\n",
       "<table border=\"1\" class=\"dataframe\">\n",
       "  <thead>\n",
       "    <tr style=\"text-align: right;\">\n",
       "      <th></th>\n",
       "      <th>TransactionID</th>\n",
       "      <th>isFraud</th>\n",
       "      <th>TransactionDT</th>\n",
       "      <th>TransactionAmt</th>\n",
       "      <th>ProductCD</th>\n",
       "      <th>card1</th>\n",
       "      <th>card2</th>\n",
       "      <th>card3</th>\n",
       "      <th>card4</th>\n",
       "      <th>card5</th>\n",
       "      <th>...</th>\n",
       "      <th>V330</th>\n",
       "      <th>V331</th>\n",
       "      <th>V332</th>\n",
       "      <th>V333</th>\n",
       "      <th>V334</th>\n",
       "      <th>V335</th>\n",
       "      <th>V336</th>\n",
       "      <th>V337</th>\n",
       "      <th>V338</th>\n",
       "      <th>V339</th>\n",
       "    </tr>\n",
       "  </thead>\n",
       "  <tbody>\n",
       "    <tr>\n",
       "      <th>0</th>\n",
       "      <td>2987000</td>\n",
       "      <td>0</td>\n",
       "      <td>86400</td>\n",
       "      <td>68.5</td>\n",
       "      <td>W</td>\n",
       "      <td>13926</td>\n",
       "      <td>NaN</td>\n",
       "      <td>150.0</td>\n",
       "      <td>discover</td>\n",
       "      <td>142.0</td>\n",
       "      <td>...</td>\n",
       "      <td>NaN</td>\n",
       "      <td>NaN</td>\n",
       "      <td>NaN</td>\n",
       "      <td>NaN</td>\n",
       "      <td>NaN</td>\n",
       "      <td>NaN</td>\n",
       "      <td>NaN</td>\n",
       "      <td>NaN</td>\n",
       "      <td>NaN</td>\n",
       "      <td>NaN</td>\n",
       "    </tr>\n",
       "    <tr>\n",
       "      <th>1</th>\n",
       "      <td>2987001</td>\n",
       "      <td>0</td>\n",
       "      <td>86401</td>\n",
       "      <td>29.0</td>\n",
       "      <td>W</td>\n",
       "      <td>2755</td>\n",
       "      <td>404.0</td>\n",
       "      <td>150.0</td>\n",
       "      <td>mastercard</td>\n",
       "      <td>102.0</td>\n",
       "      <td>...</td>\n",
       "      <td>NaN</td>\n",
       "      <td>NaN</td>\n",
       "      <td>NaN</td>\n",
       "      <td>NaN</td>\n",
       "      <td>NaN</td>\n",
       "      <td>NaN</td>\n",
       "      <td>NaN</td>\n",
       "      <td>NaN</td>\n",
       "      <td>NaN</td>\n",
       "      <td>NaN</td>\n",
       "    </tr>\n",
       "  </tbody>\n",
       "</table>\n",
       "<p>2 rows × 394 columns</p>\n",
       "</div>"
      ],
      "text/plain": [
       "   TransactionID  isFraud  TransactionDT  TransactionAmt ProductCD  card1  \\\n",
       "0        2987000        0          86400            68.5         W  13926   \n",
       "1        2987001        0          86401            29.0         W   2755   \n",
       "\n",
       "   card2  card3       card4  card5  ... V330  V331  V332  V333  V334 V335  \\\n",
       "0    NaN  150.0    discover  142.0  ...  NaN   NaN   NaN   NaN   NaN  NaN   \n",
       "1  404.0  150.0  mastercard  102.0  ...  NaN   NaN   NaN   NaN   NaN  NaN   \n",
       "\n",
       "  V336  V337  V338  V339  \n",
       "0  NaN   NaN   NaN   NaN  \n",
       "1  NaN   NaN   NaN   NaN  \n",
       "\n",
       "[2 rows x 394 columns]"
      ]
     },
     "execution_count": 23,
     "metadata": {},
     "output_type": "execute_result"
    }
   ],
   "source": [
    "print(\"train_df.shape = {} rows, {} cols\".format(*train_df.shape))\n",
    "print(\"test_df.shape = {} rows, {} cols\".format(*test_df.shape))\n",
    "train_df.head(n=2)"
   ]
  },
  {
   "cell_type": "code",
   "execution_count": 24,
   "metadata": {},
   "outputs": [
    {
     "name": "stdout",
     "output_type": "stream",
     "text": [
      "train_df.shape = 180000 rows, 391 cols\n"
     ]
    }
   ],
   "source": [
    "target = train_df['isFraud']\n",
    "train_df = train_df.drop(['isFraud', 'TransactionID', 'TransactionDT'], axis=1)\n",
    "print(\"train_df.shape = {} rows, {} cols\".format(*train_df.shape))"
   ]
  },
  {
   "cell_type": "markdown",
   "metadata": {},
   "source": [
    "## Подготовка данных"
   ]
  },
  {
   "cell_type": "code",
   "execution_count": 25,
   "metadata": {},
   "outputs": [
    {
     "data": {
      "text/plain": [
       "Index(['TransactionAmt', 'card1', 'card2', 'card3', 'card5', 'addr1', 'addr2',\n",
       "       'dist1', 'dist2', 'C1',\n",
       "       ...\n",
       "       'V330', 'V331', 'V332', 'V333', 'V334', 'V335', 'V336', 'V337', 'V338',\n",
       "       'V339'],\n",
       "      dtype='object', length=377)"
      ]
     },
     "execution_count": 25,
     "metadata": {},
     "output_type": "execute_result"
    }
   ],
   "source": [
    "numerical_features = train_df.select_dtypes(include=[np.number]).columns\n",
    "#print(f\"count of numeric features {numerical_features.shape[1]}\")\n",
    "numerical_features"
   ]
  },
  {
   "cell_type": "code",
   "execution_count": 26,
   "metadata": {},
   "outputs": [
    {
     "data": {
      "text/plain": [
       "Index(['ProductCD', 'card4', 'card6', 'P_emaildomain', 'R_emaildomain', 'M1',\n",
       "       'M2', 'M3', 'M4', 'M5', 'M6', 'M7', 'M8', 'M9'],\n",
       "      dtype='object')"
      ]
     },
     "execution_count": 26,
     "metadata": {},
     "output_type": "execute_result"
    }
   ],
   "source": [
    "categorical_features = train_df.select_dtypes(include=[np.object]).columns\n",
    "\n",
    "#print(f\"count of categorical features {categorical_features.shape[1]}\")\n",
    "#categorical_features.head(n=2)\n",
    "categorical_features"
   ]
  },
  {
   "cell_type": "code",
   "execution_count": 27,
   "metadata": {},
   "outputs": [],
   "source": [
    "train_df[categorical_features] = train_df[categorical_features].astype(str)"
   ]
  },
  {
   "cell_type": "markdown",
   "metadata": {},
   "source": [
    "## XGBoost"
   ]
  },
  {
   "cell_type": "markdown",
   "metadata": {},
   "source": [
    "### Задание 1:\n",
    "* отобрать только числовые признаки и обучить модель XGBoost с параметром booster = gbtree. \n",
    "\n",
    "* Обучать алгоритм до тех пор, пока метрика качества не перестанет улучшаться на валидационной выборке в течение определенного числа итераций (выбрать значение самостоятельно)."
   ]
  },
  {
   "cell_type": "code",
   "execution_count": 34,
   "metadata": {},
   "outputs": [
    {
     "name": "stdout",
     "output_type": "stream",
     "text": [
      "x_train_num.shape = 144000 rows, 377 cols\n",
      "x_valid_num.shape = 36000 rows, 377 cols\n"
     ]
    }
   ],
   "source": [
    "x_train_num, x_valid_num = train_test_split(\n",
    "    train_df[numerical_features], train_size=0.8, random_state=42\n",
    ")\n",
    "y_train, y_valid = train_test_split(\n",
    "    target, train_size=0.8, random_state=42\n",
    ")\n",
    "print(\"x_train_num.shape = {} rows, {} cols\".format(*x_train_num.shape))\n",
    "print(\"x_valid_num.shape = {} rows, {} cols\".format(*x_valid_num.shape))"
   ]
  },
  {
   "cell_type": "markdown",
   "metadata": {},
   "source": [
    "Используем XGBoost sklearn-API"
   ]
  },
  {
   "cell_type": "code",
   "execution_count": 29,
   "metadata": {},
   "outputs": [],
   "source": [
    "params_xgb = {\n",
    "    \"booster\": \"gbtree\",\n",
    "    \"objective\": \"binary:logistic\",\n",
    "    \"eval_metric\": \"auc\",\n",
    "    \"learning_rate\": 0.1,\n",
    "    \"n_estimators\": 1000,\n",
    "    \"reg_lambda\": 100,\n",
    "    \"max_depth\": 4,\n",
    "    \"gamma\": 10,\n",
    "    \"nthread\": 6,\n",
    "    \"seed\": 27\n",
    "}"
   ]
  },
  {
   "cell_type": "code",
   "execution_count": 51,
   "metadata": {},
   "outputs": [],
   "source": [
    "eval_set_num = [\n",
    "    (x_train_num, y_train),\n",
    "    (x_valid_num, y_valid)]"
   ]
  },
  {
   "cell_type": "code",
   "execution_count": 36,
   "metadata": {},
   "outputs": [
    {
     "name": "stdout",
     "output_type": "stream",
     "text": [
      "[0]\tvalidation_0-auc:0.65232\tvalidation_1-auc:0.63974\n",
      "[50]\tvalidation_0-auc:0.87929\tvalidation_1-auc:0.87059\n",
      "[100]\tvalidation_0-auc:0.89286\tvalidation_1-auc:0.88227\n",
      "[150]\tvalidation_0-auc:0.90079\tvalidation_1-auc:0.88859\n",
      "[200]\tvalidation_0-auc:0.90341\tvalidation_1-auc:0.89061\n",
      "[215]\tvalidation_0-auc:0.90341\tvalidation_1-auc:0.89061\n",
      "Wall time: 2min 12s\n"
     ]
    },
    {
     "data": {
      "text/plain": [
       "XGBClassifier(base_score=0.5, booster='gbtree', colsample_bylevel=1,\n",
       "              colsample_bynode=1, colsample_bytree=1, eval_metric='auc',\n",
       "              gamma=10, gpu_id=-1, importance_type='gain',\n",
       "              interaction_constraints='', learning_rate=0.1, max_delta_step=0,\n",
       "              max_depth=4, min_child_weight=1, missing=nan,\n",
       "              monotone_constraints='()', n_estimators=1000, n_jobs=6, nthread=6,\n",
       "              num_parallel_tree=1, random_state=27, reg_alpha=0, reg_lambda=100,\n",
       "              scale_pos_weight=1, seed=27, subsample=1, tree_method='exact',\n",
       "              validate_parameters=1, verbosity=None)"
      ]
     },
     "execution_count": 36,
     "metadata": {},
     "output_type": "execute_result"
    }
   ],
   "source": [
    "%%time\n",
    "\n",
    "model_xgb_num = xgb.XGBClassifier(**params_xgb)\n",
    "\n",
    "model_xgb_num.fit(\n",
    "    X=x_train_num, \n",
    "    y=y_train,\n",
    "    eval_set=eval_set_num, \n",
    "    early_stopping_rounds=50,\n",
    "    eval_metric=\"auc\",\n",
    "    verbose=50)"
   ]
  },
  {
   "cell_type": "markdown",
   "metadata": {},
   "source": [
    "### Задание 2: \n",
    "обработать категориальные признаки любым способом (который вы знаете) и добавить их к данным. Выполнить задание 1"
   ]
  },
  {
   "cell_type": "code",
   "execution_count": 37,
   "metadata": {},
   "outputs": [],
   "source": [
    "train_cat = train_df.copy()\n",
    "\n",
    "for cat_colname in train_df.select_dtypes(include='object').columns[1:]:\n",
    "    train_cat = pd.concat([train_cat, pd.get_dummies(train_df[cat_colname], prefix=cat_colname)], axis=1)"
   ]
  },
  {
   "cell_type": "code",
   "execution_count": 38,
   "metadata": {},
   "outputs": [
    {
     "data": {
      "text/html": [
       "<div>\n",
       "<style scoped>\n",
       "    .dataframe tbody tr th:only-of-type {\n",
       "        vertical-align: middle;\n",
       "    }\n",
       "\n",
       "    .dataframe tbody tr th {\n",
       "        vertical-align: top;\n",
       "    }\n",
       "\n",
       "    .dataframe thead th {\n",
       "        text-align: right;\n",
       "    }\n",
       "</style>\n",
       "<table border=\"1\" class=\"dataframe\">\n",
       "  <thead>\n",
       "    <tr style=\"text-align: right;\">\n",
       "      <th></th>\n",
       "      <th>TransactionAmt</th>\n",
       "      <th>ProductCD</th>\n",
       "      <th>card1</th>\n",
       "      <th>card2</th>\n",
       "      <th>card3</th>\n",
       "      <th>card4</th>\n",
       "      <th>card5</th>\n",
       "      <th>card6</th>\n",
       "      <th>addr1</th>\n",
       "      <th>addr2</th>\n",
       "      <th>...</th>\n",
       "      <th>M6_nan</th>\n",
       "      <th>M7_F</th>\n",
       "      <th>M7_T</th>\n",
       "      <th>M7_nan</th>\n",
       "      <th>M8_F</th>\n",
       "      <th>M8_T</th>\n",
       "      <th>M8_nan</th>\n",
       "      <th>M9_F</th>\n",
       "      <th>M9_T</th>\n",
       "      <th>M9_nan</th>\n",
       "    </tr>\n",
       "  </thead>\n",
       "  <tbody>\n",
       "    <tr>\n",
       "      <th>0</th>\n",
       "      <td>68.5</td>\n",
       "      <td>W</td>\n",
       "      <td>13926</td>\n",
       "      <td>NaN</td>\n",
       "      <td>150.0</td>\n",
       "      <td>discover</td>\n",
       "      <td>142.0</td>\n",
       "      <td>credit</td>\n",
       "      <td>315.0</td>\n",
       "      <td>87.0</td>\n",
       "      <td>...</td>\n",
       "      <td>0</td>\n",
       "      <td>0</td>\n",
       "      <td>0</td>\n",
       "      <td>1</td>\n",
       "      <td>0</td>\n",
       "      <td>0</td>\n",
       "      <td>1</td>\n",
       "      <td>0</td>\n",
       "      <td>0</td>\n",
       "      <td>1</td>\n",
       "    </tr>\n",
       "    <tr>\n",
       "      <th>1</th>\n",
       "      <td>29.0</td>\n",
       "      <td>W</td>\n",
       "      <td>2755</td>\n",
       "      <td>404.0</td>\n",
       "      <td>150.0</td>\n",
       "      <td>mastercard</td>\n",
       "      <td>102.0</td>\n",
       "      <td>credit</td>\n",
       "      <td>325.0</td>\n",
       "      <td>87.0</td>\n",
       "      <td>...</td>\n",
       "      <td>0</td>\n",
       "      <td>0</td>\n",
       "      <td>0</td>\n",
       "      <td>1</td>\n",
       "      <td>0</td>\n",
       "      <td>0</td>\n",
       "      <td>1</td>\n",
       "      <td>0</td>\n",
       "      <td>0</td>\n",
       "      <td>1</td>\n",
       "    </tr>\n",
       "  </tbody>\n",
       "</table>\n",
       "<p>2 rows × 550 columns</p>\n",
       "</div>"
      ],
      "text/plain": [
       "   TransactionAmt ProductCD  card1  card2  card3       card4  card5   card6  \\\n",
       "0            68.5         W  13926    NaN  150.0    discover  142.0  credit   \n",
       "1            29.0         W   2755  404.0  150.0  mastercard  102.0  credit   \n",
       "\n",
       "   addr1  addr2  ...  M6_nan  M7_F M7_T M7_nan  M8_F  M8_T  M8_nan  M9_F  \\\n",
       "0  315.0   87.0  ...       0     0    0      1     0     0       1     0   \n",
       "1  325.0   87.0  ...       0     0    0      1     0     0       1     0   \n",
       "\n",
       "   M9_T  M9_nan  \n",
       "0     0       1  \n",
       "1     0       1  \n",
       "\n",
       "[2 rows x 550 columns]"
      ]
     },
     "execution_count": 38,
     "metadata": {},
     "output_type": "execute_result"
    }
   ],
   "source": [
    "train_cat.head(2)"
   ]
  },
  {
   "cell_type": "code",
   "execution_count": 39,
   "metadata": {},
   "outputs": [
    {
     "name": "stdout",
     "output_type": "stream",
     "text": [
      "train_cat.shape = 180000 rows, 536 cols\n"
     ]
    }
   ],
   "source": [
    "for cat_colname in categorical_features:\n",
    "    train_cat = train_cat.drop([cat_colname], axis=1)\n",
    "    \n",
    "print(\"train_cat.shape = {} rows, {} cols\".format(*train_cat.shape))"
   ]
  },
  {
   "cell_type": "code",
   "execution_count": 41,
   "metadata": {},
   "outputs": [
    {
     "name": "stdout",
     "output_type": "stream",
     "text": [
      "x_train_cat.shape = 144000 rows, 536 cols\n",
      "x_valid_cat.shape = 36000 rows, 536 cols\n"
     ]
    }
   ],
   "source": [
    "x_train_cat, x_valid_cat = train_test_split(\n",
    "    train_cat, train_size=0.8, random_state=42\n",
    ")\n",
    "\n",
    "print(\"x_train_cat.shape = {} rows, {} cols\".format(*x_train_cat.shape))\n",
    "print(\"x_valid_cat.shape = {} rows, {} cols\".format(*x_valid_cat.shape))"
   ]
  },
  {
   "cell_type": "code",
   "execution_count": 50,
   "metadata": {},
   "outputs": [],
   "source": [
    "eval_set_cat = [\n",
    "    (x_train_cat, y_train),\n",
    "    (x_valid_cat, y_valid)]"
   ]
  },
  {
   "cell_type": "code",
   "execution_count": 43,
   "metadata": {},
   "outputs": [
    {
     "name": "stdout",
     "output_type": "stream",
     "text": [
      "[0]\tvalidation_0-auc:0.65232\tvalidation_1-auc:0.63974\n",
      "[50]\tvalidation_0-auc:0.88791\tvalidation_1-auc:0.87767\n",
      "[100]\tvalidation_0-auc:0.90476\tvalidation_1-auc:0.89085\n",
      "[150]\tvalidation_0-auc:0.91033\tvalidation_1-auc:0.89625\n",
      "[186]\tvalidation_0-auc:0.91033\tvalidation_1-auc:0.89625\n",
      "Wall time: 2min 39s\n"
     ]
    },
    {
     "data": {
      "text/plain": [
       "XGBClassifier(base_score=0.5, booster='gbtree', colsample_bylevel=1,\n",
       "              colsample_bynode=1, colsample_bytree=1, eval_metric='auc',\n",
       "              gamma=10, gpu_id=-1, importance_type='gain',\n",
       "              interaction_constraints='', learning_rate=0.1, max_delta_step=0,\n",
       "              max_depth=4, min_child_weight=1, missing=nan,\n",
       "              monotone_constraints='()', n_estimators=1000, n_jobs=6, nthread=6,\n",
       "              num_parallel_tree=1, random_state=27, reg_alpha=0, reg_lambda=100,\n",
       "              scale_pos_weight=1, seed=27, subsample=1, tree_method='exact',\n",
       "              validate_parameters=1, verbosity=None)"
      ]
     },
     "execution_count": 43,
     "metadata": {},
     "output_type": "execute_result"
    }
   ],
   "source": [
    "%%time\n",
    "\n",
    "model_xgb_cat = xgb.XGBClassifier(**params_xgb)\n",
    "\n",
    "model_xgb_cat.fit(X=x_train_cat, y=y_train,\n",
    "            eval_set=eval_set_cat, \n",
    "            early_stopping_rounds=50,\n",
    "            eval_metric=\"auc\",\n",
    "            verbose=50)"
   ]
  },
  {
   "cell_type": "markdown",
   "metadata": {},
   "source": [
    "## LightGBM"
   ]
  },
  {
   "cell_type": "markdown",
   "metadata": {},
   "source": [
    "### Задание 4: \n",
    "* для числовых признаков обучить модель LightGBM. \n",
    "\n",
    "* Обучать алгоритм до тех пор, пока метрика качества не перестанет улучшаться на валидационной выборке в течение определенного числа итераций (выбрать значение самостоятельно)."
   ]
  },
  {
   "cell_type": "code",
   "execution_count": 52,
   "metadata": {},
   "outputs": [],
   "source": [
    "params_lgb = {\n",
    "    \"boosting_type\": \"gbdt\",\n",
    "    \"objective\": \"binary\",\n",
    "    \"metric\": \"auc\",\n",
    "    \"learning_rate\": 0.01,\n",
    "    \"n_estimators\": 200,\n",
    "    \"n_jobs\": 6,\n",
    "    \"seed\": 27\n",
    "}"
   ]
  },
  {
   "cell_type": "code",
   "execution_count": 53,
   "metadata": {},
   "outputs": [
    {
     "name": "stdout",
     "output_type": "stream",
     "text": [
      "Training until validation scores don't improve for 25 rounds\n",
      "[50]\ttraining's auc: 0.872647\tvalid_1's auc: 0.864697\n",
      "[100]\ttraining's auc: 0.888945\tvalid_1's auc: 0.877939\n",
      "[150]\ttraining's auc: 0.896954\tvalid_1's auc: 0.884614\n",
      "[200]\ttraining's auc: 0.905545\tvalid_1's auc: 0.892155\n",
      "Did not meet early stopping. Best iteration is:\n",
      "[200]\ttraining's auc: 0.905545\tvalid_1's auc: 0.892155\n",
      "Wall time: 22 s\n"
     ]
    },
    {
     "data": {
      "text/plain": [
       "LGBMClassifier(learning_rate=0.01, metric='auc', n_estimators=200, n_jobs=6,\n",
       "               objective='binary', seed=27)"
      ]
     },
     "execution_count": 53,
     "metadata": {},
     "output_type": "execute_result"
    }
   ],
   "source": [
    "%%time\n",
    "\n",
    "model_lgb_num = lgb.LGBMClassifier(**params_lgb)\n",
    "\n",
    "model_lgb_num.fit(X=x_train_num, y=y_train,\n",
    "            eval_set=eval_set_num,\n",
    "            early_stopping_rounds=25,\n",
    "            eval_metric=\"auc\",\n",
    "            verbose=50)"
   ]
  },
  {
   "cell_type": "markdown",
   "metadata": {},
   "source": [
    "### Задание 5: \n",
    "* обработать категориальные признаки любым способом (который вы знаете) и добавить их к данным. \n",
    "* Выполнить задание 4."
   ]
  },
  {
   "cell_type": "code",
   "execution_count": 55,
   "metadata": {},
   "outputs": [
    {
     "name": "stdout",
     "output_type": "stream",
     "text": [
      "Training until validation scores don't improve for 25 rounds\n",
      "[50]\ttraining's auc: 0.881583\tvalid_1's auc: 0.872063\n",
      "[100]\ttraining's auc: 0.898136\tvalid_1's auc: 0.882805\n",
      "[150]\ttraining's auc: 0.90572\tvalid_1's auc: 0.890219\n",
      "[200]\ttraining's auc: 0.915368\tvalid_1's auc: 0.89779\n",
      "Did not meet early stopping. Best iteration is:\n",
      "[200]\ttraining's auc: 0.915368\tvalid_1's auc: 0.89779\n",
      "Wall time: 22.8 s\n"
     ]
    },
    {
     "data": {
      "text/plain": [
       "LGBMClassifier(learning_rate=0.01, metric='auc', n_estimators=200, n_jobs=6,\n",
       "               objective='binary', seed=27)"
      ]
     },
     "execution_count": 55,
     "metadata": {},
     "output_type": "execute_result"
    }
   ],
   "source": [
    "%%time\n",
    "\n",
    "model_lgb_cat = lgb.LGBMClassifier(**params_lgb)\n",
    "\n",
    "model_lgb_cat.fit(X=x_train_cat, y=y_train,\n",
    "            eval_set=eval_set_cat,\n",
    "            early_stopping_rounds=25,\n",
    "            eval_metric=\"auc\",\n",
    "            verbose=50)"
   ]
  },
  {
   "cell_type": "markdown",
   "metadata": {},
   "source": [
    "### Задание 6: \n",
    "* обработать категориальные признаки встроенным методом в LightGBM. \n",
    "* Выполнить задание 4. \n",
    "* Сделать выводы о качестве работы алгоритма, по сравнению с пунктом 5."
   ]
  },
  {
   "cell_type": "code",
   "execution_count": 57,
   "metadata": {},
   "outputs": [],
   "source": [
    "train_num_cat = train_df.copy()"
   ]
  },
  {
   "cell_type": "code",
   "execution_count": 58,
   "metadata": {},
   "outputs": [],
   "source": [
    "for c in categorical_features:\n",
    "    train_num_cat[c] = train_num_cat[c].astype('category')"
   ]
  },
  {
   "cell_type": "code",
   "execution_count": 59,
   "metadata": {},
   "outputs": [],
   "source": [
    "x_train_num_cat, x_valid_num_cat = train_test_split(\n",
    "    train_num_cat, train_size=0.8, random_state=42\n",
    ")"
   ]
  },
  {
   "cell_type": "code",
   "execution_count": 60,
   "metadata": {},
   "outputs": [
    {
     "data": {
      "text/plain": [
       "['ProductCD',\n",
       " 'card4',\n",
       " 'card6',\n",
       " 'P_emaildomain',\n",
       " 'R_emaildomain',\n",
       " 'M1',\n",
       " 'M2',\n",
       " 'M3',\n",
       " 'M4',\n",
       " 'M5',\n",
       " 'M6',\n",
       " 'M7',\n",
       " 'M8',\n",
       " 'M9']"
      ]
     },
     "execution_count": 60,
     "metadata": {},
     "output_type": "execute_result"
    }
   ],
   "source": [
    "cat_features = list(categorical_features)\n",
    "cat_features"
   ]
  },
  {
   "cell_type": "code",
   "execution_count": 62,
   "metadata": {},
   "outputs": [],
   "source": [
    "eval_set_num_cat = [\n",
    "    (x_train_num_cat, y_train),\n",
    "    (x_valid_num_cat, y_valid)]"
   ]
  },
  {
   "cell_type": "code",
   "execution_count": 63,
   "metadata": {},
   "outputs": [
    {
     "name": "stdout",
     "output_type": "stream",
     "text": [
      "Training until validation scores don't improve for 25 rounds\n",
      "[50]\ttraining's auc: 0.882528\tvalid_1's auc: 0.87291\n",
      "[100]\ttraining's auc: 0.89601\tvalid_1's auc: 0.886373\n",
      "[150]\ttraining's auc: 0.909522\tvalid_1's auc: 0.894408\n",
      "[200]\ttraining's auc: 0.917555\tvalid_1's auc: 0.901744\n",
      "Did not meet early stopping. Best iteration is:\n",
      "[200]\ttraining's auc: 0.917555\tvalid_1's auc: 0.901744\n",
      "Wall time: 24.3 s\n"
     ]
    },
    {
     "data": {
      "text/plain": [
       "LGBMClassifier(learning_rate=0.01, metric='auc', n_estimators=200, n_jobs=6,\n",
       "               objective='binary', seed=27)"
      ]
     },
     "execution_count": 63,
     "metadata": {},
     "output_type": "execute_result"
    }
   ],
   "source": [
    "%%time\n",
    "\n",
    "model_lgb_num_cat = lgb.LGBMClassifier(**params_lgb)\n",
    "\n",
    "model_lgb_num_cat.fit(X=x_train_num_cat, y=y_train,\n",
    "            eval_set=eval_set_num_cat,\n",
    "            categorical_feature=cat_features,\n",
    "            early_stopping_rounds=25,\n",
    "            eval_metric=\"auc\",\n",
    "            verbose=50)"
   ]
  },
  {
   "cell_type": "markdown",
   "metadata": {},
   "source": [
    "**Вывод:**\n",
    "При обработке категориальных признаков встроенным методом в LightGBMа score на валидационных данных немного выше, чем при обработке вручную."
   ]
  },
  {
   "cell_type": "markdown",
   "metadata": {},
   "source": [
    "## CatBoost"
   ]
  },
  {
   "cell_type": "markdown",
   "metadata": {},
   "source": [
    "### Задание 7: \n",
    "* для числовых признаков обучить модель CatBoost. \n",
    "* Обучать алгоритм до тех пор, пока метрика качества не перестанет улучшаться на валидационной выборке в течение определенного числа итераций (выбрать значение самостоятельно)."
   ]
  },
  {
   "cell_type": "code",
   "execution_count": 67,
   "metadata": {},
   "outputs": [],
   "source": [
    "params_cb = {\n",
    "    \"n_estimators\": 10000,\n",
    "    \"loss_function\": \"Logloss\",\n",
    "    \"eval_metric\": \"AUC\",\n",
    "    \"task_type\": \"CPU\",\n",
    "    \"max_bin\": 20,\n",
    "    \"verbose\": 500,\n",
    "    \"max_depth\": 6,\n",
    "    \"l2_leaf_reg\": 100,\n",
    "    \"early_stopping_rounds\": 50,\n",
    "    \"thread_count\": 6,\n",
    "    \"random_seed\": 42\n",
    "}"
   ]
  },
  {
   "cell_type": "code",
   "execution_count": 68,
   "metadata": {},
   "outputs": [
    {
     "name": "stdout",
     "output_type": "stream",
     "text": [
      "0:\ttest: 0.6880634\ttest1: 0.6744911\tbest: 0.6744911 (0)\ttotal: 333ms\tremaining: 55m 29s\n",
      "500:\ttest: 0.8873154\ttest1: 0.8803184\tbest: 0.8803184 (500)\ttotal: 1m 16s\tremaining: 24m 11s\n",
      "Stopped by overfitting detector  (50 iterations wait)\n",
      "\n",
      "bestTest = 0.8805193321\n",
      "bestIteration = 650\n",
      "\n",
      "Shrink model to first 651 iterations.\n"
     ]
    },
    {
     "data": {
      "text/plain": [
       "<catboost.core.CatBoostClassifier at 0x26906693f40>"
      ]
     },
     "execution_count": 68,
     "metadata": {},
     "output_type": "execute_result"
    }
   ],
   "source": [
    "model_cb_num = cb.CatBoostClassifier(**params_cb)\n",
    "model_cb_num.fit(x_train_num, y_train, \n",
    "                 eval_set=[(x_train_num, y_train), (x_valid_num, y_valid)])"
   ]
  },
  {
   "cell_type": "markdown",
   "metadata": {},
   "source": [
    "### Задание 8: \n",
    "* обработать категориальные признаки любым способом (который вы знаете) и добавить их к данным. \n",
    "* Выполнить задание 7."
   ]
  },
  {
   "cell_type": "code",
   "execution_count": 69,
   "metadata": {},
   "outputs": [
    {
     "name": "stdout",
     "output_type": "stream",
     "text": [
      "0:\ttest: 0.6254659\ttest1: 0.6212908\tbest: 0.6212908 (0)\ttotal: 175ms\tremaining: 29m 10s\n",
      "500:\ttest: 0.8940424\ttest1: 0.8848354\tbest: 0.8848354 (500)\ttotal: 1m 17s\tremaining: 24m 32s\n",
      "Stopped by overfitting detector  (50 iterations wait)\n",
      "\n",
      "bestTest = 0.885152757\n",
      "bestIteration = 562\n",
      "\n",
      "Shrink model to first 563 iterations.\n",
      "Wall time: 1min 38s\n"
     ]
    },
    {
     "data": {
      "text/plain": [
       "<catboost.core.CatBoostClassifier at 0x269066a9df0>"
      ]
     },
     "execution_count": 69,
     "metadata": {},
     "output_type": "execute_result"
    }
   ],
   "source": [
    "%%time \n",
    "\n",
    "model_cb_cat = cb.CatBoostClassifier(**params_cb)\n",
    "\n",
    "model_cb_cat.fit(x_train_cat, y_train, \n",
    "                     eval_set=[(x_train_cat, y_train), (x_valid_cat, y_valid)])"
   ]
  },
  {
   "cell_type": "markdown",
   "metadata": {},
   "source": [
    "### Задание 9: \n",
    "* обработать категориальные признаки встроенным методом в CatBoost. \n",
    "* Выполнить задание 7. \n",
    "* Сделать выводы о качестве работы алгоритма, по сравнению с пунктом 8."
   ]
  },
  {
   "cell_type": "code",
   "execution_count": 72,
   "metadata": {},
   "outputs": [],
   "source": [
    "x_train_num_str, x_valid_num_str = train_test_split(\n",
    "    train_df, train_size=0.8, random_state=42\n",
    ")"
   ]
  },
  {
   "cell_type": "code",
   "execution_count": 73,
   "metadata": {},
   "outputs": [],
   "source": [
    "eval_set_num_str = [\n",
    "    (x_train_num_str, y_train),\n",
    "    (x_valid_num_str, y_valid)]"
   ]
  },
  {
   "cell_type": "code",
   "execution_count": 74,
   "metadata": {},
   "outputs": [
    {
     "name": "stdout",
     "output_type": "stream",
     "text": [
      "0:\ttest: 0.5955634\ttest1: 0.5949732\tbest: 0.5949732 (0)\ttotal: 745ms\tremaining: 2h 4m 10s\n",
      "500:\ttest: 0.8966389\ttest1: 0.8865379\tbest: 0.8865386 (499)\ttotal: 5m 43s\tremaining: 1h 48m 36s\n",
      "Stopped by overfitting detector  (50 iterations wait)\n",
      "\n",
      "bestTest = 0.8870876142\n",
      "bestIteration = 640\n",
      "\n",
      "Shrink model to first 641 iterations.\n",
      "Wall time: 7min 50s\n"
     ]
    },
    {
     "data": {
      "text/plain": [
       "<catboost.core.CatBoostClassifier at 0x26ab3f60070>"
      ]
     },
     "execution_count": 74,
     "metadata": {},
     "output_type": "execute_result"
    }
   ],
   "source": [
    "%%time \n",
    "\n",
    "model_cb_num_cat = cb.CatBoostClassifier(**params_cb)\n",
    "\n",
    "model_cb_num_cat.fit(x_train_num_str,\n",
    "                     y_train,\n",
    "                     cat_features=cat_features,\n",
    "                     eval_set=eval_set_num_str)"
   ]
  },
  {
   "cell_type": "markdown",
   "metadata": {},
   "source": [
    "**Вывод:**\n",
    "При применении CatBoost наиболее высокий score на валидационных данных представлен в случае обработки категориальных признаков встроенным методом."
   ]
  },
  {
   "cell_type": "markdown",
   "metadata": {},
   "source": [
    "### Задание 10: \n",
    "* построить ROC-кривую для всех построенных алгоритмов на обучающей и тестовой выборке. \n",
    "* Сделать выводы о работе алгоритмов с точки зрения качества на тестовой выборке и с точки зрения переобучения."
   ]
  },
  {
   "cell_type": "code",
   "execution_count": 77,
   "metadata": {},
   "outputs": [
    {
     "data": {
      "text/plain": [
       "<sklearn.metrics._plot.roc_curve.RocCurveDisplay at 0x26906c9da90>"
      ]
     },
     "execution_count": 77,
     "metadata": {},
     "output_type": "execute_result"
    },
    {
     "data": {
      "image/png": "[encoded data removed]",
      "text/plain": [
       "<Figure size 576x1440 with 3 Axes>"
      ]
     },
     "metadata": {
      "needs_background": "light"
     },
     "output_type": "display_data"
    }
   ],
   "source": [
    "fig, axes = plt.subplots(3, 1, figsize=(8, 20))\n",
    "\n",
    "axes[0].set_title(\"XGBoost\", fontsize=12)\n",
    "\n",
    "plot_roc_curve(model_xgb_num, x_train_num, y_train, ax=axes[0], label='train_num', c='blue')\n",
    "plot_roc_curve(model_xgb_num, x_valid_num, y_valid, ax=axes[0], label='valid_num', c='blue', dashes=[8, 5])\n",
    "plot_roc_curve(model_xgb_cat, x_train_cat, y_train, ax=axes[0], label='train_cat', c='green')\n",
    "plot_roc_curve(model_xgb_cat, x_valid_cat, y_valid, ax=axes[0], label='valid_cat', c='green', dashes=[8, 5])\n",
    "\n",
    "axes[1].set_title(\"LightGBM\", fontsize=12)\n",
    "\n",
    "plot_roc_curve(model_lgb_num, x_train_num, y_train, ax=axes[1], label='train_num', c='blue')\n",
    "plot_roc_curve(model_lgb_num, x_valid_num, y_valid, ax=axes[1], label='valid_num', c='blue', dashes=[8, 5])\n",
    "plot_roc_curve(model_lgb_cat, x_train_cat, y_train, ax=axes[1], label='train_cat', c='green')\n",
    "plot_roc_curve(model_lgb_cat, x_valid_cat, y_valid, ax=axes[1], label='valid_cat', c='green', dashes=[8, 5])\n",
    "plot_roc_curve(model_lgb_num_cat, x_train_num_cat, y_train, ax=axes[1], label='train_num_cat', c='brown')\n",
    "plot_roc_curve(model_lgb_num_cat, x_valid_num_cat, y_valid, ax=axes[1], label='valid_num_cat', c='brown', dashes=[8, 5])\n",
    "\n",
    "axes[2].set_title(\"CatBoost\", fontsize=12)\n",
    "\n",
    "plot_roc_curve(model_cb_num, x_train_num, y_train, ax=axes[2], label='train_num', c='blue')\n",
    "plot_roc_curve(model_cb_num, x_valid_num, y_valid, ax=axes[2], label='valid_num', c='blue', dashes=[8, 5])\n",
    "plot_roc_curve(model_cb_cat, x_train_cat, y_train, ax=axes[2], label='train_cat', c='green')\n",
    "plot_roc_curve(model_cb_cat, x_valid_cat, y_valid, ax=axes[2], label='valid_cat', c='green', dashes=[8, 5])\n",
    "plot_roc_curve(model_cb_num_cat, x_train_num_str, y_train, ax=axes[2], label='train_num_str', c='brown')\n",
    "plot_roc_curve(model_cb_num_cat, x_valid_num_str, y_valid, ax=axes[2], label='valid_num_str', c='brown', dashes=[8, 5])"
   ]
  },
  {
   "cell_type": "markdown",
   "metadata": {},
   "source": [
    "**Вывод:**\n",
    "\n",
    "При применении LightGBM по сравнению с другими моделями score на валидационных данных немного выше.\n"
   ]
  },
  {
   "cell_type": "code",
   "execution_count": null,
   "metadata": {},
   "outputs": [],
   "source": []
  }
 ],
 "metadata": {
  "kernelspec": {
   "display_name": "Python 3",
   "language": "python",
   "name": "python3"
  },
  "language_info": {
   "codemirror_mode": {
    "name": "ipython",
    "version": 3
   },
   "file_extension": ".py",
   "mimetype": "text/x-python",
   "name": "python",
   "nbconvert_exporter": "python",
   "pygments_lexer": "ipython3",
   "version": "3.8.8"
  }
 },
 "nbformat": 4,
 "nbformat_minor": 4
}
