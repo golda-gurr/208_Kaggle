{
 "cells": [
  {
   "cell_type": "markdown",
   "metadata": {},
   "source": [
    "# Курс Спортивный анализ данных. Платформа Kaggle"
   ]
  },
  {
   "cell_type": "markdown",
   "metadata": {},
   "source": [
    "# Практическое задание урока 3. Построение надежных схем валидации решения, оптимизация целевых метрик"
   ]
  },
  {
   "cell_type": "markdown",
   "metadata": {},
   "source": [
    "**Основное задание:**\n",
    "\n",
    "* Даны выборки для обучения и для тестирования. \n",
    "* Задание заключается в том, чтобы попробовать разные способы валидации, проанализировать плюсы / минусы каждой и сделать выводы о том, какой способ валидации наиболее устойчивый в данной задаче. \n",
    "* Метрика качества для оценки прогнозов - ROC-AUC, название целевой переменной - IsFraud. Рекомендуется использовать модели градиетного бустинга, реализация любая / гипепараметры любые. \n",
    "\n",
    "***Внимание!*** выборка assignment_2_test.csv - наш аналог лидерборда. Будем моделировать ситуацию отправки решения на лидерборд и сравнить значение метрики на лидерборде и на локальной валидации. Для других целей использовать выборку запрещено!.\n",
    "\n",
    "**Терминалогия, используемая в задании:**\n",
    "* обучающая выборка - выборка, которая передается в метод fit / train;\n",
    "* валидационная выборка - выборка, которая получается при Hold-Out на 2 выборки (train, valid);\n",
    "* тестовая выборка - выборка, которая получается при Hold-Out на 3 выборки (train, valid, test);\n",
    "* ЛБ - лидерборд, выборка assignment_2_test.csv."
   ]
  },
  {
   "cell_type": "markdown",
   "metadata": {},
   "source": [
    "## Подключение библиотек и скриптов"
   ]
  },
  {
   "cell_type": "code",
   "execution_count": 24,
   "metadata": {},
   "outputs": [],
   "source": [
    "import warnings\n",
    "from tqdm import tqdm\n",
    "from typing import List, Tuple\n",
    "\n",
    "import numpy as np\n",
    "import pandas as pd\n",
    "import seaborn as sns\n",
    "import xgboost as xgb\n",
    "import catboost as cb\n",
    "\n",
    "import matplotlib.pyplot as plt\n",
    "from scipy.stats import ttest_rel\n",
    "\n",
    "from sklearn.metrics import roc_auc_score\n",
    "from sklearn.ensemble import RandomForestRegressor\n",
    "from sklearn.model_selection import KFold, StratifiedKFold, train_test_split, cross_val_score\n",
    "\n",
    "from pathlib import Path\n",
    "\n",
    "warnings.simplefilter(\"ignore\")\n",
    "%matplotlib inline"
   ]
  },
  {
   "cell_type": "markdown",
   "metadata": {},
   "source": [
    "## Загрузка данных"
   ]
  },
  {
   "cell_type": "code",
   "execution_count": 25,
   "metadata": {},
   "outputs": [],
   "source": [
    "DATA_ROOT = Path('D:/DS_materials/208_kaggle/data/')\n",
    "\n",
    "# input\n",
    "TRAIN_DATASET_PATH = DATA_ROOT / 'assignment_2_train.csv'\n",
    "TEST_DATASET_PATH = DATA_ROOT / 'assignment_2_test.csv'\n",
    "\n",
    "train = pd.read_csv(TRAIN_DATASET_PATH)\n",
    "test = pd.read_csv(TEST_DATASET_PATH)"
   ]
  },
  {
   "cell_type": "code",
   "execution_count": 26,
   "metadata": {},
   "outputs": [
    {
     "name": "stdout",
     "output_type": "stream",
     "text": [
      "train.shape = 180000 rows, 394 cols\n"
     ]
    },
    {
     "data": {
      "text/html": [
       "<div>\n",
       "<style scoped>\n",
       "    .dataframe tbody tr th:only-of-type {\n",
       "        vertical-align: middle;\n",
       "    }\n",
       "\n",
       "    .dataframe tbody tr th {\n",
       "        vertical-align: top;\n",
       "    }\n",
       "\n",
       "    .dataframe thead th {\n",
       "        text-align: right;\n",
       "    }\n",
       "</style>\n",
       "<table border=\"1\" class=\"dataframe\">\n",
       "  <thead>\n",
       "    <tr style=\"text-align: right;\">\n",
       "      <th></th>\n",
       "      <th>TransactionID</th>\n",
       "      <th>isFraud</th>\n",
       "      <th>TransactionDT</th>\n",
       "      <th>TransactionAmt</th>\n",
       "      <th>ProductCD</th>\n",
       "      <th>card1</th>\n",
       "      <th>card2</th>\n",
       "      <th>card3</th>\n",
       "      <th>card4</th>\n",
       "      <th>card5</th>\n",
       "      <th>...</th>\n",
       "      <th>V330</th>\n",
       "      <th>V331</th>\n",
       "      <th>V332</th>\n",
       "      <th>V333</th>\n",
       "      <th>V334</th>\n",
       "      <th>V335</th>\n",
       "      <th>V336</th>\n",
       "      <th>V337</th>\n",
       "      <th>V338</th>\n",
       "      <th>V339</th>\n",
       "    </tr>\n",
       "  </thead>\n",
       "  <tbody>\n",
       "    <tr>\n",
       "      <th>0</th>\n",
       "      <td>2987000</td>\n",
       "      <td>0</td>\n",
       "      <td>86400</td>\n",
       "      <td>68.5</td>\n",
       "      <td>W</td>\n",
       "      <td>13926</td>\n",
       "      <td>NaN</td>\n",
       "      <td>150.0</td>\n",
       "      <td>discover</td>\n",
       "      <td>142.0</td>\n",
       "      <td>...</td>\n",
       "      <td>NaN</td>\n",
       "      <td>NaN</td>\n",
       "      <td>NaN</td>\n",
       "      <td>NaN</td>\n",
       "      <td>NaN</td>\n",
       "      <td>NaN</td>\n",
       "      <td>NaN</td>\n",
       "      <td>NaN</td>\n",
       "      <td>NaN</td>\n",
       "      <td>NaN</td>\n",
       "    </tr>\n",
       "    <tr>\n",
       "      <th>1</th>\n",
       "      <td>2987001</td>\n",
       "      <td>0</td>\n",
       "      <td>86401</td>\n",
       "      <td>29.0</td>\n",
       "      <td>W</td>\n",
       "      <td>2755</td>\n",
       "      <td>404.0</td>\n",
       "      <td>150.0</td>\n",
       "      <td>mastercard</td>\n",
       "      <td>102.0</td>\n",
       "      <td>...</td>\n",
       "      <td>NaN</td>\n",
       "      <td>NaN</td>\n",
       "      <td>NaN</td>\n",
       "      <td>NaN</td>\n",
       "      <td>NaN</td>\n",
       "      <td>NaN</td>\n",
       "      <td>NaN</td>\n",
       "      <td>NaN</td>\n",
       "      <td>NaN</td>\n",
       "      <td>NaN</td>\n",
       "    </tr>\n",
       "  </tbody>\n",
       "</table>\n",
       "<p>2 rows × 394 columns</p>\n",
       "</div>"
      ],
      "text/plain": [
       "   TransactionID  isFraud  TransactionDT  TransactionAmt ProductCD  card1  \\\n",
       "0        2987000        0          86400            68.5         W  13926   \n",
       "1        2987001        0          86401            29.0         W   2755   \n",
       "\n",
       "   card2  card3       card4  card5  ... V330  V331  V332  V333  V334 V335  \\\n",
       "0    NaN  150.0    discover  142.0  ...  NaN   NaN   NaN   NaN   NaN  NaN   \n",
       "1  404.0  150.0  mastercard  102.0  ...  NaN   NaN   NaN   NaN   NaN  NaN   \n",
       "\n",
       "  V336  V337  V338  V339  \n",
       "0  NaN   NaN   NaN   NaN  \n",
       "1  NaN   NaN   NaN   NaN  \n",
       "\n",
       "[2 rows x 394 columns]"
      ]
     },
     "execution_count": 26,
     "metadata": {},
     "output_type": "execute_result"
    }
   ],
   "source": [
    "print(\"train.shape = {} rows, {} cols\".format(*train.shape))\n",
    "train.head(n=2)"
   ]
  },
  {
   "cell_type": "code",
   "execution_count": 27,
   "metadata": {
    "scrolled": true
   },
   "outputs": [
    {
     "name": "stdout",
     "output_type": "stream",
     "text": [
      "test.shape = 100001 rows, 394 cols\n"
     ]
    },
    {
     "data": {
      "text/html": [
       "<div>\n",
       "<style scoped>\n",
       "    .dataframe tbody tr th:only-of-type {\n",
       "        vertical-align: middle;\n",
       "    }\n",
       "\n",
       "    .dataframe tbody tr th {\n",
       "        vertical-align: top;\n",
       "    }\n",
       "\n",
       "    .dataframe thead th {\n",
       "        text-align: right;\n",
       "    }\n",
       "</style>\n",
       "<table border=\"1\" class=\"dataframe\">\n",
       "  <thead>\n",
       "    <tr style=\"text-align: right;\">\n",
       "      <th></th>\n",
       "      <th>TransactionID</th>\n",
       "      <th>isFraud</th>\n",
       "      <th>TransactionDT</th>\n",
       "      <th>TransactionAmt</th>\n",
       "      <th>ProductCD</th>\n",
       "      <th>card1</th>\n",
       "      <th>card2</th>\n",
       "      <th>card3</th>\n",
       "      <th>card4</th>\n",
       "      <th>card5</th>\n",
       "      <th>...</th>\n",
       "      <th>V330</th>\n",
       "      <th>V331</th>\n",
       "      <th>V332</th>\n",
       "      <th>V333</th>\n",
       "      <th>V334</th>\n",
       "      <th>V335</th>\n",
       "      <th>V336</th>\n",
       "      <th>V337</th>\n",
       "      <th>V338</th>\n",
       "      <th>V339</th>\n",
       "    </tr>\n",
       "  </thead>\n",
       "  <tbody>\n",
       "    <tr>\n",
       "      <th>0</th>\n",
       "      <td>3287000</td>\n",
       "      <td>1</td>\n",
       "      <td>7415038</td>\n",
       "      <td>226.0</td>\n",
       "      <td>W</td>\n",
       "      <td>12473</td>\n",
       "      <td>555.0</td>\n",
       "      <td>150.0</td>\n",
       "      <td>visa</td>\n",
       "      <td>226.0</td>\n",
       "      <td>...</td>\n",
       "      <td>NaN</td>\n",
       "      <td>NaN</td>\n",
       "      <td>NaN</td>\n",
       "      <td>NaN</td>\n",
       "      <td>NaN</td>\n",
       "      <td>NaN</td>\n",
       "      <td>NaN</td>\n",
       "      <td>NaN</td>\n",
       "      <td>NaN</td>\n",
       "      <td>NaN</td>\n",
       "    </tr>\n",
       "    <tr>\n",
       "      <th>1</th>\n",
       "      <td>3287001</td>\n",
       "      <td>0</td>\n",
       "      <td>7415054</td>\n",
       "      <td>3072.0</td>\n",
       "      <td>W</td>\n",
       "      <td>15651</td>\n",
       "      <td>417.0</td>\n",
       "      <td>150.0</td>\n",
       "      <td>visa</td>\n",
       "      <td>226.0</td>\n",
       "      <td>...</td>\n",
       "      <td>NaN</td>\n",
       "      <td>NaN</td>\n",
       "      <td>NaN</td>\n",
       "      <td>NaN</td>\n",
       "      <td>NaN</td>\n",
       "      <td>NaN</td>\n",
       "      <td>NaN</td>\n",
       "      <td>NaN</td>\n",
       "      <td>NaN</td>\n",
       "      <td>NaN</td>\n",
       "    </tr>\n",
       "  </tbody>\n",
       "</table>\n",
       "<p>2 rows × 394 columns</p>\n",
       "</div>"
      ],
      "text/plain": [
       "   TransactionID  isFraud  TransactionDT  TransactionAmt ProductCD  card1  \\\n",
       "0        3287000        1        7415038           226.0         W  12473   \n",
       "1        3287001        0        7415054          3072.0         W  15651   \n",
       "\n",
       "   card2  card3 card4  card5  ... V330  V331  V332  V333  V334 V335 V336  \\\n",
       "0  555.0  150.0  visa  226.0  ...  NaN   NaN   NaN   NaN   NaN  NaN  NaN   \n",
       "1  417.0  150.0  visa  226.0  ...  NaN   NaN   NaN   NaN   NaN  NaN  NaN   \n",
       "\n",
       "   V337  V338  V339  \n",
       "0   NaN   NaN   NaN  \n",
       "1   NaN   NaN   NaN  \n",
       "\n",
       "[2 rows x 394 columns]"
      ]
     },
     "execution_count": 27,
     "metadata": {},
     "output_type": "execute_result"
    }
   ],
   "source": [
    "print(\"test.shape = {} rows, {} cols\".format(*test.shape))\n",
    "test.head(n=2)"
   ]
  },
  {
   "cell_type": "markdown",
   "metadata": {},
   "source": [
    "## Подготовка данных"
   ]
  },
  {
   "cell_type": "code",
   "execution_count": 68,
   "metadata": {},
   "outputs": [
    {
     "name": "stdout",
     "output_type": "stream",
     "text": [
      "Numerical Features Count: 377\n"
     ]
    }
   ],
   "source": [
    "seed = 42\n",
    "np.random.seed(seed)\n",
    "\n",
    "ID = 'TransactionID'\n",
    "DATE = 'TransactionDT'\n",
    "TARGET = 'isFraud'  # Target\n",
    "\n",
    "ALL_NUMERICAL_FEATS = train.select_dtypes(include=[np.number]).columns # Numerical + Target\n",
    "NUMERICAL_FEATS = ALL_NUMERICAL_FEATS.drop([TARGET, ID, DATE]) # Numerical only\n",
    "\n",
    "print(f\"Numerical Features Count: {len(NUMERICAL_FEATS)}\")"
   ]
  },
  {
   "cell_type": "markdown",
   "metadata": {},
   "source": [
    "## Задание 1: \n",
    "* сделать **Hold-Out валидацию** с разбиением, размер которого будет адеквтаным, по вашему мнению; \n",
    "    * разбиение проводить по id-транзакции (TransactionID), \n",
    "    * обучать модель градиетного бустинга любой реализации с подбором числа деревьев по early_stopping критерию до достижения сходимости. \n",
    "* Оценить качество модели на валидационной выборке, оценить расхождение по сравнению с качеством на обучающей выборке и валидационной выборке. \n",
    "* Оценить качество на ЛБ, сравнить с качеством на обучении и валидации. \n",
    "* Сделать выводы."
   ]
  },
  {
   "cell_type": "code",
   "execution_count": 29,
   "metadata": {},
   "outputs": [
    {
     "name": "stdout",
     "output_type": "stream",
     "text": [
      "X_train.shape = 125999 rows, 377 cols\n",
      "X_valid.shape = 54001 rows, 377 cols\n",
      "X_lb.shape = 100001 rows, 377 cols\n"
     ]
    }
   ],
   "source": [
    "# Hold-out Validation\n",
    "X = train[NUMERICAL_FEATS]\n",
    "y = train[TARGET]\n",
    "\n",
    "# LB Validation\n",
    "X_lb = test[NUMERICAL_FEATS]\n",
    "y_lb = test[TARGET]\n",
    "\n",
    "# Split train dataset\n",
    "X_train, X_valid = train_test_split(X, train_size=0.7, random_state=seed)\n",
    "y_train, y_valid = train_test_split(y, train_size=0.7, random_state=seed)\n",
    "\n",
    "print(\"X_train.shape = {} rows, {} cols\".format(*X_train.shape))\n",
    "print(\"X_valid.shape = {} rows, {} cols\".format(*X_valid.shape))\n",
    "print(\"X_lb.shape = {} rows, {} cols\".format(*X_lb.shape))"
   ]
  },
  {
   "cell_type": "code",
   "execution_count": 33,
   "metadata": {},
   "outputs": [],
   "source": [
    "params_cb = {\n",
    "    \"n_estimators\": 10000,\n",
    "    \"loss_function\": \"Logloss\",\n",
    "    \"eval_metric\": \"AUC\",\n",
    "    \"task_type\": \"CPU\",\n",
    "    \"max_bin\": 20,\n",
    "    \"verbose\": 100,\n",
    "    \"max_depth\": 6,\n",
    "    \"l2_leaf_reg\": 100,\n",
    "    \"early_stopping_rounds\": 50,\n",
    "    \"thread_count\": 6,\n",
    "    \"random_seed\": seed\n",
    "}"
   ]
  },
  {
   "cell_type": "code",
   "execution_count": 34,
   "metadata": {},
   "outputs": [
    {
     "name": "stdout",
     "output_type": "stream",
     "text": [
      "0:\ttest: 0.6903915\ttest1: 0.6871672\tbest: 0.6871672 (0)\ttotal: 318ms\tremaining: 52m 59s\n",
      "100:\ttest: 0.8579646\ttest1: 0.8562864\tbest: 0.8562864 (100)\ttotal: 12.2s\tremaining: 20m\n",
      "200:\ttest: 0.8721088\ttest1: 0.8697606\tbest: 0.8697908 (199)\ttotal: 24.9s\tremaining: 20m 15s\n",
      "300:\ttest: 0.8798911\ttest1: 0.8773946\tbest: 0.8773946 (300)\ttotal: 38.7s\tremaining: 20m 48s\n",
      "400:\ttest: 0.8846361\ttest1: 0.8812261\tbest: 0.8812261 (400)\ttotal: 51.2s\tremaining: 20m 25s\n",
      "500:\ttest: 0.8866103\ttest1: 0.8827566\tbest: 0.8827566 (500)\ttotal: 1m 2s\tremaining: 19m 50s\n",
      "600:\ttest: 0.8892288\ttest1: 0.8844781\tbest: 0.8844781 (600)\ttotal: 1m 14s\tremaining: 19m 32s\n",
      "700:\ttest: 0.8916340\ttest1: 0.8859422\tbest: 0.8859422 (700)\ttotal: 1m 26s\tremaining: 19m 13s\n",
      "800:\ttest: 0.8931918\ttest1: 0.8870555\tbest: 0.8870555 (800)\ttotal: 1m 39s\tremaining: 18m 57s\n",
      "900:\ttest: 0.8950127\ttest1: 0.8884505\tbest: 0.8884505 (900)\ttotal: 1m 51s\tremaining: 18m 44s\n",
      "1000:\ttest: 0.8969871\ttest1: 0.8898784\tbest: 0.8898784 (1000)\ttotal: 2m 3s\tremaining: 18m 32s\n",
      "1100:\ttest: 0.8988746\ttest1: 0.8909963\tbest: 0.8909963 (1100)\ttotal: 2m 15s\tremaining: 18m 17s\n",
      "1200:\ttest: 0.9000826\ttest1: 0.8917606\tbest: 0.8917606 (1200)\ttotal: 2m 27s\tremaining: 18m 1s\n",
      "1300:\ttest: 0.9001961\ttest1: 0.8918876\tbest: 0.8918876 (1300)\ttotal: 2m 38s\tremaining: 17m 42s\n",
      "1400:\ttest: 0.9002655\ttest1: 0.8919448\tbest: 0.8919448 (1400)\ttotal: 2m 51s\tremaining: 17m 31s\n",
      "1500:\ttest: 0.9002748\ttest1: 0.8919751\tbest: 0.8919751 (1500)\ttotal: 3m 2s\tremaining: 17m 15s\n",
      "1600:\ttest: 0.9004716\ttest1: 0.8921218\tbest: 0.8921218 (1600)\ttotal: 3m 14s\tremaining: 16m 58s\n",
      "1700:\ttest: 0.9008670\ttest1: 0.8923795\tbest: 0.8923795 (1700)\ttotal: 3m 25s\tremaining: 16m 42s\n",
      "1800:\ttest: 0.9010461\ttest1: 0.8924564\tbest: 0.8924569 (1794)\ttotal: 3m 36s\tremaining: 16m 26s\n",
      "1900:\ttest: 0.9011504\ttest1: 0.8925240\tbest: 0.8925240 (1900)\ttotal: 3m 47s\tremaining: 16m 10s\n",
      "2000:\ttest: 0.9012115\ttest1: 0.8925548\tbest: 0.8925548 (2000)\ttotal: 3m 58s\tremaining: 15m 54s\n",
      "2100:\ttest: 0.9013146\ttest1: 0.8926025\tbest: 0.8926027 (2093)\ttotal: 4m 9s\tremaining: 15m 39s\n",
      "2200:\ttest: 0.9015067\ttest1: 0.8927136\tbest: 0.8927145 (2192)\ttotal: 4m 20s\tremaining: 15m 23s\n",
      "2300:\ttest: 0.9022169\ttest1: 0.8932152\tbest: 0.8932154 (2298)\ttotal: 4m 31s\tremaining: 15m 9s\n",
      "2400:\ttest: 0.9027810\ttest1: 0.8935268\tbest: 0.8935272 (2397)\ttotal: 4m 42s\tremaining: 14m 55s\n",
      "2500:\ttest: 0.9034433\ttest1: 0.8940266\tbest: 0.8940346 (2490)\ttotal: 4m 54s\tremaining: 14m 41s\n",
      "2600:\ttest: 0.9041039\ttest1: 0.8946320\tbest: 0.8946320 (2600)\ttotal: 5m 5s\tremaining: 14m 28s\n",
      "2700:\ttest: 0.9048972\ttest1: 0.8951968\tbest: 0.8951973 (2696)\ttotal: 5m 16s\tremaining: 14m 16s\n",
      "2800:\ttest: 0.9058796\ttest1: 0.8958492\tbest: 0.8958508 (2796)\ttotal: 5m 28s\tremaining: 14m 3s\n",
      "2900:\ttest: 0.9067656\ttest1: 0.8964370\tbest: 0.8964442 (2897)\ttotal: 5m 40s\tremaining: 13m 52s\n",
      "3000:\ttest: 0.9076289\ttest1: 0.8969001\tbest: 0.8969001 (3000)\ttotal: 5m 52s\tremaining: 13m 41s\n",
      "3100:\ttest: 0.9084127\ttest1: 0.8973310\tbest: 0.8973310 (3100)\ttotal: 6m 3s\tremaining: 13m 29s\n",
      "3200:\ttest: 0.9091852\ttest1: 0.8977809\tbest: 0.8977809 (3200)\ttotal: 6m 15s\tremaining: 13m 17s\n",
      "3300:\ttest: 0.9100755\ttest1: 0.8983412\tbest: 0.8983412 (3300)\ttotal: 6m 27s\tremaining: 13m 6s\n",
      "3400:\ttest: 0.9110203\ttest1: 0.8990113\tbest: 0.8990133 (3396)\ttotal: 6m 39s\tremaining: 12m 54s\n",
      "3500:\ttest: 0.9120220\ttest1: 0.8994907\tbest: 0.8994907 (3500)\ttotal: 6m 50s\tremaining: 12m 42s\n",
      "3600:\ttest: 0.9129095\ttest1: 0.8999631\tbest: 0.8999637 (3599)\ttotal: 7m 2s\tremaining: 12m 30s\n",
      "3700:\ttest: 0.9134300\ttest1: 0.9002725\tbest: 0.9002736 (3691)\ttotal: 7m 13s\tremaining: 12m 18s\n",
      "3800:\ttest: 0.9140274\ttest1: 0.9006710\tbest: 0.9006710 (3800)\ttotal: 7m 25s\tremaining: 12m 5s\n",
      "3900:\ttest: 0.9147412\ttest1: 0.9012370\tbest: 0.9012370 (3898)\ttotal: 7m 36s\tremaining: 11m 53s\n",
      "4000:\ttest: 0.9151697\ttest1: 0.9014618\tbest: 0.9014618 (4000)\ttotal: 7m 48s\tremaining: 11m 41s\n",
      "4100:\ttest: 0.9156021\ttest1: 0.9016645\tbest: 0.9016645 (4100)\ttotal: 7m 59s\tremaining: 11m 29s\n",
      "4200:\ttest: 0.9160614\ttest1: 0.9019291\tbest: 0.9019292 (4199)\ttotal: 8m 11s\tremaining: 11m 17s\n",
      "4300:\ttest: 0.9166827\ttest1: 0.9023204\tbest: 0.9023204 (4300)\ttotal: 8m 22s\tremaining: 11m 6s\n",
      "4400:\ttest: 0.9172656\ttest1: 0.9027588\tbest: 0.9027606 (4396)\ttotal: 8m 35s\tremaining: 10m 55s\n",
      "4500:\ttest: 0.9177997\ttest1: 0.9030781\tbest: 0.9030837 (4494)\ttotal: 8m 47s\tremaining: 10m 44s\n",
      "4600:\ttest: 0.9184881\ttest1: 0.9034915\tbest: 0.9034920 (4599)\ttotal: 8m 59s\tremaining: 10m 33s\n",
      "4700:\ttest: 0.9191887\ttest1: 0.9038500\tbest: 0.9038500 (4700)\ttotal: 9m 12s\tremaining: 10m 22s\n",
      "4800:\ttest: 0.9197495\ttest1: 0.9042723\tbest: 0.9042748 (4798)\ttotal: 9m 24s\tremaining: 10m 10s\n",
      "4900:\ttest: 0.9201609\ttest1: 0.9045499\tbest: 0.9045499 (4900)\ttotal: 9m 36s\tremaining: 9m 59s\n",
      "5000:\ttest: 0.9210563\ttest1: 0.9051380\tbest: 0.9051381 (4996)\ttotal: 9m 48s\tremaining: 9m 48s\n",
      "5100:\ttest: 0.9219957\ttest1: 0.9057392\tbest: 0.9057403 (5099)\ttotal: 10m 1s\tremaining: 9m 37s\n",
      "5200:\ttest: 0.9226637\ttest1: 0.9061866\tbest: 0.9061866 (5200)\ttotal: 10m 13s\tremaining: 9m 25s\n",
      "5300:\ttest: 0.9233215\ttest1: 0.9065342\tbest: 0.9065342 (5299)\ttotal: 10m 25s\tremaining: 9m 14s\n",
      "5400:\ttest: 0.9238787\ttest1: 0.9069629\tbest: 0.9069629 (5400)\ttotal: 10m 37s\tremaining: 9m 2s\n",
      "5500:\ttest: 0.9243624\ttest1: 0.9071926\tbest: 0.9071939 (5499)\ttotal: 10m 49s\tremaining: 8m 50s\n",
      "5600:\ttest: 0.9245961\ttest1: 0.9073528\tbest: 0.9073528 (5600)\ttotal: 11m\tremaining: 8m 39s\n",
      "5700:\ttest: 0.9250895\ttest1: 0.9076494\tbest: 0.9076494 (5700)\ttotal: 11m 13s\tremaining: 8m 27s\n",
      "5800:\ttest: 0.9254903\ttest1: 0.9078897\tbest: 0.9078897 (5800)\ttotal: 11m 24s\tremaining: 8m 15s\n",
      "5900:\ttest: 0.9256810\ttest1: 0.9080201\tbest: 0.9080214 (5899)\ttotal: 11m 36s\tremaining: 8m 3s\n",
      "6000:\ttest: 0.9262107\ttest1: 0.9082883\tbest: 0.9082884 (5999)\ttotal: 11m 48s\tremaining: 7m 52s\n",
      "6100:\ttest: 0.9266235\ttest1: 0.9085199\tbest: 0.9085199 (6100)\ttotal: 12m 1s\tremaining: 7m 41s\n",
      "6200:\ttest: 0.9269763\ttest1: 0.9087483\tbest: 0.9087484 (6195)\ttotal: 12m 14s\tremaining: 7m 29s\n",
      "6300:\ttest: 0.9272819\ttest1: 0.9089348\tbest: 0.9089348 (6300)\ttotal: 12m 26s\tremaining: 7m 17s\n",
      "6400:\ttest: 0.9277235\ttest1: 0.9091947\tbest: 0.9091947 (6400)\ttotal: 12m 37s\tremaining: 7m 6s\n",
      "6500:\ttest: 0.9280528\ttest1: 0.9093633\tbest: 0.9093673 (6499)\ttotal: 12m 49s\tremaining: 6m 54s\n",
      "6600:\ttest: 0.9284282\ttest1: 0.9095632\tbest: 0.9095632 (6600)\ttotal: 13m 1s\tremaining: 6m 42s\n",
      "6700:\ttest: 0.9287885\ttest1: 0.9098098\tbest: 0.9098098 (6700)\ttotal: 13m 14s\tremaining: 6m 30s\n",
      "6800:\ttest: 0.9292349\ttest1: 0.9100542\tbest: 0.9100542 (6800)\ttotal: 13m 26s\tremaining: 6m 19s\n",
      "6900:\ttest: 0.9296195\ttest1: 0.9102155\tbest: 0.9102349 (6897)\ttotal: 13m 38s\tremaining: 6m 7s\n",
      "Stopped by overfitting detector  (50 iterations wait)\n",
      "\n",
      "bestTest = 0.9102349049\n",
      "bestIteration = 6897\n",
      "\n",
      "Shrink model to first 6898 iterations.\n",
      "Wall time: 13min 47s\n"
     ]
    },
    {
     "data": {
      "text/plain": [
       "<catboost.core.CatBoostClassifier at 0x1e424aa4a30>"
      ]
     },
     "execution_count": 34,
     "metadata": {},
     "output_type": "execute_result"
    }
   ],
   "source": [
    "%%time\n",
    "\n",
    "model_cb = cb.CatBoostClassifier(**params_cb)\n",
    "model_cb.fit(X=X_train, y=y_train, \n",
    "          eval_set=[(X_train, y_train), (X_valid, y_valid)],\n",
    "         )"
   ]
  },
  {
   "cell_type": "code",
   "execution_count": 35,
   "metadata": {},
   "outputs": [
    {
     "name": "stdout",
     "output_type": "stream",
     "text": [
      "Hold-Out Train splitted validation\n",
      "Train-score: 0.93, Valid-score: 0.91, LB-score: 0.866\n"
     ]
    }
   ],
   "source": [
    "train_score = roc_auc_score(y_train, model_cb.predict_proba(X_train)[:, 1:])\n",
    "valid_score = roc_auc_score(y_valid, model_cb.predict_proba(X_valid)[:, 1:])\n",
    "lb_score = roc_auc_score(y_lb, model_cb.predict_proba(X_lb)[:, 1:])\n",
    "\n",
    "print(f\"Hold-Out Train splitted validation\")\n",
    "print(f\"Train-score: {round(train_score, 3)}, Valid-score: {round(valid_score, 3)}, LB-score: {round(lb_score, 3)}\")"
   ]
  },
  {
   "cell_type": "markdown",
   "metadata": {},
   "source": [
    "**Вывод**\n",
    "\n",
    "Значение метрики качества:\n",
    "* на обучающей выборке (0.93) выше, чем на валидационной выборке (0.91). Данная модель классификации переобучена.\n",
    "* на валидационной выборке (0.91) и на лидерборде (0.866) не совпадают близко. Валидация не является качественной и устойчивой."
   ]
  },
  {
   "cell_type": "markdown",
   "metadata": {},
   "source": [
    "## Задание 2: \n",
    "* сделать **Hold-Out валидацию с разбиением на 3 выборки**, разбиение проводить по id-транзакции (TransactionID), размер каждой выборки подобрать самостоятельно. \n",
    "* Повторить процедуру из п.1. для каждой выборки."
   ]
  },
  {
   "cell_type": "code",
   "execution_count": 36,
   "metadata": {},
   "outputs": [
    {
     "name": "stdout",
     "output_type": "stream",
     "text": [
      "X_train.shape = 125999 rows, 377 cols\n",
      "X_valid.shape = 37800 rows, 377 cols\n",
      "X_test.shape = 16201 rows, 377 cols\n"
     ]
    }
   ],
   "source": [
    "X = train[NUMERICAL_FEATS]\n",
    "y = train[TARGET]\n",
    "\n",
    "X_train, X_valid = train_test_split(X, train_size=0.7, random_state=seed)\n",
    "y_train, y_valid = train_test_split(y, train_size=0.7, random_state=seed)\n",
    "\n",
    "X_valid, X_test = train_test_split(X_valid, train_size=0.7, random_state=seed)\n",
    "y_valid, y_test = train_test_split(y_valid, train_size=0.7, random_state=seed)\n",
    "\n",
    "\n",
    "print(\"X_train.shape = {} rows, {} cols\".format(*X_train.shape))\n",
    "print(\"X_valid.shape = {} rows, {} cols\".format(*X_valid.shape))\n",
    "print(\"X_test.shape = {} rows, {} cols\".format(*X_test.shape))"
   ]
  },
  {
   "cell_type": "code",
   "execution_count": 37,
   "metadata": {},
   "outputs": [
    {
     "name": "stdout",
     "output_type": "stream",
     "text": [
      "0:\ttest: 0.6903915\ttest1: 0.6928477\tbest: 0.6928477 (0)\ttotal: 157ms\tremaining: 26m 14s\n",
      "100:\ttest: 0.8579646\ttest1: 0.8594631\tbest: 0.8594631 (100)\ttotal: 12.7s\tremaining: 20m 43s\n",
      "200:\ttest: 0.8721088\ttest1: 0.8729172\tbest: 0.8729406 (199)\ttotal: 25.7s\tremaining: 20m 53s\n",
      "300:\ttest: 0.8798911\ttest1: 0.8805099\tbest: 0.8805099 (300)\ttotal: 38.4s\tremaining: 20m 36s\n",
      "400:\ttest: 0.8846361\ttest1: 0.8841345\tbest: 0.8841345 (400)\ttotal: 51s\tremaining: 20m 21s\n",
      "500:\ttest: 0.8866103\ttest1: 0.8856154\tbest: 0.8856154 (500)\ttotal: 1m 2s\tremaining: 19m 50s\n",
      "600:\ttest: 0.8892288\ttest1: 0.8872061\tbest: 0.8872061 (600)\ttotal: 1m 15s\tremaining: 19m 35s\n",
      "700:\ttest: 0.8916340\ttest1: 0.8884069\tbest: 0.8884069 (700)\ttotal: 1m 27s\tremaining: 19m 16s\n",
      "800:\ttest: 0.8931918\ttest1: 0.8893775\tbest: 0.8893775 (800)\ttotal: 1m 39s\tremaining: 18m 58s\n",
      "900:\ttest: 0.8950127\ttest1: 0.8906307\tbest: 0.8906307 (900)\ttotal: 1m 51s\tremaining: 18m 45s\n",
      "1000:\ttest: 0.8969871\ttest1: 0.8918934\tbest: 0.8918934 (1000)\ttotal: 2m 4s\tremaining: 18m 36s\n",
      "1100:\ttest: 0.8988746\ttest1: 0.8929693\tbest: 0.8929693 (1100)\ttotal: 2m 16s\tremaining: 18m 21s\n",
      "1200:\ttest: 0.9000826\ttest1: 0.8937848\tbest: 0.8937848 (1200)\ttotal: 2m 28s\tremaining: 18m 4s\n",
      "1300:\ttest: 0.9001961\ttest1: 0.8939128\tbest: 0.8939128 (1300)\ttotal: 2m 39s\tremaining: 17m 48s\n",
      "1400:\ttest: 0.9002655\ttest1: 0.8939950\tbest: 0.8939950 (1400)\ttotal: 2m 51s\tremaining: 17m 35s\n",
      "1500:\ttest: 0.9002748\ttest1: 0.8940386\tbest: 0.8940386 (1500)\ttotal: 3m 3s\tremaining: 17m 16s\n",
      "1600:\ttest: 0.9004716\ttest1: 0.8941707\tbest: 0.8941707 (1600)\ttotal: 3m 14s\tremaining: 16m 57s\n",
      "1700:\ttest: 0.9008670\ttest1: 0.8943954\tbest: 0.8943954 (1698)\ttotal: 3m 25s\tremaining: 16m 43s\n",
      "1800:\ttest: 0.9010461\ttest1: 0.8944505\tbest: 0.8944514 (1784)\ttotal: 3m 37s\tremaining: 16m 29s\n",
      "1900:\ttest: 0.9011504\ttest1: 0.8945093\tbest: 0.8945093 (1900)\ttotal: 3m 48s\tremaining: 16m 14s\n",
      "2000:\ttest: 0.9012115\ttest1: 0.8945454\tbest: 0.8945454 (1999)\ttotal: 3m 59s\tremaining: 15m 58s\n",
      "2100:\ttest: 0.9013146\ttest1: 0.8945899\tbest: 0.8945900 (2099)\ttotal: 4m 10s\tremaining: 15m 43s\n",
      "2200:\ttest: 0.9015067\ttest1: 0.8946495\tbest: 0.8946497 (2199)\ttotal: 4m 21s\tremaining: 15m 27s\n",
      "2300:\ttest: 0.9022169\ttest1: 0.8951219\tbest: 0.8951220 (2298)\ttotal: 4m 33s\tremaining: 15m 14s\n",
      "2400:\ttest: 0.9027810\ttest1: 0.8953613\tbest: 0.8953680 (2390)\ttotal: 4m 44s\tremaining: 14m 59s\n",
      "2500:\ttest: 0.9034433\ttest1: 0.8957945\tbest: 0.8958056 (2490)\ttotal: 4m 55s\tremaining: 14m 45s\n",
      "2600:\ttest: 0.9041039\ttest1: 0.8963442\tbest: 0.8963442 (2600)\ttotal: 5m 6s\tremaining: 14m 32s\n",
      "2700:\ttest: 0.9048972\ttest1: 0.8969262\tbest: 0.8969268 (2696)\ttotal: 5m 18s\tremaining: 14m 19s\n",
      "2800:\ttest: 0.9058796\ttest1: 0.8974985\tbest: 0.8975008 (2796)\ttotal: 5m 30s\tremaining: 14m 10s\n",
      "2900:\ttest: 0.9067656\ttest1: 0.8980834\tbest: 0.8980929 (2897)\ttotal: 5m 43s\tremaining: 14m\n",
      "3000:\ttest: 0.9076289\ttest1: 0.8984793\tbest: 0.8984793 (3000)\ttotal: 5m 55s\tremaining: 13m 48s\n",
      "3100:\ttest: 0.9084127\ttest1: 0.8988102\tbest: 0.8988143 (3096)\ttotal: 6m 6s\tremaining: 13m 35s\n",
      "3200:\ttest: 0.9091852\ttest1: 0.8991737\tbest: 0.8991737 (3200)\ttotal: 6m 18s\tremaining: 13m 23s\n",
      "3300:\ttest: 0.9100755\ttest1: 0.8996269\tbest: 0.8996269 (3300)\ttotal: 6m 29s\tremaining: 13m 11s\n",
      "3400:\ttest: 0.9110203\ttest1: 0.9002734\tbest: 0.9002755 (3396)\ttotal: 6m 41s\tremaining: 12m 58s\n",
      "3500:\ttest: 0.9120220\ttest1: 0.9006478\tbest: 0.9006478 (3500)\ttotal: 6m 53s\tremaining: 12m 47s\n",
      "3600:\ttest: 0.9129095\ttest1: 0.9010914\tbest: 0.9010914 (3600)\ttotal: 7m 4s\tremaining: 12m 35s\n",
      "3700:\ttest: 0.9134300\ttest1: 0.9013608\tbest: 0.9013617 (3692)\ttotal: 7m 16s\tremaining: 12m 22s\n",
      "3800:\ttest: 0.9140274\ttest1: 0.9017453\tbest: 0.9017453 (3800)\ttotal: 7m 27s\tremaining: 12m 10s\n",
      "3900:\ttest: 0.9147412\ttest1: 0.9022840\tbest: 0.9022840 (3898)\ttotal: 7m 38s\tremaining: 11m 57s\n",
      "4000:\ttest: 0.9151697\ttest1: 0.9024977\tbest: 0.9025014 (3998)\ttotal: 7m 49s\tremaining: 11m 44s\n",
      "4100:\ttest: 0.9156021\ttest1: 0.9027737\tbest: 0.9027737 (4100)\ttotal: 8m 1s\tremaining: 11m 33s\n",
      "4200:\ttest: 0.9160614\ttest1: 0.9030349\tbest: 0.9030351 (4199)\ttotal: 8m 13s\tremaining: 11m 20s\n",
      "4300:\ttest: 0.9166827\ttest1: 0.9033810\tbest: 0.9033810 (4300)\ttotal: 8m 24s\tremaining: 11m 8s\n",
      "4400:\ttest: 0.9172656\ttest1: 0.9037901\tbest: 0.9037992 (4397)\ttotal: 8m 36s\tremaining: 10m 57s\n",
      "4500:\ttest: 0.9177997\ttest1: 0.9040866\tbest: 0.9040911 (4494)\ttotal: 8m 49s\tremaining: 10m 47s\n",
      "4600:\ttest: 0.9184881\ttest1: 0.9044051\tbest: 0.9044072 (4598)\ttotal: 9m 1s\tremaining: 10m 35s\n",
      "4700:\ttest: 0.9191887\ttest1: 0.9047231\tbest: 0.9047231 (4700)\ttotal: 9m 14s\tremaining: 10m 24s\n",
      "4800:\ttest: 0.9197495\ttest1: 0.9050759\tbest: 0.9050784 (4798)\ttotal: 9m 26s\tremaining: 10m 13s\n",
      "4900:\ttest: 0.9201609\ttest1: 0.9053065\tbest: 0.9053065 (4900)\ttotal: 9m 38s\tremaining: 10m 1s\n",
      "5000:\ttest: 0.9210563\ttest1: 0.9058129\tbest: 0.9058129 (5000)\ttotal: 9m 50s\tremaining: 9m 50s\n",
      "5100:\ttest: 0.9219957\ttest1: 0.9062637\tbest: 0.9062651 (5099)\ttotal: 10m 2s\tremaining: 9m 38s\n",
      "5200:\ttest: 0.9226637\ttest1: 0.9066791\tbest: 0.9066791 (5200)\ttotal: 10m 14s\tremaining: 9m 27s\n",
      "5300:\ttest: 0.9233215\ttest1: 0.9070267\tbest: 0.9070267 (5300)\ttotal: 10m 26s\tremaining: 9m 15s\n",
      "5400:\ttest: 0.9238787\ttest1: 0.9074239\tbest: 0.9074338 (5399)\ttotal: 10m 38s\tremaining: 9m 3s\n",
      "5500:\ttest: 0.9243624\ttest1: 0.9076499\tbest: 0.9076518 (5499)\ttotal: 10m 50s\tremaining: 8m 51s\n",
      "5600:\ttest: 0.9245961\ttest1: 0.9078220\tbest: 0.9078220 (5600)\ttotal: 11m 2s\tremaining: 8m 39s\n",
      "5700:\ttest: 0.9250895\ttest1: 0.9081152\tbest: 0.9081152 (5700)\ttotal: 11m 14s\tremaining: 8m 28s\n",
      "5800:\ttest: 0.9254903\ttest1: 0.9083123\tbest: 0.9083123 (5800)\ttotal: 11m 26s\tremaining: 8m 16s\n",
      "5900:\ttest: 0.9256810\ttest1: 0.9084588\tbest: 0.9084599 (5899)\ttotal: 11m 37s\tremaining: 8m 4s\n",
      "6000:\ttest: 0.9262107\ttest1: 0.9086955\tbest: 0.9086956 (5999)\ttotal: 11m 49s\tremaining: 7m 53s\n",
      "6100:\ttest: 0.9266235\ttest1: 0.9088717\tbest: 0.9088802 (6084)\ttotal: 12m 1s\tremaining: 7m 41s\n",
      "6200:\ttest: 0.9269763\ttest1: 0.9090843\tbest: 0.9090843 (6200)\ttotal: 12m 13s\tremaining: 7m 29s\n",
      "6300:\ttest: 0.9272819\ttest1: 0.9092337\tbest: 0.9092337 (6299)\ttotal: 12m 25s\tremaining: 7m 17s\n",
      "6400:\ttest: 0.9277235\ttest1: 0.9095037\tbest: 0.9095037 (6400)\ttotal: 12m 37s\tremaining: 7m 5s\n",
      "6500:\ttest: 0.9280528\ttest1: 0.9096722\tbest: 0.9096737 (6499)\ttotal: 12m 49s\tremaining: 6m 54s\n",
      "6600:\ttest: 0.9284282\ttest1: 0.9098262\tbest: 0.9098262 (6600)\ttotal: 13m 1s\tremaining: 6m 42s\n",
      "6700:\ttest: 0.9287885\ttest1: 0.9100677\tbest: 0.9100677 (6700)\ttotal: 13m 13s\tremaining: 6m 30s\n",
      "6800:\ttest: 0.9292349\ttest1: 0.9102851\tbest: 0.9102883 (6797)\ttotal: 13m 25s\tremaining: 6m 19s\n",
      "6900:\ttest: 0.9296195\ttest1: 0.9104094\tbest: 0.9104277 (6893)\ttotal: 13m 37s\tremaining: 6m 7s\n",
      "7000:\ttest: 0.9298388\ttest1: 0.9105043\tbest: 0.9105043 (7000)\ttotal: 13m 49s\tremaining: 5m 55s\n",
      "7100:\ttest: 0.9302805\ttest1: 0.9106984\tbest: 0.9106984 (7100)\ttotal: 14m 2s\tremaining: 5m 43s\n",
      "7200:\ttest: 0.9306641\ttest1: 0.9108719\tbest: 0.9108719 (7200)\ttotal: 14m 15s\tremaining: 5m 32s\n",
      "7300:\ttest: 0.9310268\ttest1: 0.9109925\tbest: 0.9110068 (7268)\ttotal: 14m 26s\tremaining: 5m 20s\n",
      "7400:\ttest: 0.9313545\ttest1: 0.9111712\tbest: 0.9111715 (7398)\ttotal: 14m 38s\tremaining: 5m 8s\n",
      "7500:\ttest: 0.9317754\ttest1: 0.9113531\tbest: 0.9113532 (7499)\ttotal: 14m 49s\tremaining: 4m 56s\n",
      "7600:\ttest: 0.9321478\ttest1: 0.9115359\tbest: 0.9115359 (7600)\ttotal: 15m 1s\tremaining: 4m 44s\n",
      "7700:\ttest: 0.9323957\ttest1: 0.9116750\tbest: 0.9116750 (7700)\ttotal: 15m 13s\tremaining: 4m 32s\n",
      "7800:\ttest: 0.9326455\ttest1: 0.9117468\tbest: 0.9117486 (7780)\ttotal: 15m 24s\tremaining: 4m 20s\n",
      "7900:\ttest: 0.9330761\ttest1: 0.9119458\tbest: 0.9119463 (7898)\ttotal: 15m 36s\tremaining: 4m 8s\n",
      "8000:\ttest: 0.9334297\ttest1: 0.9120825\tbest: 0.9120972 (7985)\ttotal: 15m 48s\tremaining: 3m 57s\n",
      "8100:\ttest: 0.9337219\ttest1: 0.9122478\tbest: 0.9122489 (8091)\ttotal: 16m\tremaining: 3m 45s\n",
      "8200:\ttest: 0.9341047\ttest1: 0.9124953\tbest: 0.9124959 (8199)\ttotal: 16m 12s\tremaining: 3m 33s\n",
      "8300:\ttest: 0.9346151\ttest1: 0.9127875\tbest: 0.9127877 (8299)\ttotal: 16m 24s\tremaining: 3m 21s\n",
      "8400:\ttest: 0.9350315\ttest1: 0.9129345\tbest: 0.9129428 (8392)\ttotal: 16m 36s\tremaining: 3m 9s\n",
      "8500:\ttest: 0.9354305\ttest1: 0.9131883\tbest: 0.9131883 (8500)\ttotal: 16m 48s\tremaining: 2m 57s\n",
      "8600:\ttest: 0.9358094\ttest1: 0.9133205\tbest: 0.9133261 (8589)\ttotal: 17m 1s\tremaining: 2m 46s\n"
     ]
    },
    {
     "name": "stdout",
     "output_type": "stream",
     "text": [
      "8700:\ttest: 0.9360623\ttest1: 0.9133860\tbest: 0.9133869 (8699)\ttotal: 17m 13s\tremaining: 2m 34s\n",
      "8800:\ttest: 0.9362986\ttest1: 0.9135542\tbest: 0.9135542 (8800)\ttotal: 17m 25s\tremaining: 2m 22s\n",
      "8900:\ttest: 0.9365232\ttest1: 0.9136406\tbest: 0.9136406 (8900)\ttotal: 17m 38s\tremaining: 2m 10s\n",
      "9000:\ttest: 0.9367801\ttest1: 0.9137302\tbest: 0.9137475 (8990)\ttotal: 17m 49s\tremaining: 1m 58s\n",
      "9100:\ttest: 0.9370629\ttest1: 0.9138046\tbest: 0.9138098 (9089)\ttotal: 18m 2s\tremaining: 1m 46s\n",
      "9200:\ttest: 0.9375059\ttest1: 0.9139991\tbest: 0.9140052 (9198)\ttotal: 18m 14s\tremaining: 1m 35s\n",
      "9300:\ttest: 0.9378221\ttest1: 0.9141188\tbest: 0.9141233 (9287)\ttotal: 18m 27s\tremaining: 1m 23s\n",
      "9400:\ttest: 0.9381916\ttest1: 0.9142690\tbest: 0.9142690 (9400)\ttotal: 18m 39s\tremaining: 1m 11s\n",
      "9500:\ttest: 0.9385141\ttest1: 0.9144016\tbest: 0.9144078 (9491)\ttotal: 18m 51s\tremaining: 59.4s\n",
      "9600:\ttest: 0.9389372\ttest1: 0.9145280\tbest: 0.9145294 (9598)\ttotal: 19m 4s\tremaining: 47.6s\n",
      "9700:\ttest: 0.9393091\ttest1: 0.9147000\tbest: 0.9147000 (9700)\ttotal: 19m 16s\tremaining: 35.7s\n",
      "9800:\ttest: 0.9395563\ttest1: 0.9147908\tbest: 0.9147925 (9798)\ttotal: 19m 29s\tremaining: 23.7s\n",
      "9900:\ttest: 0.9398962\ttest1: 0.9149149\tbest: 0.9149219 (9889)\ttotal: 19m 42s\tremaining: 11.8s\n",
      "9999:\ttest: 0.9401062\ttest1: 0.9149913\tbest: 0.9149998 (9989)\ttotal: 19m 56s\tremaining: 0us\n",
      "\n",
      "bestTest = 0.9149998086\n",
      "bestIteration = 9989\n",
      "\n",
      "Shrink model to first 9990 iterations.\n",
      "Wall time: 20min 1s\n"
     ]
    },
    {
     "data": {
      "text/plain": [
       "<catboost.core.CatBoostClassifier at 0x1e424aa4e50>"
      ]
     },
     "execution_count": 37,
     "metadata": {},
     "output_type": "execute_result"
    }
   ],
   "source": [
    "%%time\n",
    "\n",
    "model_cb_3 = cb.CatBoostClassifier(**params_cb)\n",
    "model_cb_3.fit(X=X_train, y=y_train, \n",
    "          eval_set=[(X_train, y_train), (X_valid, y_valid)],\n",
    "         )"
   ]
  },
  {
   "cell_type": "code",
   "execution_count": 38,
   "metadata": {},
   "outputs": [
    {
     "name": "stdout",
     "output_type": "stream",
     "text": [
      "Train-score: 0.94, Valid-score: 0.915,    Test-score: 0.916, LB-score: 0.861\n"
     ]
    }
   ],
   "source": [
    "train_score = roc_auc_score(y_train, model_cb_3.predict_proba(X_train)[:, 1:])\n",
    "valid_score = roc_auc_score(y_valid, model_cb_3.predict_proba(X_valid)[:, 1:])\n",
    "test_score = roc_auc_score(y_test, model_cb_3.predict_proba(X_test)[:, 1:])\n",
    "lb_score = roc_auc_score(y_lb, model_cb_3.predict_proba(X_lb)[:, 1:])\n",
    "\n",
    "print(f\"Train-score: {round(train_score, 3)}, Valid-score: {round(valid_score, 3)},\\\n",
    "    Test-score: {round(test_score, 3)}, LB-score: {round(lb_score, 3)}\")"
   ]
  },
  {
   "cell_type": "markdown",
   "metadata": {},
   "source": [
    "**Вывод**\n",
    "\n",
    "Значение метрики качества:\n",
    "\n",
    "* на Hold-Out валидации с разбиением на 3 выборки не лучше, чем на Hold-Out валидации с разбиением на 2 выборки.\n",
    "* на лидерборде по прежнему не близко к значениям на других выборках.  Hold-Out валидация с разбиением на 3 выборки не является устойчивой "
   ]
  },
  {
   "cell_type": "markdown",
   "metadata": {},
   "source": [
    "## Задание 3: \n",
    "* построить доверительный интервал на данных из п.2 на основе бутстреп выборок, оценить качество модели на ЛБ относительно полученного доверительного интервала. \n",
    "* Сделать выводы."
   ]
  },
  {
   "cell_type": "code",
   "execution_count": 39,
   "metadata": {},
   "outputs": [],
   "source": [
    "def create_bootstrap_samples(data: np.array, n_samples: int = 1000) -> np.array:\n",
    "    \n",
    "    bootstrap_idx = np.random.randint(\n",
    "        low=0, high=len(data), size=(n_samples, len(data))\n",
    "    )\n",
    "    return bootstrap_idx\n",
    "\n",
    "\n",
    "def create_bootstrap_metrics(y_true: np.array,\n",
    "                             y_pred: np.array,\n",
    "                             metric: callable,\n",
    "                             n_samlpes: int = 1000) -> List[float]:\n",
    "   \n",
    "    scores = []\n",
    "\n",
    "    if isinstance(y_true, pd.Series):\n",
    "        y_true = y_true.values\n",
    "\n",
    "    bootstrap_idx = create_bootstrap_samples(y_true)\n",
    "    for idx in bootstrap_idx:\n",
    "        y_true_bootstrap = y_true[idx]\n",
    "        y_pred_bootstrap = y_pred[idx]\n",
    "\n",
    "        score = metric(y_true_bootstrap, y_pred_bootstrap)\n",
    "        scores.append(score)\n",
    "\n",
    "    return scores\n",
    "\n",
    "\n",
    "def calculate_confidence_interval(scores: list, conf_interval: float = 0.95) -> Tuple[float]:\n",
    "   \n",
    "    left_bound = np.percentile(\n",
    "        scores, ((1 - conf_interval) / 2) * 100\n",
    "    )\n",
    "    right_bound = np.percentile(\n",
    "        scores, (conf_interval + ((1 - conf_interval) / 2)) * 100\n",
    "    )\n",
    "\n",
    "    return left_bound, right_bound"
   ]
  },
  {
   "cell_type": "code",
   "execution_count": 41,
   "metadata": {},
   "outputs": [
    {
     "data": {
      "text/plain": [
       "(0.8543013424632103, 0.8683102804536876)"
      ]
     },
     "execution_count": 41,
     "metadata": {},
     "output_type": "execute_result"
    }
   ],
   "source": [
    "scores = create_bootstrap_metrics(y_lb, model_cb_3.predict_proba(X_lb)[:, 1:], roc_auc_score)\n",
    "\n",
    "calculate_confidence_interval(scores)"
   ]
  },
  {
   "cell_type": "code",
   "execution_count": 42,
   "metadata": {},
   "outputs": [
    {
     "data": {
      "text/plain": [
       "Text(0.5, 0, 'sampel number')"
      ]
     },
     "execution_count": 42,
     "metadata": {},
     "output_type": "execute_result"
    },
    {
     "data": {
      "image/png": "[encoded data removed]",
      "text/plain": [
       "<Figure size 1080x360 with 2 Axes>"
      ]
     },
     "metadata": {
      "needs_background": "light"
     },
     "output_type": "display_data"
    }
   ],
   "source": [
    "fig, axes = plt.subplots(1, 2, figsize=(15, 5))\n",
    "plt.suptitle(\"Bootstrap for evaluating validation stability\", size=15)\n",
    "axes[1].scatter(range(len(scores)), scores, alpha=0.25, color=\"blue\")\n",
    "axes[1].set_xlabel(\"sampel number\", size=15)\n",
    "axes[1].set_ylabel(\"$R^2$ score\", size=15)\n",
    "\n",
    "sns.distplot(scores, ax=axes[0], color=\"green\", bins=20)\n",
    "axes[0].set_xlabel(\"sampel number\", size=15)"
   ]
  },
  {
   "cell_type": "markdown",
   "metadata": {},
   "source": [
    "**Вывод**\n",
    "\n",
    "* Значение метрики на лидерборде (0.861) находится в пределах доверительного интервала от 0.854 до 0.868. \n",
    "* Hold-Out валидация с разбиением на 3 выборки является устойчивой."
   ]
  },
  {
   "cell_type": "markdown",
   "metadata": {},
   "source": [
    "## Задание 4: \n",
    "* выполнить **Adversarial Validation**, подобрать объекты из обучающей выборки, которые сильно похожи на объекты из **assignment_2_test.csv**, и использовать их в качестве валидационного набора.\n",
    "* Оценить качество модели на ЛБ, сделать выводы о полученных результатах."
   ]
  },
  {
   "cell_type": "code",
   "execution_count": 43,
   "metadata": {},
   "outputs": [],
   "source": [
    "x_train = train[NUMERICAL_FEATS].copy()\n",
    "x_lb = test[NUMERICAL_FEATS].copy()\n",
    "y_train = train[TARGET].copy()"
   ]
  },
  {
   "cell_type": "code",
   "execution_count": 44,
   "metadata": {},
   "outputs": [],
   "source": [
    "x_adv = pd.concat([\n",
    "    x_train, x_lb], axis=0\n",
    ")\n",
    "y_adv = np.hstack((np.zeros(x_train.shape[0]), np.ones(x_lb.shape[0])))\n",
    "assert x_adv.shape[0] == y_adv.shape[0]"
   ]
  },
  {
   "cell_type": "code",
   "execution_count": 45,
   "metadata": {},
   "outputs": [
    {
     "name": "stdout",
     "output_type": "stream",
     "text": [
      "[12:20:39] WARNING: D:\\bld\\xgboost-split_1631904903843\\work\\src\\learner.cc:1095: Starting in XGBoost 1.3.0, the default evaluation metric used with the objective 'binary:logistic' was changed from 'error' to 'logloss'. Explicitly set eval_metric if you'd like to restore the old behavior.\n",
      "Wall time: 42.5 s\n"
     ]
    },
    {
     "data": {
      "text/plain": [
       "XGBClassifier(base_score=0.5, booster='gbtree', colsample_bylevel=1,\n",
       "              colsample_bynode=1, colsample_bytree=1, gamma=0, gpu_id=-1,\n",
       "              importance_type='gain', interaction_constraints='',\n",
       "              learning_rate=0.300000012, max_delta_step=0, max_depth=6,\n",
       "              min_child_weight=1, missing=nan, monotone_constraints='()',\n",
       "              n_estimators=25, n_jobs=8, num_parallel_tree=1, random_state=0,\n",
       "              reg_alpha=0, reg_lambda=1, scale_pos_weight=1, subsample=1,\n",
       "              tree_method='exact', validate_parameters=1, verbosity=None)"
      ]
     },
     "execution_count": 45,
     "metadata": {},
     "output_type": "execute_result"
    }
   ],
   "source": [
    "%%time\n",
    "\n",
    "model_adv = xgb.XGBClassifier(n_estimators=25)\n",
    "model_adv.fit(x_adv, y_adv)"
   ]
  },
  {
   "cell_type": "code",
   "execution_count": 46,
   "metadata": {},
   "outputs": [
    {
     "name": "stdout",
     "output_type": "stream",
     "text": [
      "0.894\n"
     ]
    }
   ],
   "source": [
    "y_pred_adv = model_adv.predict_proba(x_adv)\n",
    "score = roc_auc_score(y_adv, y_pred_adv[:, 1])\n",
    "print(round(score, 4))"
   ]
  },
  {
   "cell_type": "code",
   "execution_count": 48,
   "metadata": {
    "scrolled": true
   },
   "outputs": [
    {
     "data": {
      "text/plain": [
       "(0.0, 0.1]    33168\n",
       "(0.1, 0.2]    94159\n",
       "(0.2, 0.3]    29462\n",
       "(0.3, 0.4]    33410\n",
       "(0.4, 0.5]    25165\n",
       "(0.5, 0.6]    12985\n",
       "(0.6, 0.7]     3295\n",
       "(0.7, 0.8]     1672\n",
       "(0.8, 0.9]     3019\n",
       "(0.9, 1.0]    43666\n",
       "dtype: int64"
      ]
     },
     "execution_count": 48,
     "metadata": {},
     "output_type": "execute_result"
    }
   ],
   "source": [
    "pd.cut(\n",
    "    y_pred_adv[:, 1], bins=np.arange(0, 1.01, 0.1)\n",
    ").value_counts().sort_index()"
   ]
  },
  {
   "cell_type": "markdown",
   "metadata": {},
   "source": [
    "**Вывод**\n",
    "\n",
    "* roc_auc_score = 0.894 (ближе к 1, чем к 0.5) . Модель классификации может отличить тестовую выборку от обучающей выборки, поэтому можно предполагать, что выборки имеют разные распределения. "
   ]
  },
  {
   "cell_type": "markdown",
   "metadata": {},
   "source": [
    "## Задание 5:\n",
    "* сделать **KFold / StratifiedKFold валидацию** (на ваше усмотрение), оценить получаемые качество и разброс по метрике качества. \n",
    "* Сделать выводы об устойчивости кросс-валидации, сходимости оценки на кросс-валидации и отложенном наборе данных; \n",
    "* Оценить качество на ЛБ, сделать выводы."
   ]
  },
  {
   "cell_type": "code",
   "execution_count": 54,
   "metadata": {},
   "outputs": [
    {
     "name": "stdout",
     "output_type": "stream",
     "text": [
      "[13:04:53] WARNING: D:\\bld\\xgboost-split_1631904903843\\work\\src\\learner.cc:1095: Starting in XGBoost 1.3.0, the default evaluation metric used with the objective 'binary:logistic' was changed from 'error' to 'logloss'. Explicitly set eval_metric if you'd like to restore the old behavior.\n",
      "[13:05:15] WARNING: D:\\bld\\xgboost-split_1631904903843\\work\\src\\learner.cc:1095: Starting in XGBoost 1.3.0, the default evaluation metric used with the objective 'binary:logistic' was changed from 'error' to 'logloss'. Explicitly set eval_metric if you'd like to restore the old behavior.\n",
      "[13:05:37] WARNING: D:\\bld\\xgboost-split_1631904903843\\work\\src\\learner.cc:1095: Starting in XGBoost 1.3.0, the default evaluation metric used with the objective 'binary:logistic' was changed from 'error' to 'logloss'. Explicitly set eval_metric if you'd like to restore the old behavior.\n",
      "[13:05:57] WARNING: D:\\bld\\xgboost-split_1631904903843\\work\\src\\learner.cc:1095: Starting in XGBoost 1.3.0, the default evaluation metric used with the objective 'binary:logistic' was changed from 'error' to 'logloss'. Explicitly set eval_metric if you'd like to restore the old behavior.\n",
      "[13:06:18] WARNING: D:\\bld\\xgboost-split_1631904903843\\work\\src\\learner.cc:1095: Starting in XGBoost 1.3.0, the default evaluation metric used with the objective 'binary:logistic' was changed from 'error' to 'logloss'. Explicitly set eval_metric if you'd like to restore the old behavior.\n",
      "CV-results: 0.8904 +/- 0.01\n"
     ]
    }
   ],
   "source": [
    "# X = X[NUMERICAL_FEATS]\n",
    "# y = train[TARGET]\n",
    "\n",
    "cv = cross_val_score(\n",
    "    estimator=model_adv,\n",
    "    X=X,\n",
    "    y=y,\n",
    "    scoring=\"roc_auc\",\n",
    "    cv=5\n",
    ")\n",
    "\n",
    "print(f\"CV-results: {round(np.mean(cv), 4)} +/- {round(np.std(cv), 3)}\")"
   ]
  },
  {
   "cell_type": "code",
   "execution_count": 49,
   "metadata": {},
   "outputs": [],
   "source": [
    "def make_cross_validation(X: pd.DataFrame,\n",
    "                          y: pd.Series,\n",
    "                          estimator: object,\n",
    "                          metric: callable,\n",
    "                          cv_strategy):\n",
    "    \"\"\"\n",
    "    Кросс-валидация.\n",
    "\n",
    "    Parameters\n",
    "    ----------\n",
    "    X: pd.DataFrame\n",
    "        Матрица признаков.\n",
    "\n",
    "    y: pd.Series\n",
    "        Вектор целевой переменной.\n",
    "\n",
    "    estimator: callable\n",
    "        Объект модели для обучения.\n",
    "\n",
    "    metric: callable\n",
    "        Метрика для оценки качества решения.\n",
    "        Ожидается, что на вход будет передана функция,\n",
    "        которая принимает 2 аргумента: y_true, y_pred.\n",
    "\n",
    "    cv_strategy: cross-validation generator\n",
    "        Объект для описания стратегии кросс-валидации.\n",
    "        Ожидается, что на вход будет передан объект типа\n",
    "        KFold или StratifiedKFold.\n",
    "\n",
    "    Returns\n",
    "    -------\n",
    "    oof_score: float\n",
    "        Значение метрики качества на OOF-прогнозах.\n",
    "\n",
    "    fold_train_scores: List[float]\n",
    "        Значение метрики качества на каждом обучающем датасете кросс-валидации.\n",
    "\n",
    "    fold_valid_scores: List[float]\n",
    "        Значение метрики качества на каждом валидационном датасете кросс-валидации.\n",
    "\n",
    "    oof_predictions: np.array\n",
    "        Прогнозы на OOF.\n",
    "\n",
    "    \"\"\"\n",
    "    estimators, fold_train_scores, fold_valid_scores = [], [], []\n",
    "    oof_predictions = np.zeros(X.shape[0])\n",
    "\n",
    "    for fold_number, (train_idx, valid_idx) in enumerate(cv_strategy.split(X, y)):\n",
    "        x_train, x_valid = X.loc[train_idx], X.loc[valid_idx]\n",
    "        y_train, y_valid = y.loc[train_idx], y.loc[valid_idx]\n",
    "\n",
    "        estimator.fit(x_train, y_train)\n",
    "        y_train_pred = estimator.predict(x_train)\n",
    "        y_valid_pred = estimator.predict(x_valid)\n",
    "\n",
    "        fold_train_scores.append(metric(y_train, y_train_pred))\n",
    "        fold_valid_scores.append(metric(y_valid, y_valid_pred))\n",
    "        oof_predictions[valid_idx] = y_valid_pred\n",
    "\n",
    "        msg = (\n",
    "            f\"Fold: {fold_number+1}, train-observations = {len(train_idx)}, \"\n",
    "            f\"valid-observations = {len(valid_idx)}\\n\"\n",
    "            f\"train-score = {round(fold_train_scores[fold_number], 4)}, \"\n",
    "            f\"valid-score = {round(fold_valid_scores[fold_number], 4)}\" \n",
    "        )\n",
    "        print(msg)\n",
    "        print(\"=\"*69)\n",
    "        estimators.append(estimator)\n",
    "\n",
    "    oof_score = metric(y, oof_predictions)\n",
    "    print(f\"CV-results train: {round(np.mean(fold_train_scores), 4)} +/- {round(np.std(fold_train_scores), 3)}\")\n",
    "    print(f\"CV-results valid: {round(np.mean(fold_valid_scores), 4)} +/- {round(np.std(fold_valid_scores), 3)}\")\n",
    "    print(f\"OOF-score = {round(oof_score, 4)}\")\n",
    "\n",
    "    return estimators, oof_score, fold_train_scores, fold_valid_scores, oof_predictions"
   ]
  },
  {
   "cell_type": "code",
   "execution_count": 61,
   "metadata": {},
   "outputs": [
    {
     "name": "stderr",
     "output_type": "stream",
     "text": [
      "Custom logger is already specified. Specify more than one logger at same time is not thread safe."
     ]
    },
    {
     "name": "stdout",
     "output_type": "stream",
     "text": [
      "0:\ttotal: 110ms\tremaining: 18m 23s\n",
      "100:\ttotal: 11.7s\tremaining: 19m 4s\n",
      "200:\ttotal: 23.9s\tremaining: 19m 27s\n",
      "300:\ttotal: 36.3s\tremaining: 19m 30s\n",
      "400:\ttotal: 48.1s\tremaining: 19m 12s\n",
      "500:\ttotal: 59.4s\tremaining: 18m 46s\n",
      "600:\ttotal: 1m 11s\tremaining: 18m 41s\n",
      "700:\ttotal: 1m 23s\tremaining: 18m 30s\n",
      "800:\ttotal: 1m 35s\tremaining: 18m 16s\n",
      "900:\ttotal: 1m 47s\tremaining: 18m\n",
      "1000:\ttotal: 1m 58s\tremaining: 17m 49s\n",
      "1100:\ttotal: 2m 10s\tremaining: 17m 36s\n",
      "1200:\ttotal: 2m 22s\tremaining: 17m 23s\n",
      "1300:\ttotal: 2m 34s\tremaining: 17m 12s\n",
      "1400:\ttotal: 2m 46s\tremaining: 17m 1s\n",
      "1500:\ttotal: 2m 57s\tremaining: 16m 44s\n",
      "1600:\ttotal: 3m 9s\tremaining: 16m 33s\n",
      "1700:\ttotal: 3m 22s\tremaining: 16m 27s\n",
      "1800:\ttotal: 3m 34s\tremaining: 16m 17s\n",
      "1900:\ttotal: 3m 48s\tremaining: 16m 11s\n",
      "2000:\ttotal: 3m 58s\tremaining: 15m 55s\n",
      "2100:\ttotal: 4m 10s\tremaining: 15m 40s\n",
      "2200:\ttotal: 4m 22s\tremaining: 15m 28s\n",
      "2300:\ttotal: 4m 33s\tremaining: 15m 16s\n",
      "2400:\ttotal: 4m 46s\tremaining: 15m 5s\n",
      "2500:\ttotal: 4m 57s\tremaining: 14m 51s\n",
      "2600:\ttotal: 5m 8s\tremaining: 14m 38s\n",
      "2700:\ttotal: 5m 19s\tremaining: 14m 23s\n",
      "2800:\ttotal: 5m 31s\tremaining: 14m 11s\n",
      "2900:\ttotal: 5m 43s\tremaining: 14m\n",
      "3000:\ttotal: 5m 55s\tremaining: 13m 49s\n",
      "3100:\ttotal: 6m 7s\tremaining: 13m 38s\n",
      "3200:\ttotal: 6m 19s\tremaining: 13m 25s\n",
      "3300:\ttotal: 6m 30s\tremaining: 13m 12s\n",
      "3400:\ttotal: 6m 42s\tremaining: 13m\n",
      "3500:\ttotal: 6m 53s\tremaining: 12m 47s\n",
      "3600:\ttotal: 7m 4s\tremaining: 12m 34s\n",
      "3700:\ttotal: 7m 15s\tremaining: 12m 21s\n",
      "3800:\ttotal: 7m 26s\tremaining: 12m 8s\n",
      "3900:\ttotal: 7m 37s\tremaining: 11m 55s\n",
      "4000:\ttotal: 7m 48s\tremaining: 11m 42s\n",
      "4100:\ttotal: 7m 59s\tremaining: 11m 30s\n",
      "4200:\ttotal: 8m 10s\tremaining: 11m 17s\n",
      "4300:\ttotal: 8m 21s\tremaining: 11m 4s\n",
      "4400:\ttotal: 8m 32s\tremaining: 10m 51s\n",
      "4500:\ttotal: 8m 43s\tremaining: 10m 39s\n",
      "4600:\ttotal: 8m 55s\tremaining: 10m 28s\n",
      "4700:\ttotal: 9m 6s\tremaining: 10m 16s\n",
      "4800:\ttotal: 9m 18s\tremaining: 10m 4s\n",
      "4900:\ttotal: 9m 30s\tremaining: 9m 53s\n",
      "5000:\ttotal: 9m 42s\tremaining: 9m 42s\n",
      "5100:\ttotal: 9m 53s\tremaining: 9m 30s\n",
      "5200:\ttotal: 10m 5s\tremaining: 9m 18s\n",
      "5300:\ttotal: 10m 17s\tremaining: 9m 7s\n",
      "5400:\ttotal: 10m 29s\tremaining: 8m 55s\n",
      "5500:\ttotal: 10m 41s\tremaining: 8m 44s\n",
      "5600:\ttotal: 10m 53s\tremaining: 8m 33s\n",
      "5700:\ttotal: 11m 5s\tremaining: 8m 21s\n",
      "5800:\ttotal: 11m 16s\tremaining: 8m 9s\n",
      "5900:\ttotal: 11m 27s\tremaining: 7m 57s\n",
      "6000:\ttotal: 11m 38s\tremaining: 7m 45s\n",
      "6100:\ttotal: 11m 50s\tremaining: 7m 33s\n",
      "6200:\ttotal: 12m 1s\tremaining: 7m 22s\n",
      "6300:\ttotal: 12m 13s\tremaining: 7m 10s\n",
      "6400:\ttotal: 12m 24s\tremaining: 6m 58s\n",
      "6500:\ttotal: 12m 35s\tremaining: 6m 46s\n",
      "6600:\ttotal: 12m 46s\tremaining: 6m 34s\n",
      "6700:\ttotal: 12m 58s\tremaining: 6m 23s\n",
      "6800:\ttotal: 13m 8s\tremaining: 6m 10s\n",
      "6900:\ttotal: 13m 19s\tremaining: 5m 58s\n",
      "7000:\ttotal: 13m 30s\tremaining: 5m 47s\n",
      "7100:\ttotal: 13m 41s\tremaining: 5m 35s\n",
      "7200:\ttotal: 13m 53s\tremaining: 5m 24s\n",
      "7300:\ttotal: 14m 6s\tremaining: 5m 12s\n",
      "7400:\ttotal: 14m 18s\tremaining: 5m 1s\n",
      "7500:\ttotal: 14m 30s\tremaining: 4m 49s\n",
      "7600:\ttotal: 14m 42s\tremaining: 4m 38s\n",
      "7700:\ttotal: 14m 53s\tremaining: 4m 26s\n",
      "7800:\ttotal: 15m 4s\tremaining: 4m 15s\n",
      "7900:\ttotal: 15m 16s\tremaining: 4m 3s\n",
      "8000:\ttotal: 15m 29s\tremaining: 3m 52s\n",
      "8100:\ttotal: 15m 41s\tremaining: 3m 40s\n",
      "8200:\ttotal: 15m 53s\tremaining: 3m 29s\n",
      "8300:\ttotal: 16m 7s\tremaining: 3m 17s\n",
      "8400:\ttotal: 16m 19s\tremaining: 3m 6s\n",
      "8500:\ttotal: 16m 31s\tremaining: 2m 54s\n",
      "8600:\ttotal: 16m 42s\tremaining: 2m 43s\n",
      "8700:\ttotal: 16m 55s\tremaining: 2m 31s\n",
      "8800:\ttotal: 17m 8s\tremaining: 2m 20s\n",
      "8900:\ttotal: 17m 20s\tremaining: 2m 8s\n",
      "9000:\ttotal: 17m 32s\tremaining: 1m 56s\n",
      "9100:\ttotal: 17m 43s\tremaining: 1m 45s\n",
      "9200:\ttotal: 17m 55s\tremaining: 1m 33s\n",
      "9300:\ttotal: 18m 7s\tremaining: 1m 21s\n",
      "9400:\ttotal: 18m 19s\tremaining: 1m 10s\n",
      "9500:\ttotal: 18m 31s\tremaining: 58.4s\n",
      "9600:\ttotal: 18m 42s\tremaining: 46.7s\n",
      "9700:\ttotal: 18m 54s\tremaining: 35s\n",
      "9800:\ttotal: 19m 4s\tremaining: 23.2s\n",
      "9900:\ttotal: 19m 16s\tremaining: 11.6s\n",
      "9999:\ttotal: 19m 27s\tremaining: 0us\n",
      "Fold: 1, train-observations = 144000, valid-observations = 36000\n",
      "train-score = 0.7862, valid-score = 0.6513\n",
      "=====================================================================\n",
      "0:\ttotal: 166ms\tremaining: 27m 39s\n",
      "100:\ttotal: 12.4s\tremaining: 20m 19s\n",
      "200:\ttotal: 25.3s\tremaining: 20m 34s\n",
      "300:\ttotal: 37.7s\tremaining: 20m 14s\n",
      "400:\ttotal: 49.8s\tremaining: 19m 51s\n",
      "500:\ttotal: 1m\tremaining: 19m 14s\n",
      "600:\ttotal: 1m 12s\tremaining: 18m 48s\n",
      "700:\ttotal: 1m 23s\tremaining: 18m 25s\n",
      "800:\ttotal: 1m 34s\tremaining: 18m 6s\n",
      "900:\ttotal: 1m 46s\tremaining: 17m 53s\n",
      "1000:\ttotal: 1m 58s\tremaining: 17m 41s\n",
      "1100:\ttotal: 2m 9s\tremaining: 17m 28s\n",
      "1200:\ttotal: 2m 21s\tremaining: 17m 13s\n",
      "1300:\ttotal: 2m 32s\tremaining: 16m 58s\n",
      "1400:\ttotal: 2m 43s\tremaining: 16m 41s\n",
      "1500:\ttotal: 2m 54s\tremaining: 16m 29s\n",
      "1600:\ttotal: 3m 5s\tremaining: 16m 15s\n",
      "1700:\ttotal: 3m 17s\tremaining: 16m 1s\n",
      "1800:\ttotal: 3m 29s\tremaining: 15m 51s\n",
      "1900:\ttotal: 3m 40s\tremaining: 15m 38s\n",
      "2000:\ttotal: 3m 52s\tremaining: 15m 28s\n",
      "2100:\ttotal: 4m 4s\tremaining: 15m 18s\n",
      "2200:\ttotal: 4m 16s\tremaining: 15m 8s\n",
      "2300:\ttotal: 4m 28s\tremaining: 14m 57s\n",
      "2400:\ttotal: 4m 39s\tremaining: 14m 44s\n",
      "2500:\ttotal: 4m 51s\tremaining: 14m 32s\n",
      "2600:\ttotal: 5m 1s\tremaining: 14m 18s\n",
      "2700:\ttotal: 5m 13s\tremaining: 14m 6s\n",
      "2800:\ttotal: 5m 23s\tremaining: 13m 52s\n",
      "2900:\ttotal: 5m 34s\tremaining: 13m 38s\n",
      "3000:\ttotal: 5m 45s\tremaining: 13m 26s\n",
      "3100:\ttotal: 5m 57s\tremaining: 13m 15s\n",
      "3200:\ttotal: 6m 8s\tremaining: 13m 3s\n",
      "3300:\ttotal: 6m 20s\tremaining: 12m 51s\n",
      "3400:\ttotal: 6m 31s\tremaining: 12m 39s\n",
      "3500:\ttotal: 6m 42s\tremaining: 12m 26s\n",
      "3600:\ttotal: 6m 53s\tremaining: 12m 14s\n",
      "3700:\ttotal: 7m 4s\tremaining: 12m 2s\n",
      "3800:\ttotal: 7m 16s\tremaining: 11m 51s\n",
      "3900:\ttotal: 7m 27s\tremaining: 11m 39s\n",
      "4000:\ttotal: 7m 38s\tremaining: 11m 27s\n",
      "4100:\ttotal: 7m 49s\tremaining: 11m 15s\n",
      "4200:\ttotal: 8m 1s\tremaining: 11m 4s\n",
      "4300:\ttotal: 8m 13s\tremaining: 10m 53s\n",
      "4400:\ttotal: 8m 25s\tremaining: 10m 42s\n",
      "4500:\ttotal: 8m 36s\tremaining: 10m 31s\n",
      "4600:\ttotal: 8m 47s\tremaining: 10m 19s\n",
      "4700:\ttotal: 8m 59s\tremaining: 10m 8s\n",
      "4800:\ttotal: 9m 11s\tremaining: 9m 57s\n",
      "4900:\ttotal: 9m 23s\tremaining: 9m 46s\n",
      "5000:\ttotal: 9m 35s\tremaining: 9m 35s\n",
      "5100:\ttotal: 9m 46s\tremaining: 9m 23s\n",
      "5200:\ttotal: 9m 57s\tremaining: 9m 11s\n",
      "5300:\ttotal: 10m 9s\tremaining: 9m\n",
      "5400:\ttotal: 10m 22s\tremaining: 8m 49s\n",
      "5500:\ttotal: 10m 34s\tremaining: 8m 39s\n",
      "5600:\ttotal: 10m 45s\tremaining: 8m 27s\n",
      "5700:\ttotal: 10m 57s\tremaining: 8m 15s\n",
      "5800:\ttotal: 11m 9s\tremaining: 8m 4s\n",
      "5900:\ttotal: 11m 22s\tremaining: 7m 53s\n",
      "6000:\ttotal: 11m 33s\tremaining: 7m 42s\n",
      "6100:\ttotal: 11m 45s\tremaining: 7m 30s\n",
      "6200:\ttotal: 11m 57s\tremaining: 7m 19s\n",
      "6300:\ttotal: 12m 8s\tremaining: 7m 7s\n",
      "6400:\ttotal: 12m 20s\tremaining: 6m 56s\n",
      "6500:\ttotal: 12m 32s\tremaining: 6m 44s\n",
      "6600:\ttotal: 12m 44s\tremaining: 6m 33s\n",
      "6700:\ttotal: 12m 56s\tremaining: 6m 22s\n",
      "6800:\ttotal: 13m 8s\tremaining: 6m 10s\n",
      "6900:\ttotal: 13m 20s\tremaining: 5m 59s\n",
      "7000:\ttotal: 13m 32s\tremaining: 5m 48s\n",
      "7100:\ttotal: 13m 44s\tremaining: 5m 36s\n",
      "7200:\ttotal: 13m 56s\tremaining: 5m 25s\n",
      "7300:\ttotal: 14m 8s\tremaining: 5m 13s\n",
      "7400:\ttotal: 14m 20s\tremaining: 5m 2s\n",
      "7500:\ttotal: 14m 32s\tremaining: 4m 50s\n",
      "7600:\ttotal: 14m 45s\tremaining: 4m 39s\n",
      "7700:\ttotal: 14m 57s\tremaining: 4m 27s\n",
      "7800:\ttotal: 15m 9s\tremaining: 4m 16s\n",
      "7900:\ttotal: 15m 20s\tremaining: 4m 4s\n",
      "8000:\ttotal: 15m 32s\tremaining: 3m 53s\n",
      "8100:\ttotal: 15m 44s\tremaining: 3m 41s\n",
      "8200:\ttotal: 15m 56s\tremaining: 3m 29s\n",
      "8300:\ttotal: 16m 8s\tremaining: 3m 18s\n",
      "8400:\ttotal: 16m 20s\tremaining: 3m 6s\n",
      "8500:\ttotal: 16m 32s\tremaining: 2m 54s\n",
      "8600:\ttotal: 16m 44s\tremaining: 2m 43s\n",
      "8700:\ttotal: 16m 55s\tremaining: 2m 31s\n",
      "8800:\ttotal: 17m 7s\tremaining: 2m 20s\n",
      "8900:\ttotal: 17m 20s\tremaining: 2m 8s\n",
      "9000:\ttotal: 17m 32s\tremaining: 1m 56s\n",
      "9100:\ttotal: 17m 43s\tremaining: 1m 45s\n",
      "9200:\ttotal: 17m 55s\tremaining: 1m 33s\n",
      "9300:\ttotal: 18m 6s\tremaining: 1m 21s\n",
      "9400:\ttotal: 18m 19s\tremaining: 1m 10s\n",
      "9500:\ttotal: 18m 31s\tremaining: 58.4s\n",
      "9600:\ttotal: 18m 43s\tremaining: 46.7s\n",
      "9700:\ttotal: 18m 55s\tremaining: 35s\n",
      "9800:\ttotal: 19m 7s\tremaining: 23.3s\n",
      "9900:\ttotal: 19m 20s\tremaining: 11.6s\n",
      "9999:\ttotal: 19m 31s\tremaining: 0us\n",
      "Fold: 2, train-observations = 144000, valid-observations = 36000\n",
      "train-score = 0.7845, valid-score = 0.678\n",
      "=====================================================================\n",
      "0:\ttotal: 139ms\tremaining: 23m 12s\n",
      "100:\ttotal: 12.2s\tremaining: 19m 54s\n",
      "200:\ttotal: 24.7s\tremaining: 20m 6s\n"
     ]
    },
    {
     "name": "stdout",
     "output_type": "stream",
     "text": [
      "300:\ttotal: 36.9s\tremaining: 19m 48s\n",
      "400:\ttotal: 49s\tremaining: 19m 32s\n",
      "500:\ttotal: 1m\tremaining: 19m 13s\n",
      "600:\ttotal: 1m 11s\tremaining: 18m 44s\n",
      "700:\ttotal: 1m 22s\tremaining: 18m 20s\n",
      "800:\ttotal: 1m 34s\tremaining: 18m\n",
      "900:\ttotal: 1m 45s\tremaining: 17m 45s\n",
      "1000:\ttotal: 1m 57s\tremaining: 17m 32s\n",
      "1100:\ttotal: 2m 8s\tremaining: 17m 16s\n",
      "1200:\ttotal: 2m 19s\tremaining: 17m 2s\n",
      "1300:\ttotal: 2m 30s\tremaining: 16m 49s\n",
      "1400:\ttotal: 2m 42s\tremaining: 16m 37s\n",
      "1500:\ttotal: 2m 54s\tremaining: 16m 28s\n",
      "1600:\ttotal: 3m 6s\tremaining: 16m 16s\n",
      "1700:\ttotal: 3m 17s\tremaining: 16m 3s\n",
      "1800:\ttotal: 3m 29s\tremaining: 15m 53s\n",
      "1900:\ttotal: 3m 41s\tremaining: 15m 41s\n",
      "2000:\ttotal: 3m 52s\tremaining: 15m 30s\n",
      "2100:\ttotal: 4m 4s\tremaining: 15m 20s\n",
      "2200:\ttotal: 4m 16s\tremaining: 15m 9s\n",
      "2300:\ttotal: 4m 28s\tremaining: 14m 58s\n",
      "2400:\ttotal: 4m 41s\tremaining: 14m 49s\n",
      "2500:\ttotal: 4m 52s\tremaining: 14m 37s\n",
      "2600:\ttotal: 5m 4s\tremaining: 14m 25s\n",
      "2700:\ttotal: 5m 15s\tremaining: 14m 12s\n",
      "2800:\ttotal: 5m 26s\tremaining: 14m\n",
      "2900:\ttotal: 5m 38s\tremaining: 13m 49s\n",
      "3000:\ttotal: 5m 50s\tremaining: 13m 37s\n",
      "3100:\ttotal: 6m 2s\tremaining: 13m 26s\n",
      "3200:\ttotal: 6m 13s\tremaining: 13m 14s\n",
      "3300:\ttotal: 6m 25s\tremaining: 13m 2s\n",
      "3400:\ttotal: 6m 36s\tremaining: 12m 49s\n",
      "3500:\ttotal: 6m 48s\tremaining: 12m 37s\n",
      "3600:\ttotal: 6m 59s\tremaining: 12m 25s\n",
      "3700:\ttotal: 7m 10s\tremaining: 12m 12s\n",
      "3800:\ttotal: 7m 20s\tremaining: 11m 59s\n",
      "3900:\ttotal: 7m 31s\tremaining: 11m 46s\n",
      "4000:\ttotal: 7m 42s\tremaining: 11m 33s\n",
      "4100:\ttotal: 7m 53s\tremaining: 11m 21s\n",
      "4200:\ttotal: 8m 4s\tremaining: 11m 9s\n",
      "4300:\ttotal: 8m 16s\tremaining: 10m 57s\n",
      "4400:\ttotal: 8m 27s\tremaining: 10m 45s\n",
      "4500:\ttotal: 8m 39s\tremaining: 10m 34s\n",
      "4600:\ttotal: 8m 51s\tremaining: 10m 23s\n",
      "4700:\ttotal: 9m 3s\tremaining: 10m 12s\n",
      "4800:\ttotal: 9m 14s\tremaining: 9m 59s\n",
      "4900:\ttotal: 9m 23s\tremaining: 9m 46s\n",
      "5000:\ttotal: 9m 33s\tremaining: 9m 33s\n",
      "5100:\ttotal: 9m 44s\tremaining: 9m 21s\n",
      "5200:\ttotal: 9m 56s\tremaining: 9m 10s\n",
      "5300:\ttotal: 10m 6s\tremaining: 8m 57s\n",
      "5400:\ttotal: 10m 17s\tremaining: 8m 45s\n",
      "5500:\ttotal: 10m 28s\tremaining: 8m 34s\n",
      "5600:\ttotal: 10m 40s\tremaining: 8m 22s\n",
      "5700:\ttotal: 10m 51s\tremaining: 8m 11s\n",
      "5800:\ttotal: 11m 1s\tremaining: 7m 59s\n",
      "5900:\ttotal: 11m 12s\tremaining: 7m 47s\n",
      "6000:\ttotal: 11m 24s\tremaining: 7m 36s\n",
      "6100:\ttotal: 11m 35s\tremaining: 7m 24s\n",
      "6200:\ttotal: 11m 47s\tremaining: 7m 13s\n",
      "6300:\ttotal: 11m 59s\tremaining: 7m 2s\n",
      "6400:\ttotal: 12m 11s\tremaining: 6m 51s\n",
      "6500:\ttotal: 12m 22s\tremaining: 6m 39s\n",
      "6600:\ttotal: 12m 34s\tremaining: 6m 28s\n",
      "6700:\ttotal: 12m 46s\tremaining: 6m 17s\n",
      "6800:\ttotal: 12m 57s\tremaining: 6m 5s\n",
      "6900:\ttotal: 13m 9s\tremaining: 5m 54s\n",
      "7000:\ttotal: 13m 20s\tremaining: 5m 43s\n",
      "7100:\ttotal: 13m 32s\tremaining: 5m 31s\n",
      "7200:\ttotal: 13m 43s\tremaining: 5m 20s\n",
      "7300:\ttotal: 13m 57s\tremaining: 5m 9s\n",
      "7400:\ttotal: 14m 9s\tremaining: 4m 58s\n",
      "7500:\ttotal: 14m 21s\tremaining: 4m 47s\n",
      "7600:\ttotal: 14m 33s\tremaining: 4m 35s\n",
      "7700:\ttotal: 14m 45s\tremaining: 4m 24s\n",
      "7800:\ttotal: 14m 57s\tremaining: 4m 12s\n",
      "7900:\ttotal: 15m 9s\tremaining: 4m 1s\n",
      "8000:\ttotal: 15m 20s\tremaining: 3m 49s\n",
      "8100:\ttotal: 15m 31s\tremaining: 3m 38s\n",
      "8200:\ttotal: 15m 43s\tremaining: 3m 26s\n",
      "8300:\ttotal: 15m 55s\tremaining: 3m 15s\n",
      "8400:\ttotal: 16m 7s\tremaining: 3m 4s\n",
      "8500:\ttotal: 16m 19s\tremaining: 2m 52s\n",
      "8600:\ttotal: 16m 31s\tremaining: 2m 41s\n",
      "8700:\ttotal: 16m 43s\tremaining: 2m 29s\n",
      "8800:\ttotal: 16m 55s\tremaining: 2m 18s\n",
      "8900:\ttotal: 17m 7s\tremaining: 2m 6s\n",
      "9000:\ttotal: 17m 18s\tremaining: 1m 55s\n",
      "9100:\ttotal: 17m 30s\tremaining: 1m 43s\n",
      "9200:\ttotal: 17m 42s\tremaining: 1m 32s\n",
      "9300:\ttotal: 17m 54s\tremaining: 1m 20s\n",
      "9400:\ttotal: 18m 5s\tremaining: 1m 9s\n",
      "9500:\ttotal: 18m 16s\tremaining: 57.6s\n",
      "9600:\ttotal: 18m 28s\tremaining: 46.1s\n",
      "9700:\ttotal: 18m 40s\tremaining: 34.5s\n",
      "9800:\ttotal: 18m 51s\tremaining: 23s\n",
      "9900:\ttotal: 19m 3s\tremaining: 11.4s\n",
      "9999:\ttotal: 19m 15s\tremaining: 0us\n",
      "Fold: 3, train-observations = 144000, valid-observations = 36000\n",
      "train-score = 0.7804, valid-score = 0.7402\n",
      "=====================================================================\n",
      "0:\ttotal: 143ms\tremaining: 23m 54s\n",
      "100:\ttotal: 11.7s\tremaining: 19m 6s\n",
      "200:\ttotal: 24.3s\tremaining: 19m 42s\n",
      "300:\ttotal: 36s\tremaining: 19m 18s\n",
      "400:\ttotal: 47.5s\tremaining: 18m 58s\n",
      "500:\ttotal: 58.7s\tremaining: 18m 33s\n",
      "600:\ttotal: 1m 9s\tremaining: 18m\n",
      "700:\ttotal: 1m 20s\tremaining: 17m 45s\n",
      "800:\ttotal: 1m 31s\tremaining: 17m 28s\n",
      "900:\ttotal: 1m 42s\tremaining: 17m 13s\n",
      "1000:\ttotal: 1m 54s\tremaining: 17m 5s\n",
      "1100:\ttotal: 2m 5s\tremaining: 16m 56s\n",
      "1200:\ttotal: 2m 16s\tremaining: 16m 40s\n",
      "1300:\ttotal: 2m 28s\tremaining: 16m 30s\n",
      "1400:\ttotal: 2m 39s\tremaining: 16m 18s\n",
      "1500:\ttotal: 2m 50s\tremaining: 16m 5s\n",
      "1600:\ttotal: 3m 1s\tremaining: 15m 53s\n",
      "1700:\ttotal: 3m 13s\tremaining: 15m 45s\n",
      "1800:\ttotal: 3m 26s\tremaining: 15m 40s\n",
      "1900:\ttotal: 3m 38s\tremaining: 15m 29s\n",
      "2000:\ttotal: 3m 49s\tremaining: 15m 19s\n",
      "2100:\ttotal: 4m 1s\tremaining: 15m 7s\n",
      "2200:\ttotal: 4m 13s\tremaining: 14m 58s\n",
      "2300:\ttotal: 4m 26s\tremaining: 14m 50s\n",
      "2400:\ttotal: 4m 38s\tremaining: 14m 39s\n",
      "2500:\ttotal: 4m 50s\tremaining: 14m 30s\n",
      "2600:\ttotal: 5m 1s\tremaining: 14m 17s\n",
      "2700:\ttotal: 5m 12s\tremaining: 14m 5s\n",
      "2800:\ttotal: 5m 24s\tremaining: 13m 53s\n",
      "2900:\ttotal: 5m 35s\tremaining: 13m 41s\n",
      "3000:\ttotal: 5m 47s\tremaining: 13m 30s\n",
      "3100:\ttotal: 5m 59s\tremaining: 13m 19s\n",
      "3200:\ttotal: 6m 10s\tremaining: 13m 6s\n",
      "3300:\ttotal: 6m 21s\tremaining: 12m 54s\n",
      "3400:\ttotal: 6m 33s\tremaining: 12m 43s\n",
      "3500:\ttotal: 6m 45s\tremaining: 12m 32s\n",
      "3600:\ttotal: 6m 57s\tremaining: 12m 21s\n",
      "3700:\ttotal: 7m 9s\tremaining: 12m 10s\n",
      "3800:\ttotal: 7m 20s\tremaining: 11m 58s\n",
      "3900:\ttotal: 7m 31s\tremaining: 11m 46s\n",
      "4000:\ttotal: 7m 43s\tremaining: 11m 35s\n",
      "4100:\ttotal: 7m 55s\tremaining: 11m 24s\n",
      "4200:\ttotal: 8m 7s\tremaining: 11m 12s\n",
      "4300:\ttotal: 8m 19s\tremaining: 11m 1s\n",
      "4400:\ttotal: 8m 30s\tremaining: 10m 49s\n",
      "4500:\ttotal: 8m 42s\tremaining: 10m 38s\n",
      "4600:\ttotal: 8m 53s\tremaining: 10m 26s\n",
      "4700:\ttotal: 9m 6s\tremaining: 10m 15s\n",
      "4800:\ttotal: 9m 18s\tremaining: 10m 5s\n",
      "4900:\ttotal: 9m 30s\tremaining: 9m 53s\n",
      "5000:\ttotal: 9m 42s\tremaining: 9m 42s\n",
      "5100:\ttotal: 9m 54s\tremaining: 9m 31s\n",
      "5200:\ttotal: 10m 6s\tremaining: 9m 19s\n",
      "5300:\ttotal: 10m 19s\tremaining: 9m 9s\n",
      "5400:\ttotal: 10m 31s\tremaining: 8m 57s\n",
      "5500:\ttotal: 10m 42s\tremaining: 8m 45s\n",
      "5600:\ttotal: 10m 54s\tremaining: 8m 33s\n",
      "5700:\ttotal: 11m 5s\tremaining: 8m 22s\n",
      "5800:\ttotal: 11m 18s\tremaining: 8m 11s\n",
      "5900:\ttotal: 11m 30s\tremaining: 7m 59s\n",
      "6000:\ttotal: 11m 42s\tremaining: 7m 48s\n",
      "6100:\ttotal: 11m 53s\tremaining: 7m 36s\n",
      "6200:\ttotal: 12m 5s\tremaining: 7m 24s\n",
      "6300:\ttotal: 12m 18s\tremaining: 7m 13s\n",
      "6400:\ttotal: 12m 29s\tremaining: 7m 1s\n",
      "6500:\ttotal: 12m 40s\tremaining: 6m 49s\n",
      "6600:\ttotal: 12m 52s\tremaining: 6m 37s\n",
      "6700:\ttotal: 13m 4s\tremaining: 6m 26s\n",
      "6800:\ttotal: 13m 15s\tremaining: 6m 14s\n",
      "6900:\ttotal: 13m 27s\tremaining: 6m 2s\n",
      "7000:\ttotal: 13m 39s\tremaining: 5m 51s\n",
      "7100:\ttotal: 13m 51s\tremaining: 5m 39s\n",
      "7200:\ttotal: 14m 2s\tremaining: 5m 27s\n",
      "7300:\ttotal: 14m 14s\tremaining: 5m 16s\n",
      "7400:\ttotal: 14m 26s\tremaining: 5m 4s\n",
      "7500:\ttotal: 14m 38s\tremaining: 4m 52s\n",
      "7600:\ttotal: 14m 50s\tremaining: 4m 41s\n",
      "7700:\ttotal: 15m 3s\tremaining: 4m 29s\n",
      "7800:\ttotal: 15m 15s\tremaining: 4m 18s\n",
      "7900:\ttotal: 15m 27s\tremaining: 4m 6s\n",
      "8000:\ttotal: 15m 38s\tremaining: 3m 54s\n",
      "8100:\ttotal: 15m 50s\tremaining: 3m 42s\n",
      "8200:\ttotal: 16m 1s\tremaining: 3m 31s\n",
      "8300:\ttotal: 16m 13s\tremaining: 3m 19s\n",
      "8400:\ttotal: 16m 25s\tremaining: 3m 7s\n",
      "8500:\ttotal: 16m 37s\tremaining: 2m 55s\n",
      "8600:\ttotal: 16m 48s\tremaining: 2m 44s\n",
      "8700:\ttotal: 16m 59s\tremaining: 2m 32s\n",
      "8800:\ttotal: 17m 11s\tremaining: 2m 20s\n",
      "8900:\ttotal: 17m 22s\tremaining: 2m 8s\n",
      "9000:\ttotal: 17m 34s\tremaining: 1m 56s\n",
      "9100:\ttotal: 17m 46s\tremaining: 1m 45s\n",
      "9200:\ttotal: 17m 57s\tremaining: 1m 33s\n",
      "9300:\ttotal: 18m 9s\tremaining: 1m 21s\n",
      "9400:\ttotal: 18m 21s\tremaining: 1m 10s\n",
      "9500:\ttotal: 18m 33s\tremaining: 58.5s\n",
      "9600:\ttotal: 18m 45s\tremaining: 46.8s\n",
      "9700:\ttotal: 18m 57s\tremaining: 35.1s\n",
      "9800:\ttotal: 19m 10s\tremaining: 23.4s\n",
      "9900:\ttotal: 19m 22s\tremaining: 11.6s\n",
      "9999:\ttotal: 19m 33s\tremaining: 0us\n",
      "Fold: 4, train-observations = 144000, valid-observations = 36000\n",
      "train-score = 0.7822, valid-score = 0.6939\n",
      "=====================================================================\n",
      "0:\ttotal: 146ms\tremaining: 24m 23s\n",
      "100:\ttotal: 11.8s\tremaining: 19m 17s\n",
      "200:\ttotal: 24.3s\tremaining: 19m 43s\n",
      "300:\ttotal: 36.6s\tremaining: 19m 37s\n",
      "400:\ttotal: 48.2s\tremaining: 19m 14s\n",
      "500:\ttotal: 59.7s\tremaining: 18m 51s\n"
     ]
    },
    {
     "name": "stdout",
     "output_type": "stream",
     "text": [
      "600:\ttotal: 1m 10s\tremaining: 18m 25s\n",
      "700:\ttotal: 1m 21s\tremaining: 18m 2s\n",
      "800:\ttotal: 1m 32s\tremaining: 17m 45s\n",
      "900:\ttotal: 1m 44s\tremaining: 17m 31s\n",
      "1000:\ttotal: 1m 56s\tremaining: 17m 25s\n",
      "1100:\ttotal: 2m 8s\tremaining: 17m 17s\n",
      "1200:\ttotal: 2m 19s\tremaining: 17m 3s\n",
      "1300:\ttotal: 2m 31s\tremaining: 16m 53s\n",
      "1400:\ttotal: 2m 43s\tremaining: 16m 41s\n",
      "1500:\ttotal: 2m 55s\tremaining: 16m 32s\n",
      "1600:\ttotal: 3m 7s\tremaining: 16m 21s\n",
      "1700:\ttotal: 3m 18s\tremaining: 16m 9s\n",
      "1800:\ttotal: 3m 29s\tremaining: 15m 53s\n",
      "1900:\ttotal: 3m 41s\tremaining: 15m 43s\n",
      "2000:\ttotal: 3m 53s\tremaining: 15m 31s\n",
      "2100:\ttotal: 4m 4s\tremaining: 15m 20s\n",
      "2200:\ttotal: 4m 16s\tremaining: 15m 9s\n",
      "2300:\ttotal: 4m 28s\tremaining: 14m 59s\n",
      "2400:\ttotal: 4m 41s\tremaining: 14m 49s\n",
      "2500:\ttotal: 4m 53s\tremaining: 14m 39s\n",
      "2600:\ttotal: 5m 4s\tremaining: 14m 25s\n",
      "2700:\ttotal: 5m 14s\tremaining: 14m 11s\n",
      "2800:\ttotal: 5m 26s\tremaining: 13m 58s\n",
      "2900:\ttotal: 5m 37s\tremaining: 13m 44s\n",
      "3000:\ttotal: 5m 48s\tremaining: 13m 32s\n",
      "3100:\ttotal: 6m\tremaining: 13m 21s\n",
      "3200:\ttotal: 6m 11s\tremaining: 13m 8s\n",
      "3300:\ttotal: 6m 22s\tremaining: 12m 55s\n",
      "3400:\ttotal: 6m 33s\tremaining: 12m 42s\n",
      "3500:\ttotal: 6m 44s\tremaining: 12m 31s\n",
      "3600:\ttotal: 6m 56s\tremaining: 12m 19s\n",
      "3700:\ttotal: 7m 8s\tremaining: 12m 8s\n",
      "3800:\ttotal: 7m 19s\tremaining: 11m 56s\n",
      "3900:\ttotal: 7m 31s\tremaining: 11m 45s\n",
      "4000:\ttotal: 7m 43s\tremaining: 11m 34s\n",
      "4100:\ttotal: 7m 54s\tremaining: 11m 22s\n",
      "4200:\ttotal: 8m 4s\tremaining: 11m 9s\n",
      "4300:\ttotal: 8m 17s\tremaining: 10m 58s\n",
      "4400:\ttotal: 8m 28s\tremaining: 10m 47s\n",
      "4500:\ttotal: 8m 40s\tremaining: 10m 35s\n",
      "4600:\ttotal: 8m 52s\tremaining: 10m 24s\n",
      "4700:\ttotal: 9m 3s\tremaining: 10m 12s\n",
      "4800:\ttotal: 9m 16s\tremaining: 10m 2s\n",
      "4900:\ttotal: 9m 36s\tremaining: 9m 59s\n",
      "5000:\ttotal: 9m 50s\tremaining: 9m 50s\n",
      "5100:\ttotal: 10m 3s\tremaining: 9m 39s\n",
      "5200:\ttotal: 10m 15s\tremaining: 9m 27s\n",
      "5300:\ttotal: 10m 26s\tremaining: 9m 15s\n",
      "5400:\ttotal: 10m 38s\tremaining: 9m 4s\n",
      "5500:\ttotal: 10m 50s\tremaining: 8m 51s\n",
      "5600:\ttotal: 11m 1s\tremaining: 8m 39s\n",
      "5700:\ttotal: 11m 13s\tremaining: 8m 28s\n",
      "5800:\ttotal: 11m 26s\tremaining: 8m 16s\n",
      "5900:\ttotal: 11m 38s\tremaining: 8m 5s\n",
      "6000:\ttotal: 11m 49s\tremaining: 7m 53s\n",
      "6100:\ttotal: 11m 59s\tremaining: 7m 39s\n",
      "6200:\ttotal: 12m 10s\tremaining: 7m 27s\n",
      "6300:\ttotal: 12m 23s\tremaining: 7m 16s\n",
      "6400:\ttotal: 12m 35s\tremaining: 7m 4s\n",
      "6500:\ttotal: 12m 47s\tremaining: 6m 53s\n",
      "6600:\ttotal: 12m 59s\tremaining: 6m 41s\n",
      "6700:\ttotal: 13m 11s\tremaining: 6m 29s\n",
      "6800:\ttotal: 13m 23s\tremaining: 6m 18s\n",
      "6900:\ttotal: 13m 36s\tremaining: 6m 6s\n",
      "7000:\ttotal: 13m 48s\tremaining: 5m 54s\n",
      "7100:\ttotal: 14m\tremaining: 5m 43s\n",
      "7200:\ttotal: 14m 12s\tremaining: 5m 31s\n",
      "7300:\ttotal: 14m 24s\tremaining: 5m 19s\n",
      "7400:\ttotal: 14m 37s\tremaining: 5m 8s\n",
      "7500:\ttotal: 14m 48s\tremaining: 4m 56s\n",
      "7600:\ttotal: 14m 59s\tremaining: 4m 44s\n",
      "7700:\ttotal: 15m 12s\tremaining: 4m 32s\n",
      "7800:\ttotal: 15m 24s\tremaining: 4m 20s\n",
      "7900:\ttotal: 15m 37s\tremaining: 4m 8s\n",
      "8000:\ttotal: 15m 49s\tremaining: 3m 57s\n",
      "8100:\ttotal: 16m 2s\tremaining: 3m 45s\n",
      "8200:\ttotal: 16m 14s\tremaining: 3m 33s\n",
      "8300:\ttotal: 16m 26s\tremaining: 3m 21s\n",
      "8400:\ttotal: 16m 39s\tremaining: 3m 10s\n",
      "8500:\ttotal: 16m 51s\tremaining: 2m 58s\n",
      "8600:\ttotal: 17m 3s\tremaining: 2m 46s\n",
      "8700:\ttotal: 17m 16s\tremaining: 2m 34s\n",
      "8800:\ttotal: 17m 28s\tremaining: 2m 22s\n",
      "8900:\ttotal: 17m 41s\tremaining: 2m 11s\n",
      "9000:\ttotal: 17m 53s\tremaining: 1m 59s\n",
      "9100:\ttotal: 18m 5s\tremaining: 1m 47s\n",
      "9200:\ttotal: 18m 18s\tremaining: 1m 35s\n",
      "9300:\ttotal: 18m 30s\tremaining: 1m 23s\n",
      "9400:\ttotal: 18m 42s\tremaining: 1m 11s\n",
      "9500:\ttotal: 18m 55s\tremaining: 59.6s\n",
      "9600:\ttotal: 19m 7s\tremaining: 47.7s\n",
      "9700:\ttotal: 19m 18s\tremaining: 35.7s\n",
      "9800:\ttotal: 19m 31s\tremaining: 23.8s\n",
      "9900:\ttotal: 19m 43s\tremaining: 11.8s\n",
      "9999:\ttotal: 19m 54s\tremaining: 0us\n",
      "Fold: 5, train-observations = 144000, valid-observations = 36000\n",
      "train-score = 0.7756, valid-score = 0.6806\n",
      "=====================================================================\n",
      "CV-results train: 0.7818 +/- 0.004\n",
      "CV-results valid: 0.6888 +/- 0.029\n",
      "OOF-score = 0.6858\n"
     ]
    }
   ],
   "source": [
    "cv_strategy_cb = KFold(n_splits=5, random_state=None)\n",
    "\n",
    "estimators, oof_score, fold_train_scores, fold_valid_scores, oof_predictions = make_cross_validation(\n",
    "    X, y, estimator=model_cb_3, metric=roc_auc_score, cv_strategy=cv_strategy_cb\n",
    ")"
   ]
  },
  {
   "cell_type": "markdown",
   "metadata": {},
   "source": [
    "**Вывод**\n",
    "* Стандартное отклонение по фолдам на valid составляет 2.9% , сравнение среднего значения метрики на кросс-валидации теряет смысл, так как в подавляющем большинстве случаев средние будут отличаться менее чем на стандартное отклонение."
   ]
  },
  {
   "cell_type": "markdown",
   "metadata": {},
   "source": [
    "## Задание 6 (опциональное): \n",
    "* сделать Hold-Out валидацию по времени (TransactionDT), повторить процедуры из п.1 / п.2 (на ваш выбор). \n",
    "* Построить доверительный интервал, сравнить качество на ЛБ выборке с полученным доверительным интервалом. \n",
    "* Сделать выводы."
   ]
  },
  {
   "cell_type": "code",
   "execution_count": 62,
   "metadata": {},
   "outputs": [],
   "source": [
    "from sklearn.model_selection import TimeSeriesSplit"
   ]
  },
  {
   "cell_type": "code",
   "execution_count": 63,
   "metadata": {},
   "outputs": [
    {
     "data": {
      "text/plain": [
       "((150000, 377), (30000, 377), (150000,), (30000,))"
      ]
     },
     "execution_count": 63,
     "metadata": {},
     "output_type": "execute_result"
    }
   ],
   "source": [
    "X = train[NUMERICAL_FEATS]\n",
    "y = train[TARGET]\n",
    "\n",
    "cv = TimeSeriesSplit()\n",
    "\n",
    "for train_index, test_index in cv.split(X):\n",
    "    X_train, X_valid = X.loc[train_index], X.loc[test_index]\n",
    "    y_train, y_valid = y[train_index], y[test_index]\n",
    "    \n",
    "X_train.shape,  X_valid.shape, y_train.shape, y_valid.shape"
   ]
  },
  {
   "cell_type": "code",
   "execution_count": 64,
   "metadata": {},
   "outputs": [
    {
     "name": "stdout",
     "output_type": "stream",
     "text": [
      "0:\ttest: 0.6295357\ttest1: 0.5987248\tbest: 0.5987248 (0)\ttotal: 197ms\tremaining: 32m 47s\n",
      "100:\ttest: 0.8616417\ttest1: 0.8359972\tbest: 0.8409099 (69)\ttotal: 14.6s\tremaining: 23m 51s\n",
      "Stopped by overfitting detector  (50 iterations wait)\n",
      "\n",
      "bestTest = 0.8409099102\n",
      "bestIteration = 69\n",
      "\n",
      "Shrink model to first 70 iterations.\n",
      "Wall time: 19.9 s\n"
     ]
    },
    {
     "data": {
      "text/plain": [
       "<catboost.core.CatBoostClassifier at 0x1e4245697f0>"
      ]
     },
     "execution_count": 64,
     "metadata": {},
     "output_type": "execute_result"
    }
   ],
   "source": [
    "%%time\n",
    "\n",
    "model_cb_time = cb.CatBoostClassifier(**params_cb)\n",
    "model_cb_time.fit(X=X_train, y=y_train, \n",
    "          eval_set=[(X_train, y_train), (X_valid, y_valid)],\n",
    "         )"
   ]
  },
  {
   "cell_type": "code",
   "execution_count": 65,
   "metadata": {},
   "outputs": [
    {
     "name": "stdout",
     "output_type": "stream",
     "text": [
      "Train-score: 0.859, Valid-score: 0.841, LB-score: 0.838\n"
     ]
    }
   ],
   "source": [
    "train_score = roc_auc_score(y_train, model_cb_time.predict_proba(X_train)[:, 1:])\n",
    "valid_score = roc_auc_score(y_valid, model_cb_time.predict_proba(X_valid)[:, 1:])\n",
    "lb_score = roc_auc_score(y_lb, model_cb_time.predict_proba(X_lb)[:, 1:])\n",
    "\n",
    "print(f\"Train-score: {round(train_score, 3)}, Valid-score: {round(valid_score, 3)}, LB-score: {round(lb_score, 3)}\")"
   ]
  },
  {
   "cell_type": "code",
   "execution_count": 66,
   "metadata": {},
   "outputs": [
    {
     "data": {
      "text/plain": [
       "(0.830945921439085, 0.8447393719368593)"
      ]
     },
     "execution_count": 66,
     "metadata": {},
     "output_type": "execute_result"
    }
   ],
   "source": [
    "scores = create_bootstrap_metrics(y_lb, model_cb_time.predict_proba(X_lb)[:, 1:], roc_auc_score)\n",
    "\n",
    "calculate_confidence_interval(scores)"
   ]
  },
  {
   "cell_type": "code",
   "execution_count": 67,
   "metadata": {},
   "outputs": [
    {
     "data": {
      "text/plain": [
       "Text(0.5, 0, 'sampel number')"
      ]
     },
     "execution_count": 67,
     "metadata": {},
     "output_type": "execute_result"
    },
    {
     "data": {
      "image/png": "[encoded data removed]",
      "text/plain": [
       "<Figure size 1080x360 with 2 Axes>"
      ]
     },
     "metadata": {
      "needs_background": "light"
     },
     "output_type": "display_data"
    }
   ],
   "source": [
    "fig, axes = plt.subplots(1, 2, figsize=(15, 5))\n",
    "plt.suptitle(\"Bootstrap for evaluating validation stability\", size=15)\n",
    "axes[1].scatter(range(len(scores)), scores, alpha=0.25, color=\"blue\")\n",
    "axes[1].set_xlabel(\"sampel number\", size=15)\n",
    "axes[1].set_ylabel(\"$R^2$ score\", size=15)\n",
    "\n",
    "sns.distplot(scores, ax=axes[0], color=\"green\", bins=20)\n",
    "axes[0].set_xlabel(\"sampel number\", size=15)"
   ]
  },
  {
   "cell_type": "markdown",
   "metadata": {},
   "source": [
    "**Вывод**\n",
    "\n",
    "* Значение метрики на лидерборде (0.838) находится в пределах доверительного интервала от 0.831 до 0.845. \n",
    "* Значения метрики на обучающей (0.859), валидационной (0.841) выборках и лидерборде (0.838) сближены. \n",
    "* Валидация является устойчивой.\n",
    "\n"
   ]
  },
  {
   "cell_type": "markdown",
   "metadata": {},
   "source": [
    "## Задание 7 (совсем опциональное): \n",
    "* в данном наборе данных у нас есть ID-транзакции (TransactionID) и время транзакции (TransactionDT), но отсутствует ID-клиента, который совершал транзакции. \n",
    "* Кажется, что в этой задаче валидация по клиенту работала бы хорошо. \n",
    "* Предложить критерий, по которому можно выделить клиентов и сделать п.5, используя созданное определение клиента, используя валидацию по клиенту (GroupKFold)."
   ]
  },
  {
   "cell_type": "code",
   "execution_count": null,
   "metadata": {},
   "outputs": [],
   "source": []
  },
  {
   "cell_type": "code",
   "execution_count": null,
   "metadata": {},
   "outputs": [],
   "source": []
  }
 ],
 "metadata": {
  "kernelspec": {
   "display_name": "Python 3",
   "language": "python",
   "name": "python3"
  },
  "language_info": {
   "codemirror_mode": {
    "name": "ipython",
    "version": 3
   },
   "file_extension": ".py",
   "mimetype": "text/x-python",
   "name": "python",
   "nbconvert_exporter": "python",
   "pygments_lexer": "ipython3",
   "version": "3.8.8"
  }
 },
 "nbformat": 4,
 "nbformat_minor": 4
}
