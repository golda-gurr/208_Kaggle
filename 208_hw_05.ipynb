{
 "cells": [
  {
   "cell_type": "markdown",
   "metadata": {},
   "source": [
    "# Курс Спортивный анализ данных. Платформа Kaggle"
   ]
  },
  {
   "cell_type": "markdown",
   "metadata": {},
   "source": [
    "# Практическое задание урока 5. Feature Engineering, Feature Selection, part I"
   ]
  },
  {
   "cell_type": "markdown",
   "metadata": {},
   "source": [
    "Продолжим работу с данными, которые были использованы в ДЗ2 и 3, продолжим решать задачу обнаружения мошеннических транзакций, что позволит получить полное решение задачи / полный пайплайн.\n",
    "\n",
    "Задание 0: выбрать любую модель машнного обучения и зафиксировать любой тип валидации. Обучить базовую модель и зафиксировать базовое качество модели. В каждом следующем задании нужно будет обучить выбранную модель и оценивать ее качество на зафиксированной схеме валидации. После каждого задания, требуется сделать вывод о достигаемом качестве модели, по сравнению с качестом из предыдущего шага.\n",
    "\n",
    "Задание 1: признак `TransactionDT` - это смещение в секундах относительно базовой даты. Базовая дата - `2017-12-01`, преобразовать признак `TransactionDT` в `datetime`, прибавив к базовой дате исходное значение признака. Из полученного признака выделить год, месяц, день недели, час, день.\n",
    "\n",
    "Задание 2: сделать конкатенацию признаков\n",
    "* `card1` + `card2`;\n",
    "* `card1` + `card2` + `card_3` + `card_5`;\n",
    "* `card1` + `card2` + `card_3` + `card_5` + `addr1` + `addr2`\n",
    "\n",
    "Рассматривать их как категориальных признаки.\n",
    "\n",
    "Задание 3: Сделать `FrequencyEncoder` для признаков `card1` - `card6`, `addr1`, `addr2`.\n",
    "\n",
    "Задание 4: Создать признаки на основе отношения: `TransactionAmt` к вычисленной статистике. Статистика - среднее значение / стандартное отклонение `TransactionAmt`, сгруппированное по `card1` - `card6`, `addr1`, `addr2`, и по признакам, созданным в задании 2.\n",
    "\n",
    "Задание 5: Создать признаки на основе отношения: D15 к вычисленной статистике. Статистика - среднее значение / стандартное отклонение D15, сгруппированное по `card1` - `card6`, `addr1`, `addr2`, и по признакам, созданным в задании 2.\n",
    "\n",
    "Задание 6: выделить дробную часть и целую часть признака TransactionAmt в два отдельных признака. После создать отдельных признак - логарифм от `TransactionAmt`\n",
    "\n",
    "Задание 7 (опция): выполнить предварительную подготовку / очистку признаков `P_emaildomain` и `R_emaildomain` (что и как делать - остается на ваше усмотрение) и сделать Frequency Encoding для очищенных признаков."
   ]
  },
  {
   "cell_type": "markdown",
   "metadata": {},
   "source": [
    "## Подключение библиотек и скриптов"
   ]
  },
  {
   "cell_type": "code",
   "execution_count": 171,
   "metadata": {},
   "outputs": [],
   "source": [
    "import numpy as np\n",
    "import pandas as pd\n",
    "#import matplotlib.pyplot as plt\n",
    "from scipy.stats import rankdata\n",
    "from scipy.stats.mstats import winsorize\n",
    "\n",
    "#from sklearn.ensemble import RandomForestClassifier\n",
    "#from sklearn.model_selection import cross_val_score\n",
    "#from sklearn.linear_model import LogisticRegression, LinearRegression\n",
    "#from sklearn.preprocessing import StandardScaler, MinMaxScaler\n",
    "#from sklearn.pipeline import Pipeline\n",
    "\n",
    "from sklearn.metrics import roc_auc_score\n",
    "from sklearn.model_selection import train_test_split, cross_val_score\n",
    "import catboost as cb\n",
    "#from sklearn.preprocessing import LabelEncoder\n",
    "from pathlib import Path\n",
    "import math\n",
    "pd.set_option(\"max.columns\", None)"
   ]
  },
  {
   "cell_type": "code",
   "execution_count": 172,
   "metadata": {},
   "outputs": [],
   "source": [
    "def catboost_hold_out_validation(params, X, y, split_params = [0.7, 0.2, 0.1], categorical = None, seed = 42):\n",
    "    \"\"\"\n",
    "    Hold-Out валидация для модели catbooost.\n",
    "\n",
    "    Parameters\n",
    "    ----------\n",
    "    params: dict\n",
    "        Словарь гиперпараметров модели.\n",
    "\n",
    "    X: pandas.core.frame.DataFrame\n",
    "        Матрица признако для обучения модели.\n",
    "\n",
    "    y: pandas.core.frame.Series\n",
    "        Вектор целевой переменной для обучения модели.\n",
    "\n",
    "    split_params: List[float], optional, default = [0.7, 0.2, 0.1]\n",
    "        Параметры (доли) разбиения выборки.\n",
    "        Опциональный параметр, по умолчанию, равен [0.7, 0.2, 0.1].\n",
    "\n",
    "    categorical: str, optional, default = None\n",
    "        Список категориальных признаков.\n",
    "        Опциональный параметр, по умолчанию, не используется.\n",
    "\n",
    "    Returns\n",
    "    -------\n",
    "    estimator: catboost.core.CatBoostClassifier\n",
    "        Обученный классификатор catboost.\n",
    "\n",
    "    test_prediction: np.array, optional\n",
    "        Вектор прогнозов для тестовой выборки.\n",
    "        Опциональный объект, возвращается только, если split_params\n",
    "        содержит 3 значения.\n",
    "\n",
    "    \"\"\"\n",
    "    if categorical is not None:\n",
    "        X[categorical] = X[categorical].astype(str)\n",
    "\n",
    "    numeric = list(set(X.columns) - set(categorical))\n",
    "    x_train, x_valid = train_test_split(\n",
    "        X, train_size=split_params[0], random_state=seed\n",
    "    )\n",
    "    y_train, y_valid = train_test_split(\n",
    "        y, train_size=split_params[0], random_state=seed\n",
    "    )\n",
    "\n",
    "    if len(split_params) == 3:\n",
    "        test_size = int(split_params[2] * X.shape[0])\n",
    "\n",
    "        x_valid, x_test = train_test_split(\n",
    "            x_valid, test_size=test_size, random_state=seed\n",
    "        )\n",
    "        y_valid, y_test = train_test_split(\n",
    "            y_valid, test_size=test_size, random_state=seed\n",
    "        )\n",
    "\n",
    "    estimator = cb.CatBoostClassifier(**params)\n",
    "    estimator.fit(\n",
    "        x_train, y_train, categorical,\n",
    "        eval_set=[(x_train, y_train), (x_valid, y_valid)]\n",
    "    )\n",
    "\n",
    "    print(\"=\"*80)\n",
    "    train_score = roc_auc_score(y_train, estimator.predict_proba(x_train)[:, 1])\n",
    "    print(f\"Train Score = {round(train_score, 4)}\")\n",
    "    valid_score = roc_auc_score(y_valid, estimator.predict_proba(x_valid)[:, 1])\n",
    "    print(f\"Valid Score = {round(valid_score, 4)}\")\n",
    "\n",
    "    if len(split_params) == 3:\n",
    "\n",
    "        test_prediction = estimator.predict_proba(x_test)[:, 1]\n",
    "        test_score = roc_auc_score(y_test, test_prediction)\n",
    "        print(f\"Test Score = {round(test_score, 4)}\")\n",
    "\n",
    "        return estimator, test_prediction\n",
    "\n",
    "    else:\n",
    "        return estimator"
   ]
  },
  {
   "cell_type": "code",
   "execution_count": 173,
   "metadata": {},
   "outputs": [],
   "source": [
    "def get_input(dataset_path: str) -> pd.DataFrame:\n",
    "    \"\"\"\n",
    "    Считывание данных и вывод основной информации о наборе данных.\n",
    "    \n",
    "    Parametrs\n",
    "    ---------\n",
    "    dataset_path: str\n",
    "        Название файла\n",
    "        \n",
    "    Returns\n",
    "    -------\n",
    "    data: pandas.core.frame.DataFrame\n",
    "        Загруженный набор данных в pandas.DataFrame\n",
    "    \"\"\"\n",
    "    \n",
    "    data_root = Path('D:/DS_materials/208_kaggle/data/')\n",
    "    dataset = pd.read_csv(f'{data_root}/{dataset_path}')\n",
    "    \n",
    "    print(f\"{dataset_path} shape: {dataset.shape[0]} rows, {dataset.shape[1]} cols\")\n",
    "\n",
    "    return dataset"
   ]
  },
  {
   "cell_type": "markdown",
   "metadata": {},
   "source": [
    "## Загрузка данных"
   ]
  },
  {
   "cell_type": "code",
   "execution_count": 174,
   "metadata": {},
   "outputs": [
    {
     "name": "stdout",
     "output_type": "stream",
     "text": [
      "assignment_2_train.csv shape: 180000 rows, 394 cols\n",
      "assignment_2_test.csv shape: 100001 rows, 394 cols\n"
     ]
    }
   ],
   "source": [
    "train = get_input(\"assignment_2_train.csv\")\n",
    "test = get_input(\"assignment_2_test.csv\")"
   ]
  },
  {
   "cell_type": "markdown",
   "metadata": {},
   "source": [
    "## Подготовка данных"
   ]
  },
  {
   "cell_type": "code",
   "execution_count": 175,
   "metadata": {},
   "outputs": [
    {
     "name": "stdout",
     "output_type": "stream",
     "text": [
      "Categorical Features Count: 14\n"
     ]
    }
   ],
   "source": [
    "ID = 'TransactionID'\n",
    "DATE = 'TransactionDT'\n",
    "TARGET = 'isFraud'  # Target\n",
    "\n",
    "#ALL_NUMERICAL_FEATS = train.select_dtypes(include=[np.number]).columns # Numerical + Target\n",
    "#NUMERICAL_FEATS = ALL_NUMERICAL_FEATS.drop([TARGET, ID, DATE]) # Numerical only\n",
    "CAT_FEATS = train.dtypes[train.dtypes==\"object\"].index.tolist()  # Categorical\n",
    "\n",
    "print(f\"Categorical Features Count: {len(CAT_FEATS)}\")\n",
    "#print(f\"Numerical Features Count: {len(NUMERICAL_FEATS)}\")"
   ]
  },
  {
   "cell_type": "markdown",
   "metadata": {},
   "source": [
    "## Задание 0: \n",
    "\n",
    "* выбрать любую модель машнного обучения и зафиксировать любой тип валидации. \n",
    "* Обучить базовую модель и зафиксировать базовое качество модели. \n",
    "* В каждом следующем задании нужно будет обучить выбранную модель и оценивать ее качество на зафиксированной схеме валидации. \n",
    "* После каждого задания, требуется сделать вывод о достигаемом качестве модели, по сравнению с качестом из предыдущего шага.\n",
    "\n",
    "**Baseline model**"
   ]
  },
  {
   "cell_type": "code",
   "execution_count": 176,
   "metadata": {},
   "outputs": [],
   "source": [
    "seed = 42\n",
    "np.random.seed(seed)\n",
    "\n",
    "X = train.copy()\n",
    "X = X.drop([TARGET, ID, DATE], axis=1)\n",
    "y = train[TARGET]"
   ]
  },
  {
   "cell_type": "code",
   "execution_count": 177,
   "metadata": {},
   "outputs": [],
   "source": [
    "params_cb = {\n",
    "    \"n_estimators\": 2000,\n",
    "    \"loss_function\": \"Logloss\",\n",
    "    \"eval_metric\": \"AUC\",\n",
    "    \"task_type\": \"CPU\",\n",
    "    \"max_bin\": 20,\n",
    "    \"verbose\": 100,\n",
    "    \"max_depth\": 6,\n",
    "    \"l2_leaf_reg\": 100,\n",
    "    \"early_stopping_rounds\": 50,\n",
    "    \"thread_count\": 6,\n",
    "    \"random_seed\": seed\n",
    "}"
   ]
  },
  {
   "cell_type": "code",
   "execution_count": 178,
   "metadata": {},
   "outputs": [
    {
     "name": "stdout",
     "output_type": "stream",
     "text": [
      "0:\ttest: 0.6220983\ttest1: 0.6208272\tbest: 0.6208272 (0)\ttotal: 724ms\tremaining: 24m 7s\n",
      "100:\ttest: 0.8633538\ttest1: 0.8602173\tbest: 0.8602173 (100)\ttotal: 1m 10s\tremaining: 22m 12s\n",
      "200:\ttest: 0.8801031\ttest1: 0.8761358\tbest: 0.8761416 (199)\ttotal: 2m 19s\tremaining: 20m 51s\n",
      "300:\ttest: 0.8891477\ttest1: 0.8829224\tbest: 0.8829224 (300)\ttotal: 3m 26s\tremaining: 19m 23s\n",
      "400:\ttest: 0.8956459\ttest1: 0.8883050\tbest: 0.8883050 (400)\ttotal: 4m 34s\tremaining: 18m 14s\n",
      "500:\ttest: 0.8983561\ttest1: 0.8906642\tbest: 0.8906642 (500)\ttotal: 5m 43s\tremaining: 17m 8s\n",
      "600:\ttest: 0.9002421\ttest1: 0.8923206\tbest: 0.8923206 (600)\ttotal: 6m 51s\tremaining: 15m 58s\n",
      "700:\ttest: 0.9016286\ttest1: 0.8933351\tbest: 0.8933351 (700)\ttotal: 8m 3s\tremaining: 14m 55s\n",
      "800:\ttest: 0.9038404\ttest1: 0.8949161\tbest: 0.8949161 (800)\ttotal: 9m 11s\tremaining: 13m 44s\n",
      "900:\ttest: 0.9062002\ttest1: 0.8967663\tbest: 0.8967663 (900)\ttotal: 10m 20s\tremaining: 12m 37s\n",
      "1000:\ttest: 0.9079216\ttest1: 0.8981092\tbest: 0.8981092 (1000)\ttotal: 11m 31s\tremaining: 11m 30s\n",
      "1100:\ttest: 0.9088223\ttest1: 0.8987198\tbest: 0.8987198 (1100)\ttotal: 12m 40s\tremaining: 10m 20s\n",
      "1200:\ttest: 0.9093628\ttest1: 0.8990268\tbest: 0.8990376 (1198)\ttotal: 13m 47s\tremaining: 9m 10s\n",
      "1300:\ttest: 0.9108537\ttest1: 0.9002557\tbest: 0.9002557 (1300)\ttotal: 14m 55s\tremaining: 8m 1s\n",
      "1400:\ttest: 0.9109136\ttest1: 0.9003357\tbest: 0.9003357 (1400)\ttotal: 16m 2s\tremaining: 6m 51s\n",
      "1500:\ttest: 0.9109281\ttest1: 0.9003687\tbest: 0.9003687 (1500)\ttotal: 17m 7s\tremaining: 5m 41s\n",
      "1600:\ttest: 0.9109367\ttest1: 0.9003934\tbest: 0.9003934 (1600)\ttotal: 18m 11s\tremaining: 4m 32s\n",
      "1700:\ttest: 0.9109458\ttest1: 0.9004146\tbest: 0.9004146 (1700)\ttotal: 19m 12s\tremaining: 3m 22s\n",
      "1800:\ttest: 0.9109537\ttest1: 0.9004293\tbest: 0.9004293 (1800)\ttotal: 20m 13s\tremaining: 2m 14s\n",
      "1900:\ttest: 0.9109994\ttest1: 0.9004865\tbest: 0.9004886 (1892)\ttotal: 21m 10s\tremaining: 1m 6s\n",
      "1999:\ttest: 0.9110414\ttest1: 0.9005389\tbest: 0.9005390 (1996)\ttotal: 22m 5s\tremaining: 0us\n",
      "\n",
      "bestTest = 0.9005389834\n",
      "bestIteration = 1996\n",
      "\n",
      "Shrink model to first 1997 iterations.\n",
      "================================================================================\n",
      "Train Score = 0.911\n",
      "Valid Score = 0.9005\n"
     ]
    }
   ],
   "source": [
    "model_cb_0 = catboost_hold_out_validation(params=params_cb,\n",
    "                                                        X=X,\n",
    "                                                        y=y,\n",
    "                                                        split_params =[0.7, 0.3],\n",
    "                                                        categorical = CAT_FEATS,\n",
    "                                                        seed=seed)"
   ]
  },
  {
   "cell_type": "markdown",
   "metadata": {},
   "source": [
    "**Итого:** \n",
    "* Базовое качество модели на валидационной выборке Valid Score = 0.9005"
   ]
  },
  {
   "cell_type": "markdown",
   "metadata": {},
   "source": [
    "## Задание 1:\n",
    "\n",
    "* признак `TransactionDT` - это смещение в секундах относительно базовой даты. \n",
    "* Базовая дата - `2017-12-01`, преобразовать признак `TransactionDT` в `datetime`, прибавив к базовой дате исходное значение признака. \n",
    "* Из полученного признака выделить год, месяц, день недели, час, день."
   ]
  },
  {
   "cell_type": "code",
   "execution_count": 179,
   "metadata": {},
   "outputs": [],
   "source": [
    "base_date = pd.to_datetime('2017-12-01')\n",
    "train[DATE] = pd.to_datetime(train[DATE], unit='s', origin=base_date)"
   ]
  },
  {
   "cell_type": "code",
   "execution_count": 180,
   "metadata": {},
   "outputs": [
    {
     "data": {
      "text/html": [
       "<div>\n",
       "<style scoped>\n",
       "    .dataframe tbody tr th:only-of-type {\n",
       "        vertical-align: middle;\n",
       "    }\n",
       "\n",
       "    .dataframe tbody tr th {\n",
       "        vertical-align: top;\n",
       "    }\n",
       "\n",
       "    .dataframe thead th {\n",
       "        text-align: right;\n",
       "    }\n",
       "</style>\n",
       "<table border=\"1\" class=\"dataframe\">\n",
       "  <thead>\n",
       "    <tr style=\"text-align: right;\">\n",
       "      <th></th>\n",
       "      <th>TransactionDT_Year</th>\n",
       "      <th>TransactionDT_Month</th>\n",
       "      <th>TransactionDT_WeekDay</th>\n",
       "      <th>TransactionDT_Hour</th>\n",
       "      <th>TransactionDT_Day</th>\n",
       "    </tr>\n",
       "  </thead>\n",
       "  <tbody>\n",
       "    <tr>\n",
       "      <th>0</th>\n",
       "      <td>2017</td>\n",
       "      <td>12</td>\n",
       "      <td>5</td>\n",
       "      <td>0</td>\n",
       "      <td>2</td>\n",
       "    </tr>\n",
       "    <tr>\n",
       "      <th>1</th>\n",
       "      <td>2017</td>\n",
       "      <td>12</td>\n",
       "      <td>5</td>\n",
       "      <td>0</td>\n",
       "      <td>2</td>\n",
       "    </tr>\n",
       "    <tr>\n",
       "      <th>2</th>\n",
       "      <td>2017</td>\n",
       "      <td>12</td>\n",
       "      <td>5</td>\n",
       "      <td>0</td>\n",
       "      <td>2</td>\n",
       "    </tr>\n",
       "    <tr>\n",
       "      <th>3</th>\n",
       "      <td>2017</td>\n",
       "      <td>12</td>\n",
       "      <td>5</td>\n",
       "      <td>0</td>\n",
       "      <td>2</td>\n",
       "    </tr>\n",
       "    <tr>\n",
       "      <th>4</th>\n",
       "      <td>2017</td>\n",
       "      <td>12</td>\n",
       "      <td>5</td>\n",
       "      <td>0</td>\n",
       "      <td>2</td>\n",
       "    </tr>\n",
       "  </tbody>\n",
       "</table>\n",
       "</div>"
      ],
      "text/plain": [
       "   TransactionDT_Year  TransactionDT_Month  TransactionDT_WeekDay  \\\n",
       "0                2017                   12                      5   \n",
       "1                2017                   12                      5   \n",
       "2                2017                   12                      5   \n",
       "3                2017                   12                      5   \n",
       "4                2017                   12                      5   \n",
       "\n",
       "   TransactionDT_Hour  TransactionDT_Day  \n",
       "0                   0                  2  \n",
       "1                   0                  2  \n",
       "2                   0                  2  \n",
       "3                   0                  2  \n",
       "4                   0                  2  "
      ]
     },
     "execution_count": 180,
     "metadata": {},
     "output_type": "execute_result"
    }
   ],
   "source": [
    "train[DATE + '_Year'] = train[DATE].dt.year\n",
    "train[DATE + '_Month'] = train[DATE].dt.month\n",
    "train[DATE + '_WeekDay'] = train[DATE].dt.weekday  # день недели как целое число, где понедельник — 0, а воскресенье — 6\n",
    "train[DATE + '_Hour'] = train[DATE].dt.hour\n",
    "train[DATE + '_Day'] = train[DATE].dt.day  # От 1 до количества дней в данном месяце данного года\n",
    "\n",
    "train.iloc[:, -5:].head()"
   ]
  },
  {
   "cell_type": "code",
   "execution_count": 181,
   "metadata": {},
   "outputs": [],
   "source": [
    "# Обратное преобразование в timestamp\n",
    "train[DATE] = (train[DATE].astype('int64') / 10**9).astype('int64')"
   ]
  },
  {
   "cell_type": "code",
   "execution_count": 182,
   "metadata": {},
   "outputs": [
    {
     "name": "stdout",
     "output_type": "stream",
     "text": [
      "0:\ttest: 0.6642880\ttest1: 0.6650940\tbest: 0.6650940 (0)\ttotal: 796ms\tremaining: 26m 31s\n",
      "100:\ttest: 0.8697350\ttest1: 0.8662081\tbest: 0.8662081 (100)\ttotal: 1m 12s\tremaining: 22m 46s\n",
      "200:\ttest: 0.8851765\ttest1: 0.8811913\tbest: 0.8811913 (200)\ttotal: 2m 23s\tremaining: 21m 22s\n",
      "300:\ttest: 0.8947221\ttest1: 0.8890216\tbest: 0.8890216 (300)\ttotal: 3m 31s\tremaining: 19m 54s\n",
      "400:\ttest: 0.9010397\ttest1: 0.8946221\tbest: 0.8946221 (400)\ttotal: 4m 41s\tremaining: 18m 43s\n",
      "500:\ttest: 0.9031435\ttest1: 0.8961790\tbest: 0.8961790 (500)\ttotal: 5m 50s\tremaining: 17m 28s\n",
      "600:\ttest: 0.9050670\ttest1: 0.8978663\tbest: 0.8978663 (600)\ttotal: 7m\tremaining: 16m 18s\n",
      "700:\ttest: 0.9080783\ttest1: 0.9001840\tbest: 0.9001840 (700)\ttotal: 8m 11s\tremaining: 15m 10s\n",
      "800:\ttest: 0.9096685\ttest1: 0.9015079\tbest: 0.9015079 (800)\ttotal: 9m 22s\tremaining: 14m 1s\n",
      "900:\ttest: 0.9115563\ttest1: 0.9030572\tbest: 0.9030589 (898)\ttotal: 10m 32s\tremaining: 12m 50s\n",
      "1000:\ttest: 0.9127549\ttest1: 0.9039080\tbest: 0.9039080 (1000)\ttotal: 11m 41s\tremaining: 11m 40s\n",
      "1100:\ttest: 0.9140408\ttest1: 0.9049046\tbest: 0.9049046 (1100)\ttotal: 12m 52s\tremaining: 10m 30s\n",
      "1200:\ttest: 0.9143190\ttest1: 0.9051488\tbest: 0.9051488 (1200)\ttotal: 14m 1s\tremaining: 9m 19s\n",
      "1300:\ttest: 0.9143323\ttest1: 0.9051742\tbest: 0.9051742 (1300)\ttotal: 15m 7s\tremaining: 8m 7s\n",
      "1400:\ttest: 0.9143397\ttest1: 0.9051942\tbest: 0.9051942 (1400)\ttotal: 16m 13s\tremaining: 6m 56s\n",
      "1500:\ttest: 0.9143734\ttest1: 0.9052329\tbest: 0.9052329 (1500)\ttotal: 17m 19s\tremaining: 5m 45s\n",
      "1600:\ttest: 0.9144299\ttest1: 0.9052723\tbest: 0.9052724 (1597)\ttotal: 18m 25s\tremaining: 4m 35s\n",
      "1700:\ttest: 0.9145383\ttest1: 0.9053603\tbest: 0.9053603 (1700)\ttotal: 19m 30s\tremaining: 3m 25s\n",
      "1800:\ttest: 0.9145635\ttest1: 0.9053896\tbest: 0.9053897 (1797)\ttotal: 20m 35s\tremaining: 2m 16s\n",
      "1900:\ttest: 0.9145900\ttest1: 0.9054122\tbest: 0.9054122 (1900)\ttotal: 21m 41s\tremaining: 1m 7s\n",
      "1999:\ttest: 0.9146958\ttest1: 0.9055049\tbest: 0.9055053 (1981)\ttotal: 22m 45s\tremaining: 0us\n",
      "\n",
      "bestTest = 0.9055052748\n",
      "bestIteration = 1981\n",
      "\n",
      "Shrink model to first 1982 iterations.\n",
      "================================================================================\n",
      "Train Score = 0.9147\n",
      "Valid Score = 0.9055\n",
      "Wall time: 22min 55s\n"
     ]
    }
   ],
   "source": [
    "%%time\n",
    "\n",
    "X = train.drop([TARGET, ID], axis=1)\n",
    "y = train[TARGET]\n",
    "\n",
    "model_cb_1 = catboost_hold_out_validation(params=params_cb,\n",
    "                                                        X=X,\n",
    "                                                        y=y,\n",
    "                                                        split_params =[0.7, 0.3],\n",
    "                                                        categorical = CAT_FEATS,\n",
    "                                                        seed=seed)"
   ]
  },
  {
   "cell_type": "markdown",
   "metadata": {},
   "source": [
    "**Итого:** \n",
    "* Базовое качество модели на валидационной выборке Valid Score = 0.9005\n",
    "* На шаге 1 качество модели на валидационной выборке Valid Score = 0.9055, что немного выше, чем базовое качество"
   ]
  },
  {
   "cell_type": "markdown",
   "metadata": {},
   "source": [
    "## Задание 2: \n",
    "\n",
    "сделать конкатенацию признаков\n",
    "* `card1` + `card2`;\n",
    "* `card1` + `card2` + `card_3` + `card_5`;\n",
    "* `card1` + `card2` + `card_3` + `card_5` + `addr1` + `addr2`\n",
    "\n",
    "Рассматривать их как категориальных признаки."
   ]
  },
  {
   "cell_type": "code",
   "execution_count": 183,
   "metadata": {},
   "outputs": [
    {
     "data": {
      "text/html": [
       "<div>\n",
       "<style scoped>\n",
       "    .dataframe tbody tr th:only-of-type {\n",
       "        vertical-align: middle;\n",
       "    }\n",
       "\n",
       "    .dataframe tbody tr th {\n",
       "        vertical-align: top;\n",
       "    }\n",
       "\n",
       "    .dataframe thead th {\n",
       "        text-align: right;\n",
       "    }\n",
       "</style>\n",
       "<table border=\"1\" class=\"dataframe\">\n",
       "  <thead>\n",
       "    <tr style=\"text-align: right;\">\n",
       "      <th></th>\n",
       "      <th>ProductCD</th>\n",
       "      <th>card4</th>\n",
       "      <th>card6</th>\n",
       "      <th>P_emaildomain</th>\n",
       "      <th>R_emaildomain</th>\n",
       "      <th>M1</th>\n",
       "      <th>M2</th>\n",
       "      <th>M3</th>\n",
       "      <th>M4</th>\n",
       "      <th>M5</th>\n",
       "      <th>M6</th>\n",
       "      <th>M7</th>\n",
       "      <th>M8</th>\n",
       "      <th>M9</th>\n",
       "    </tr>\n",
       "  </thead>\n",
       "  <tbody>\n",
       "    <tr>\n",
       "      <th>0</th>\n",
       "      <td>W</td>\n",
       "      <td>discover</td>\n",
       "      <td>credit</td>\n",
       "      <td>NaN</td>\n",
       "      <td>NaN</td>\n",
       "      <td>T</td>\n",
       "      <td>T</td>\n",
       "      <td>T</td>\n",
       "      <td>M2</td>\n",
       "      <td>F</td>\n",
       "      <td>T</td>\n",
       "      <td>NaN</td>\n",
       "      <td>NaN</td>\n",
       "      <td>NaN</td>\n",
       "    </tr>\n",
       "    <tr>\n",
       "      <th>1</th>\n",
       "      <td>W</td>\n",
       "      <td>mastercard</td>\n",
       "      <td>credit</td>\n",
       "      <td>gmail.com</td>\n",
       "      <td>NaN</td>\n",
       "      <td>NaN</td>\n",
       "      <td>NaN</td>\n",
       "      <td>NaN</td>\n",
       "      <td>M0</td>\n",
       "      <td>T</td>\n",
       "      <td>T</td>\n",
       "      <td>NaN</td>\n",
       "      <td>NaN</td>\n",
       "      <td>NaN</td>\n",
       "    </tr>\n",
       "  </tbody>\n",
       "</table>\n",
       "</div>"
      ],
      "text/plain": [
       "  ProductCD       card4   card6 P_emaildomain R_emaildomain   M1   M2   M3  \\\n",
       "0         W    discover  credit           NaN           NaN    T    T    T   \n",
       "1         W  mastercard  credit     gmail.com           NaN  NaN  NaN  NaN   \n",
       "\n",
       "   M4 M5 M6   M7   M8   M9  \n",
       "0  M2  F  T  NaN  NaN  NaN  \n",
       "1  M0  T  T  NaN  NaN  NaN  "
      ]
     },
     "execution_count": 183,
     "metadata": {},
     "output_type": "execute_result"
    }
   ],
   "source": [
    "train[CAT_FEATS].head(2)"
   ]
  },
  {
   "cell_type": "code",
   "execution_count": 184,
   "metadata": {},
   "outputs": [],
   "source": [
    "features = ['card1', 'card2', 'card3', 'card5', 'addr1', 'addr2']\n",
    "\n",
    "for feature in features:\n",
    "    train[feature] = train[feature].astype('str')"
   ]
  },
  {
   "cell_type": "code",
   "execution_count": 185,
   "metadata": {},
   "outputs": [],
   "source": [
    "train[\"card1_card2\"] = train['card1'] + \" | \" + train['card2']\n",
    "train[\"card1_card2_card3_card5\"] = train['card1_card2'] + \" | \" + train['card3'] + \" | \" + train['card5']\n",
    "train[\"card1_card2_card3_card5_addr1_addr2\"] = train['card1_card2_card3_card5'] + \" | \" +  train['addr1'] + \" | \" + train['addr2']"
   ]
  },
  {
   "cell_type": "code",
   "execution_count": 186,
   "metadata": {},
   "outputs": [
    {
     "data": {
      "text/html": [
       "<div>\n",
       "<style scoped>\n",
       "    .dataframe tbody tr th:only-of-type {\n",
       "        vertical-align: middle;\n",
       "    }\n",
       "\n",
       "    .dataframe tbody tr th {\n",
       "        vertical-align: top;\n",
       "    }\n",
       "\n",
       "    .dataframe thead th {\n",
       "        text-align: right;\n",
       "    }\n",
       "</style>\n",
       "<table border=\"1\" class=\"dataframe\">\n",
       "  <thead>\n",
       "    <tr style=\"text-align: right;\">\n",
       "      <th></th>\n",
       "      <th>ProductCD</th>\n",
       "      <th>card1</th>\n",
       "      <th>card2</th>\n",
       "      <th>card3</th>\n",
       "      <th>card4</th>\n",
       "      <th>card5</th>\n",
       "      <th>card6</th>\n",
       "      <th>addr1</th>\n",
       "      <th>addr2</th>\n",
       "      <th>P_emaildomain</th>\n",
       "      <th>R_emaildomain</th>\n",
       "      <th>M1</th>\n",
       "      <th>M2</th>\n",
       "      <th>M3</th>\n",
       "      <th>M4</th>\n",
       "      <th>M5</th>\n",
       "      <th>M6</th>\n",
       "      <th>M7</th>\n",
       "      <th>M8</th>\n",
       "      <th>M9</th>\n",
       "      <th>card1_card2</th>\n",
       "      <th>card1_card2_card3_card5</th>\n",
       "      <th>card1_card2_card3_card5_addr1_addr2</th>\n",
       "    </tr>\n",
       "  </thead>\n",
       "  <tbody>\n",
       "    <tr>\n",
       "      <th>0</th>\n",
       "      <td>W</td>\n",
       "      <td>13926</td>\n",
       "      <td>nan</td>\n",
       "      <td>150.0</td>\n",
       "      <td>discover</td>\n",
       "      <td>142.0</td>\n",
       "      <td>credit</td>\n",
       "      <td>315.0</td>\n",
       "      <td>87.0</td>\n",
       "      <td>NaN</td>\n",
       "      <td>NaN</td>\n",
       "      <td>T</td>\n",
       "      <td>T</td>\n",
       "      <td>T</td>\n",
       "      <td>M2</td>\n",
       "      <td>F</td>\n",
       "      <td>T</td>\n",
       "      <td>NaN</td>\n",
       "      <td>NaN</td>\n",
       "      <td>NaN</td>\n",
       "      <td>13926 | nan</td>\n",
       "      <td>13926 | nan | 150.0 | 142.0</td>\n",
       "      <td>13926 | nan | 150.0 | 142.0 | 315.0 | 87.0</td>\n",
       "    </tr>\n",
       "    <tr>\n",
       "      <th>1</th>\n",
       "      <td>W</td>\n",
       "      <td>2755</td>\n",
       "      <td>404.0</td>\n",
       "      <td>150.0</td>\n",
       "      <td>mastercard</td>\n",
       "      <td>102.0</td>\n",
       "      <td>credit</td>\n",
       "      <td>325.0</td>\n",
       "      <td>87.0</td>\n",
       "      <td>gmail.com</td>\n",
       "      <td>NaN</td>\n",
       "      <td>NaN</td>\n",
       "      <td>NaN</td>\n",
       "      <td>NaN</td>\n",
       "      <td>M0</td>\n",
       "      <td>T</td>\n",
       "      <td>T</td>\n",
       "      <td>NaN</td>\n",
       "      <td>NaN</td>\n",
       "      <td>NaN</td>\n",
       "      <td>2755 | 404.0</td>\n",
       "      <td>2755 | 404.0 | 150.0 | 102.0</td>\n",
       "      <td>2755 | 404.0 | 150.0 | 102.0 | 325.0 | 87.0</td>\n",
       "    </tr>\n",
       "  </tbody>\n",
       "</table>\n",
       "</div>"
      ],
      "text/plain": [
       "  ProductCD  card1  card2  card3       card4  card5   card6  addr1 addr2  \\\n",
       "0         W  13926    nan  150.0    discover  142.0  credit  315.0  87.0   \n",
       "1         W   2755  404.0  150.0  mastercard  102.0  credit  325.0  87.0   \n",
       "\n",
       "  P_emaildomain R_emaildomain   M1   M2   M3  M4 M5 M6   M7   M8   M9  \\\n",
       "0           NaN           NaN    T    T    T  M2  F  T  NaN  NaN  NaN   \n",
       "1     gmail.com           NaN  NaN  NaN  NaN  M0  T  T  NaN  NaN  NaN   \n",
       "\n",
       "    card1_card2       card1_card2_card3_card5  \\\n",
       "0   13926 | nan   13926 | nan | 150.0 | 142.0   \n",
       "1  2755 | 404.0  2755 | 404.0 | 150.0 | 102.0   \n",
       "\n",
       "           card1_card2_card3_card5_addr1_addr2  \n",
       "0   13926 | nan | 150.0 | 142.0 | 315.0 | 87.0  \n",
       "1  2755 | 404.0 | 150.0 | 102.0 | 325.0 | 87.0  "
      ]
     },
     "execution_count": 186,
     "metadata": {},
     "output_type": "execute_result"
    }
   ],
   "source": [
    "CAT_FEATS = train.dtypes[train.dtypes==\"object\"].index.tolist()  # Categorical\n",
    "train[CAT_FEATS].head(2)"
   ]
  },
  {
   "cell_type": "code",
   "execution_count": 187,
   "metadata": {},
   "outputs": [
    {
     "name": "stdout",
     "output_type": "stream",
     "text": [
      "0:\ttest: 0.5591302\ttest1: 0.5500489\tbest: 0.5500489 (0)\ttotal: 840ms\tremaining: 28m\n",
      "100:\ttest: 0.9575981\ttest1: 0.9120237\tbest: 0.9120237 (100)\ttotal: 1m 35s\tremaining: 29m 53s\n",
      "200:\ttest: 0.9700971\ttest1: 0.9265068\tbest: 0.9265068 (200)\ttotal: 3m 13s\tremaining: 28m 52s\n",
      "300:\ttest: 0.9768168\ttest1: 0.9366387\tbest: 0.9366387 (300)\ttotal: 4m 56s\tremaining: 27m 52s\n",
      "400:\ttest: 0.9786857\ttest1: 0.9399726\tbest: 0.9399726 (400)\ttotal: 6m 34s\tremaining: 26m 13s\n",
      "500:\ttest: 0.9791169\ttest1: 0.9413302\tbest: 0.9413302 (498)\ttotal: 8m 10s\tremaining: 24m 27s\n",
      "600:\ttest: 0.9794137\ttest1: 0.9416932\tbest: 0.9417021 (593)\ttotal: 9m 47s\tremaining: 22m 46s\n",
      "700:\ttest: 0.9802281\ttest1: 0.9426494\tbest: 0.9426494 (700)\ttotal: 11m 26s\tremaining: 21m 11s\n",
      "800:\ttest: 0.9805624\ttest1: 0.9431072\tbest: 0.9431173 (793)\ttotal: 13m 2s\tremaining: 19m 31s\n",
      "900:\ttest: 0.9811050\ttest1: 0.9437610\tbest: 0.9437611 (899)\ttotal: 14m 41s\tremaining: 17m 54s\n",
      "1000:\ttest: 0.9818946\ttest1: 0.9447020\tbest: 0.9447088 (999)\ttotal: 16m 16s\tremaining: 16m 14s\n",
      "1100:\ttest: 0.9834170\ttest1: 0.9460034\tbest: 0.9460034 (1100)\ttotal: 17m 52s\tremaining: 14m 36s\n",
      "1200:\ttest: 0.9835572\ttest1: 0.9462366\tbest: 0.9462366 (1200)\ttotal: 19m 27s\tremaining: 12m 56s\n",
      "1300:\ttest: 0.9836787\ttest1: 0.9464840\tbest: 0.9464840 (1300)\ttotal: 20m 58s\tremaining: 11m 16s\n",
      "1400:\ttest: 0.9839262\ttest1: 0.9468446\tbest: 0.9468486 (1390)\ttotal: 22m 30s\tremaining: 9m 37s\n",
      "1500:\ttest: 0.9840700\ttest1: 0.9471277\tbest: 0.9471277 (1500)\ttotal: 24m 3s\tremaining: 7m 59s\n",
      "1600:\ttest: 0.9843829\ttest1: 0.9475542\tbest: 0.9475544 (1598)\ttotal: 25m 35s\tremaining: 6m 22s\n",
      "1700:\ttest: 0.9848350\ttest1: 0.9480084\tbest: 0.9480123 (1687)\ttotal: 27m 9s\tremaining: 4m 46s\n",
      "1800:\ttest: 0.9849019\ttest1: 0.9481312\tbest: 0.9481366 (1785)\ttotal: 28m 42s\tremaining: 3m 10s\n",
      "Stopped by overfitting detector  (50 iterations wait)\n",
      "\n",
      "bestTest = 0.9481366276\n",
      "bestIteration = 1785\n",
      "\n",
      "Shrink model to first 1786 iterations.\n",
      "================================================================================\n",
      "Train Score = 0.9849\n",
      "Valid Score = 0.9481\n",
      "Wall time: 29min 30s\n"
     ]
    }
   ],
   "source": [
    "%%time\n",
    "\n",
    "X = train.drop([TARGET, ID], axis=1)\n",
    "y = train[TARGET]\n",
    "\n",
    "model_cb_2 = catboost_hold_out_validation(params=params_cb,\n",
    "                                                        X=X,\n",
    "                                                        y=y,\n",
    "                                                        split_params =[0.7, 0.3],\n",
    "                                                        categorical = CAT_FEATS,\n",
    "                                                        seed=seed)"
   ]
  },
  {
   "cell_type": "markdown",
   "metadata": {},
   "source": [
    "**Итого:** \n",
    "* Базовое качество модели на валидационной выборке Valid Score = 0.9005\n",
    "* На шаге 1 качество модели на валидационной выборке Valid Score = 0.9055, что немного выше, чем базовое качество\n",
    "* На шаге 2 качество модели на валидационной выборке Valid Score = 0.9481, что выше, чем качество на шаге 1. При этом уровень переобучения возрастает по сравнению с шагом 1."
   ]
  },
  {
   "cell_type": "markdown",
   "metadata": {},
   "source": [
    "## Задание 3: \n",
    "\n",
    "Сделать `FrequencyEncoder` для признаков `card1` - `card6`, `addr1`, `addr2`."
   ]
  },
  {
   "cell_type": "code",
   "execution_count": 188,
   "metadata": {},
   "outputs": [],
   "source": [
    "features = ['card1', 'card2', 'card3', 'card4', 'card5', 'card6', 'addr1', 'addr2']\n",
    "\n",
    "for feature in features:\n",
    "    freq_enc = train[feature].value_counts(normalize=True)\n",
    "    train[feature + \"_freq_enc\"] = train[feature].map(freq_enc)"
   ]
  },
  {
   "cell_type": "code",
   "execution_count": 189,
   "metadata": {},
   "outputs": [
    {
     "data": {
      "text/html": [
       "<div>\n",
       "<style scoped>\n",
       "    .dataframe tbody tr th:only-of-type {\n",
       "        vertical-align: middle;\n",
       "    }\n",
       "\n",
       "    .dataframe tbody tr th {\n",
       "        vertical-align: top;\n",
       "    }\n",
       "\n",
       "    .dataframe thead th {\n",
       "        text-align: right;\n",
       "    }\n",
       "</style>\n",
       "<table border=\"1\" class=\"dataframe\">\n",
       "  <thead>\n",
       "    <tr style=\"text-align: right;\">\n",
       "      <th></th>\n",
       "      <th>card1_freq_enc</th>\n",
       "      <th>card2_freq_enc</th>\n",
       "      <th>card3_freq_enc</th>\n",
       "      <th>card4_freq_enc</th>\n",
       "      <th>card5_freq_enc</th>\n",
       "      <th>card6_freq_enc</th>\n",
       "      <th>addr1_freq_enc</th>\n",
       "      <th>addr2_freq_enc</th>\n",
       "    </tr>\n",
       "  </thead>\n",
       "  <tbody>\n",
       "    <tr>\n",
       "      <th>0</th>\n",
       "      <td>0.000061</td>\n",
       "      <td>0.014506</td>\n",
       "      <td>0.879722</td>\n",
       "      <td>0.013212</td>\n",
       "      <td>0.000272</td>\n",
       "      <td>0.317951</td>\n",
       "      <td>0.038156</td>\n",
       "      <td>0.876289</td>\n",
       "    </tr>\n",
       "    <tr>\n",
       "      <th>1</th>\n",
       "      <td>0.001244</td>\n",
       "      <td>0.006756</td>\n",
       "      <td>0.879722</td>\n",
       "      <td>0.302797</td>\n",
       "      <td>0.054433</td>\n",
       "      <td>0.317951</td>\n",
       "      <td>0.071367</td>\n",
       "      <td>0.876289</td>\n",
       "    </tr>\n",
       "  </tbody>\n",
       "</table>\n",
       "</div>"
      ],
      "text/plain": [
       "   card1_freq_enc  card2_freq_enc  card3_freq_enc  card4_freq_enc  \\\n",
       "0        0.000061        0.014506        0.879722        0.013212   \n",
       "1        0.001244        0.006756        0.879722        0.302797   \n",
       "\n",
       "   card5_freq_enc  card6_freq_enc  addr1_freq_enc  addr2_freq_enc  \n",
       "0        0.000272        0.317951        0.038156        0.876289  \n",
       "1        0.054433        0.317951        0.071367        0.876289  "
      ]
     },
     "execution_count": 189,
     "metadata": {},
     "output_type": "execute_result"
    }
   ],
   "source": [
    "train.iloc[:, -8:].head(2)"
   ]
  },
  {
   "cell_type": "code",
   "execution_count": 190,
   "metadata": {},
   "outputs": [
    {
     "name": "stdout",
     "output_type": "stream",
     "text": [
      "0:\ttest: 0.6864321\ttest1: 0.6865562\tbest: 0.6865562 (0)\ttotal: 1.43s\tremaining: 47m 47s\n",
      "100:\ttest: 0.9585121\ttest1: 0.9142675\tbest: 0.9142675 (100)\ttotal: 1m 39s\tremaining: 31m 5s\n",
      "200:\ttest: 0.9724830\ttest1: 0.9272972\tbest: 0.9272972 (200)\ttotal: 3m 17s\tremaining: 29m 25s\n",
      "300:\ttest: 0.9786306\ttest1: 0.9375616\tbest: 0.9375616 (300)\ttotal: 4m 59s\tremaining: 28m 10s\n",
      "400:\ttest: 0.9803445\ttest1: 0.9408518\tbest: 0.9408518 (400)\ttotal: 6m 38s\tremaining: 26m 27s\n",
      "500:\ttest: 0.9809132\ttest1: 0.9421707\tbest: 0.9421707 (499)\ttotal: 8m 16s\tremaining: 24m 45s\n",
      "600:\ttest: 0.9816468\ttest1: 0.9432190\tbest: 0.9432190 (600)\ttotal: 9m 52s\tremaining: 22m 58s\n",
      "700:\ttest: 0.9821014\ttest1: 0.9438985\tbest: 0.9438992 (695)\ttotal: 11m 27s\tremaining: 21m 13s\n",
      "800:\ttest: 0.9826285\ttest1: 0.9445068\tbest: 0.9445068 (800)\ttotal: 13m\tremaining: 19m 27s\n",
      "900:\ttest: 0.9836870\ttest1: 0.9458724\tbest: 0.9458724 (900)\ttotal: 14m 36s\tremaining: 17m 49s\n",
      "Stopped by overfitting detector  (50 iterations wait)\n",
      "\n",
      "bestTest = 0.9460480555\n",
      "bestIteration = 936\n",
      "\n",
      "Shrink model to first 937 iterations.\n",
      "================================================================================\n",
      "Train Score = 0.9839\n",
      "Valid Score = 0.946\n",
      "Wall time: 16min 13s\n"
     ]
    }
   ],
   "source": [
    "%%time\n",
    "\n",
    "X = train.drop([TARGET, ID], axis=1)\n",
    "y = train[TARGET]\n",
    "\n",
    "model_cb_3 = catboost_hold_out_validation(params=params_cb,\n",
    "                                                        X=X,\n",
    "                                                        y=y,\n",
    "                                                        split_params =[0.7, 0.3],\n",
    "                                                        categorical = CAT_FEATS,\n",
    "                                                        seed=seed)"
   ]
  },
  {
   "cell_type": "markdown",
   "metadata": {},
   "source": [
    "**Итого:** \n",
    "* Базовое качество модели на валидационной выборке Valid Score = 0.9005\n",
    "* На шаге 1 качество модели на валидационной выборке Valid Score = 0.9055, что немного выше, чем базовое качество\n",
    "* На шаге 2 качество модели на валидационной выборке Valid Score = 0.9481, что выше, чем качество на шаге 1. При этом уровень переобучения возрастает по сравнению с шагом 1.\n",
    "* На шаге 3 качество модели на валидационной выборке Valid Score = 0.946, то немного ниже, чем качество на шаге 2. При этом имеется переобучение также как на шаге 2."
   ]
  },
  {
   "cell_type": "markdown",
   "metadata": {},
   "source": [
    "## Задание 4: \n",
    "* Создать признаки на основе отношения: `TransactionAmt` к вычисленной статистике. \n",
    "* Статистика - среднее значение / стандартное отклонение `TransactionAmt`, сгруппированное по `card1` - `card6`, `addr1`, `addr2`, и по признакам, созданным в задании 2."
   ]
  },
  {
   "cell_type": "code",
   "execution_count": 191,
   "metadata": {},
   "outputs": [],
   "source": [
    "value_col = \"TransactionAmt\"\n",
    "new_features = [\"card1_card2\", \"card1_card2_card3_card5\", \"card1_card2_card3_card5_addr1_addr2\"]\n",
    "features = features + new_features"
   ]
  },
  {
   "cell_type": "code",
   "execution_count": 192,
   "metadata": {},
   "outputs": [],
   "source": [
    "data = X.copy()\n",
    "\n",
    "for feature in features:\n",
    "    value_col_mean_by_feature = data.groupby(feature, as_index=False)[value_col].mean()\n",
    "    group_feat_name = value_col + \"_mean_by_\" + feature\n",
    "    value_col_mean_by_feature = value_col_mean_by_feature.rename(columns={value_col: group_feat_name})\n",
    "\n",
    "    data = data.merge(value_col_mean_by_feature, how=\"left\", on=feature)\n",
    "    \n",
    "    data[value_col + \"_per_\" + group_feat_name] = data[value_col] / data[group_feat_name]\n",
    "    data = data.drop(group_feat_name, axis=1)"
   ]
  },
  {
   "cell_type": "code",
   "execution_count": 193,
   "metadata": {},
   "outputs": [
    {
     "data": {
      "text/html": [
       "<div>\n",
       "<style scoped>\n",
       "    .dataframe tbody tr th:only-of-type {\n",
       "        vertical-align: middle;\n",
       "    }\n",
       "\n",
       "    .dataframe tbody tr th {\n",
       "        vertical-align: top;\n",
       "    }\n",
       "\n",
       "    .dataframe thead th {\n",
       "        text-align: right;\n",
       "    }\n",
       "</style>\n",
       "<table border=\"1\" class=\"dataframe\">\n",
       "  <thead>\n",
       "    <tr style=\"text-align: right;\">\n",
       "      <th></th>\n",
       "      <th>TransactionAmt_per_TransactionAmt_mean_by_card1</th>\n",
       "      <th>TransactionAmt_per_TransactionAmt_mean_by_card2</th>\n",
       "      <th>TransactionAmt_per_TransactionAmt_mean_by_card3</th>\n",
       "      <th>TransactionAmt_per_TransactionAmt_mean_by_card4</th>\n",
       "      <th>TransactionAmt_per_TransactionAmt_mean_by_card5</th>\n",
       "      <th>TransactionAmt_per_TransactionAmt_mean_by_card6</th>\n",
       "      <th>TransactionAmt_per_TransactionAmt_mean_by_addr1</th>\n",
       "      <th>TransactionAmt_per_TransactionAmt_mean_by_addr2</th>\n",
       "      <th>TransactionAmt_per_TransactionAmt_mean_by_card1_card2</th>\n",
       "      <th>TransactionAmt_per_TransactionAmt_mean_by_card1_card2_card3_card5</th>\n",
       "      <th>TransactionAmt_per_TransactionAmt_mean_by_card1_card2_card3_card5_addr1_addr2</th>\n",
       "    </tr>\n",
       "  </thead>\n",
       "  <tbody>\n",
       "    <tr>\n",
       "      <th>0</th>\n",
       "      <td>0.354505</td>\n",
       "      <td>0.351143</td>\n",
       "      <td>0.488098</td>\n",
       "      <td>0.310646</td>\n",
       "      <td>0.555175</td>\n",
       "      <td>0.403732</td>\n",
       "      <td>0.514610</td>\n",
       "      <td>0.486380</td>\n",
       "      <td>0.231126</td>\n",
       "      <td>0.231126</td>\n",
       "      <td>1.000000</td>\n",
       "    </tr>\n",
       "    <tr>\n",
       "      <th>1</th>\n",
       "      <td>0.126313</td>\n",
       "      <td>0.145875</td>\n",
       "      <td>0.206640</td>\n",
       "      <td>0.230124</td>\n",
       "      <td>0.152468</td>\n",
       "      <td>0.170923</td>\n",
       "      <td>0.194195</td>\n",
       "      <td>0.205913</td>\n",
       "      <td>0.126313</td>\n",
       "      <td>0.126313</td>\n",
       "      <td>0.127861</td>\n",
       "    </tr>\n",
       "  </tbody>\n",
       "</table>\n",
       "</div>"
      ],
      "text/plain": [
       "   TransactionAmt_per_TransactionAmt_mean_by_card1  \\\n",
       "0                                         0.354505   \n",
       "1                                         0.126313   \n",
       "\n",
       "   TransactionAmt_per_TransactionAmt_mean_by_card2  \\\n",
       "0                                         0.351143   \n",
       "1                                         0.145875   \n",
       "\n",
       "   TransactionAmt_per_TransactionAmt_mean_by_card3  \\\n",
       "0                                         0.488098   \n",
       "1                                         0.206640   \n",
       "\n",
       "   TransactionAmt_per_TransactionAmt_mean_by_card4  \\\n",
       "0                                         0.310646   \n",
       "1                                         0.230124   \n",
       "\n",
       "   TransactionAmt_per_TransactionAmt_mean_by_card5  \\\n",
       "0                                         0.555175   \n",
       "1                                         0.152468   \n",
       "\n",
       "   TransactionAmt_per_TransactionAmt_mean_by_card6  \\\n",
       "0                                         0.403732   \n",
       "1                                         0.170923   \n",
       "\n",
       "   TransactionAmt_per_TransactionAmt_mean_by_addr1  \\\n",
       "0                                         0.514610   \n",
       "1                                         0.194195   \n",
       "\n",
       "   TransactionAmt_per_TransactionAmt_mean_by_addr2  \\\n",
       "0                                         0.486380   \n",
       "1                                         0.205913   \n",
       "\n",
       "   TransactionAmt_per_TransactionAmt_mean_by_card1_card2  \\\n",
       "0                                           0.231126       \n",
       "1                                           0.126313       \n",
       "\n",
       "   TransactionAmt_per_TransactionAmt_mean_by_card1_card2_card3_card5  \\\n",
       "0                                           0.231126                   \n",
       "1                                           0.126313                   \n",
       "\n",
       "   TransactionAmt_per_TransactionAmt_mean_by_card1_card2_card3_card5_addr1_addr2  \n",
       "0                                           1.000000                              \n",
       "1                                           0.127861                              "
      ]
     },
     "execution_count": 193,
     "metadata": {},
     "output_type": "execute_result"
    }
   ],
   "source": [
    "data.iloc[:, -len(features):].head(2)"
   ]
  },
  {
   "cell_type": "code",
   "execution_count": 194,
   "metadata": {},
   "outputs": [
    {
     "name": "stdout",
     "output_type": "stream",
     "text": [
      "0:\ttest: 0.7436163\ttest1: 0.7450759\tbest: 0.7450759 (0)\ttotal: 1.03s\tremaining: 34m 26s\n",
      "100:\ttest: 0.9599069\ttest1: 0.9152070\tbest: 0.9152070 (100)\ttotal: 1m 37s\tremaining: 30m 33s\n",
      "200:\ttest: 0.9705584\ttest1: 0.9288680\tbest: 0.9288680 (200)\ttotal: 3m 15s\tremaining: 29m 11s\n",
      "300:\ttest: 0.9781034\ttest1: 0.9374928\tbest: 0.9375039 (299)\ttotal: 4m 57s\tremaining: 27m 58s\n",
      "400:\ttest: 0.9813943\ttest1: 0.9416577\tbest: 0.9416577 (400)\ttotal: 6m 32s\tremaining: 26m 5s\n",
      "500:\ttest: 0.9821740\ttest1: 0.9433824\tbest: 0.9433824 (500)\ttotal: 8m 2s\tremaining: 24m 2s\n",
      "600:\ttest: 0.9826830\ttest1: 0.9445535\tbest: 0.9445535 (600)\ttotal: 9m 29s\tremaining: 22m 4s\n",
      "700:\ttest: 0.9827901\ttest1: 0.9449695\tbest: 0.9449695 (700)\ttotal: 10m 55s\tremaining: 20m 14s\n",
      "800:\ttest: 0.9835520\ttest1: 0.9461430\tbest: 0.9461430 (800)\ttotal: 12m 25s\tremaining: 18m 36s\n",
      "900:\ttest: 0.9837784\ttest1: 0.9464291\tbest: 0.9464291 (900)\ttotal: 13m 54s\tremaining: 16m 58s\n",
      "1000:\ttest: 0.9843019\ttest1: 0.9468290\tbest: 0.9468301 (999)\ttotal: 15m 21s\tremaining: 15m 19s\n",
      "1100:\ttest: 0.9850098\ttest1: 0.9475288\tbest: 0.9475288 (1100)\ttotal: 16m 48s\tremaining: 13m 43s\n",
      "1200:\ttest: 0.9856288\ttest1: 0.9482837\tbest: 0.9482934 (1197)\ttotal: 18m 15s\tremaining: 12m 9s\n",
      "Stopped by overfitting detector  (50 iterations wait)\n",
      "\n",
      "bestTest = 0.9482933862\n",
      "bestIteration = 1197\n",
      "\n",
      "Shrink model to first 1198 iterations.\n",
      "================================================================================\n",
      "Train Score = 0.9856\n",
      "Valid Score = 0.9483\n",
      "Wall time: 19min 10s\n"
     ]
    }
   ],
   "source": [
    "%%time\n",
    "\n",
    "X = data.copy()\n",
    "y = train[TARGET]\n",
    "\n",
    "model_cb_4 = catboost_hold_out_validation(params=params_cb,\n",
    "                                                        X=X,\n",
    "                                                        y=y,\n",
    "                                                        split_params =[0.7, 0.3],\n",
    "                                                        categorical = CAT_FEATS,\n",
    "                                                        seed=seed)"
   ]
  },
  {
   "cell_type": "markdown",
   "metadata": {},
   "source": [
    "**Итого:** \n",
    "* Базовое качество модели на валидационной выборке Valid Score = 0.9005\n",
    "* На шаге 1 качество модели на валидационной выборке Valid Score = 0.9055, что немного выше, чем базовое качество\n",
    "* На шаге 2 качество модели на валидационной выборке Valid Score = 0.9481, что выше, чем качество на шаге 1. При этом уровень переобучения возрастает по сравнению с шагом 1.\n",
    "* На шаге 3 качество модели на валидационной выборке Valid Score = 0.946, то немного ниже, чем качество на шаге 2. При этом имеется переобучение также как на шаге 2.\n",
    "* На шаге 4 качество модели на валидационной выборке Valid Score = 0.9483, что выше, чем качество на шаге 3 и на предыдущих шагах."
   ]
  },
  {
   "cell_type": "markdown",
   "metadata": {},
   "source": [
    "## Задание 5: \n",
    "* Создать признаки на основе отношения: D15 к вычисленной статистике. \n",
    "* Статистика - среднее значение / стандартное отклонение D15, сгруппированное по `card1` - `card6`, `addr1`, `addr2`, и по признакам, созданным в задании 2."
   ]
  },
  {
   "cell_type": "code",
   "execution_count": 195,
   "metadata": {},
   "outputs": [
    {
     "data": {
      "text/plain": [
       "0      0.0\n",
       "1      0.0\n",
       "2    315.0\n",
       "3    111.0\n",
       "4      NaN\n",
       "Name: D15, dtype: float64"
      ]
     },
     "execution_count": 195,
     "metadata": {},
     "output_type": "execute_result"
    }
   ],
   "source": [
    "value_col = \"D15\"\n",
    "data = X.copy()\n",
    "data[value_col].head(5)"
   ]
  },
  {
   "cell_type": "code",
   "execution_count": 196,
   "metadata": {},
   "outputs": [],
   "source": [
    "for feature in features:\n",
    "    value_col_mean_by_feature = data.groupby(feature, as_index=False)[value_col].mean()\n",
    "    group_feat_name = value_col + \"_mean_by_\" + feature\n",
    "    value_col_mean_by_feature = value_col_mean_by_feature.rename(columns={value_col: group_feat_name})\n",
    "\n",
    "    data = data.merge(value_col_mean_by_feature, how=\"left\", on=feature)\n",
    "    \n",
    "    data[value_col + \"_per_\" + group_feat_name] = data[value_col] / data[group_feat_name]\n",
    "    data = data.drop(group_feat_name, axis=1)"
   ]
  },
  {
   "cell_type": "code",
   "execution_count": 197,
   "metadata": {},
   "outputs": [
    {
     "data": {
      "text/html": [
       "<div>\n",
       "<style scoped>\n",
       "    .dataframe tbody tr th:only-of-type {\n",
       "        vertical-align: middle;\n",
       "    }\n",
       "\n",
       "    .dataframe tbody tr th {\n",
       "        vertical-align: top;\n",
       "    }\n",
       "\n",
       "    .dataframe thead th {\n",
       "        text-align: right;\n",
       "    }\n",
       "</style>\n",
       "<table border=\"1\" class=\"dataframe\">\n",
       "  <thead>\n",
       "    <tr style=\"text-align: right;\">\n",
       "      <th></th>\n",
       "      <th>D15_per_D15_mean_by_card1</th>\n",
       "      <th>D15_per_D15_mean_by_card2</th>\n",
       "      <th>D15_per_D15_mean_by_card3</th>\n",
       "      <th>D15_per_D15_mean_by_card4</th>\n",
       "      <th>D15_per_D15_mean_by_card5</th>\n",
       "      <th>D15_per_D15_mean_by_card6</th>\n",
       "      <th>D15_per_D15_mean_by_addr1</th>\n",
       "      <th>D15_per_D15_mean_by_addr2</th>\n",
       "      <th>D15_per_D15_mean_by_card1_card2</th>\n",
       "      <th>D15_per_D15_mean_by_card1_card2_card3_card5</th>\n",
       "      <th>D15_per_D15_mean_by_card1_card2_card3_card5_addr1_addr2</th>\n",
       "    </tr>\n",
       "  </thead>\n",
       "  <tbody>\n",
       "    <tr>\n",
       "      <th>0</th>\n",
       "      <td>0.000000</td>\n",
       "      <td>0.000000</td>\n",
       "      <td>0.000000</td>\n",
       "      <td>0.000000</td>\n",
       "      <td>0.000000</td>\n",
       "      <td>0.000000</td>\n",
       "      <td>0.000000</td>\n",
       "      <td>0.000000</td>\n",
       "      <td>0.000000</td>\n",
       "      <td>0.000000</td>\n",
       "      <td>NaN</td>\n",
       "    </tr>\n",
       "    <tr>\n",
       "      <th>1</th>\n",
       "      <td>0.000000</td>\n",
       "      <td>0.000000</td>\n",
       "      <td>0.000000</td>\n",
       "      <td>0.000000</td>\n",
       "      <td>0.000000</td>\n",
       "      <td>0.000000</td>\n",
       "      <td>0.000000</td>\n",
       "      <td>0.000000</td>\n",
       "      <td>0.000000</td>\n",
       "      <td>0.000000</td>\n",
       "      <td>0.000000</td>\n",
       "    </tr>\n",
       "    <tr>\n",
       "      <th>2</th>\n",
       "      <td>2.749191</td>\n",
       "      <td>1.675925</td>\n",
       "      <td>1.869807</td>\n",
       "      <td>2.080389</td>\n",
       "      <td>2.483547</td>\n",
       "      <td>1.984550</td>\n",
       "      <td>1.748451</td>\n",
       "      <td>1.857952</td>\n",
       "      <td>2.749191</td>\n",
       "      <td>2.749191</td>\n",
       "      <td>5.965909</td>\n",
       "    </tr>\n",
       "    <tr>\n",
       "      <th>3</th>\n",
       "      <td>0.616704</td>\n",
       "      <td>0.642710</td>\n",
       "      <td>0.658884</td>\n",
       "      <td>0.795717</td>\n",
       "      <td>0.616677</td>\n",
       "      <td>0.699318</td>\n",
       "      <td>0.728034</td>\n",
       "      <td>0.654707</td>\n",
       "      <td>0.616704</td>\n",
       "      <td>0.616704</td>\n",
       "      <td>0.660557</td>\n",
       "    </tr>\n",
       "    <tr>\n",
       "      <th>4</th>\n",
       "      <td>NaN</td>\n",
       "      <td>NaN</td>\n",
       "      <td>NaN</td>\n",
       "      <td>NaN</td>\n",
       "      <td>NaN</td>\n",
       "      <td>NaN</td>\n",
       "      <td>NaN</td>\n",
       "      <td>NaN</td>\n",
       "      <td>NaN</td>\n",
       "      <td>NaN</td>\n",
       "      <td>NaN</td>\n",
       "    </tr>\n",
       "  </tbody>\n",
       "</table>\n",
       "</div>"
      ],
      "text/plain": [
       "   D15_per_D15_mean_by_card1  D15_per_D15_mean_by_card2  \\\n",
       "0                   0.000000                   0.000000   \n",
       "1                   0.000000                   0.000000   \n",
       "2                   2.749191                   1.675925   \n",
       "3                   0.616704                   0.642710   \n",
       "4                        NaN                        NaN   \n",
       "\n",
       "   D15_per_D15_mean_by_card3  D15_per_D15_mean_by_card4  \\\n",
       "0                   0.000000                   0.000000   \n",
       "1                   0.000000                   0.000000   \n",
       "2                   1.869807                   2.080389   \n",
       "3                   0.658884                   0.795717   \n",
       "4                        NaN                        NaN   \n",
       "\n",
       "   D15_per_D15_mean_by_card5  D15_per_D15_mean_by_card6  \\\n",
       "0                   0.000000                   0.000000   \n",
       "1                   0.000000                   0.000000   \n",
       "2                   2.483547                   1.984550   \n",
       "3                   0.616677                   0.699318   \n",
       "4                        NaN                        NaN   \n",
       "\n",
       "   D15_per_D15_mean_by_addr1  D15_per_D15_mean_by_addr2  \\\n",
       "0                   0.000000                   0.000000   \n",
       "1                   0.000000                   0.000000   \n",
       "2                   1.748451                   1.857952   \n",
       "3                   0.728034                   0.654707   \n",
       "4                        NaN                        NaN   \n",
       "\n",
       "   D15_per_D15_mean_by_card1_card2  \\\n",
       "0                         0.000000   \n",
       "1                         0.000000   \n",
       "2                         2.749191   \n",
       "3                         0.616704   \n",
       "4                              NaN   \n",
       "\n",
       "   D15_per_D15_mean_by_card1_card2_card3_card5  \\\n",
       "0                                     0.000000   \n",
       "1                                     0.000000   \n",
       "2                                     2.749191   \n",
       "3                                     0.616704   \n",
       "4                                          NaN   \n",
       "\n",
       "   D15_per_D15_mean_by_card1_card2_card3_card5_addr1_addr2  \n",
       "0                                                NaN        \n",
       "1                                           0.000000        \n",
       "2                                           5.965909        \n",
       "3                                           0.660557        \n",
       "4                                                NaN        "
      ]
     },
     "execution_count": 197,
     "metadata": {},
     "output_type": "execute_result"
    }
   ],
   "source": [
    "data.iloc[:, -len(features):].head(5)"
   ]
  },
  {
   "cell_type": "code",
   "execution_count": 198,
   "metadata": {},
   "outputs": [
    {
     "name": "stdout",
     "output_type": "stream",
     "text": [
      "0:\ttest: 0.6605096\ttest1: 0.6716779\tbest: 0.6716779 (0)\ttotal: 1.55s\tremaining: 51m 34s\n",
      "100:\ttest: 0.9584288\ttest1: 0.9129765\tbest: 0.9129765 (100)\ttotal: 1m 33s\tremaining: 29m 9s\n",
      "200:\ttest: 0.9680573\ttest1: 0.9264906\tbest: 0.9264906 (200)\ttotal: 3m 4s\tremaining: 27m 30s\n",
      "300:\ttest: 0.9754294\ttest1: 0.9360598\tbest: 0.9360598 (300)\ttotal: 4m 40s\tremaining: 26m 24s\n",
      "400:\ttest: 0.9788973\ttest1: 0.9400377\tbest: 0.9400389 (399)\ttotal: 6m 13s\tremaining: 24m 49s\n",
      "500:\ttest: 0.9802494\ttest1: 0.9419043\tbest: 0.9419043 (500)\ttotal: 7m 42s\tremaining: 23m 4s\n",
      "600:\ttest: 0.9807882\ttest1: 0.9426677\tbest: 0.9426811 (599)\ttotal: 9m 13s\tremaining: 21m 29s\n",
      "700:\ttest: 0.9810294\ttest1: 0.9430628\tbest: 0.9430628 (700)\ttotal: 10m 42s\tremaining: 19m 49s\n",
      "800:\ttest: 0.9815419\ttest1: 0.9440561\tbest: 0.9440561 (799)\ttotal: 12m 12s\tremaining: 18m 16s\n",
      "900:\ttest: 0.9819346\ttest1: 0.9445689\tbest: 0.9445689 (900)\ttotal: 13m 38s\tremaining: 16m 38s\n",
      "1000:\ttest: 0.9825924\ttest1: 0.9453649\tbest: 0.9453649 (1000)\ttotal: 15m 5s\tremaining: 15m 3s\n",
      "1100:\ttest: 0.9829433\ttest1: 0.9460627\tbest: 0.9460628 (1099)\ttotal: 16m 33s\tremaining: 13m 31s\n",
      "1200:\ttest: 0.9838016\ttest1: 0.9469722\tbest: 0.9469740 (1197)\ttotal: 18m 4s\tremaining: 12m 1s\n",
      "1300:\ttest: 0.9841758\ttest1: 0.9473381\tbest: 0.9473420 (1298)\ttotal: 19m 32s\tremaining: 10m 29s\n",
      "1400:\ttest: 0.9844339\ttest1: 0.9476290\tbest: 0.9476335 (1397)\ttotal: 21m\tremaining: 8m 58s\n",
      "1500:\ttest: 0.9844416\ttest1: 0.9476363\tbest: 0.9476384 (1454)\ttotal: 22m 23s\tremaining: 7m 26s\n",
      "Stopped by overfitting detector  (50 iterations wait)\n",
      "\n",
      "bestTest = 0.9476384471\n",
      "bestIteration = 1454\n",
      "\n",
      "Shrink model to first 1455 iterations.\n",
      "================================================================================\n",
      "Train Score = 0.9844\n",
      "Valid Score = 0.9476\n",
      "Wall time: 22min 42s\n"
     ]
    }
   ],
   "source": [
    "%%time\n",
    "\n",
    "X = data.copy()\n",
    "y = train[TARGET]\n",
    "\n",
    "model_cb_5 = catboost_hold_out_validation(params=params_cb,\n",
    "                                                        X=X,\n",
    "                                                        y=y,\n",
    "                                                        split_params =[0.7, 0.3],\n",
    "                                                        categorical = CAT_FEATS,\n",
    "                                                        seed=seed)"
   ]
  },
  {
   "cell_type": "markdown",
   "metadata": {},
   "source": [
    "**Итого:** \n",
    "* Базовое качество модели на валидационной выборке Valid Score = 0.9005\n",
    "* На шаге 1 качество модели на валидационной выборке Valid Score = 0.9055, что немного выше, чем базовое качество\n",
    "* На шаге 2 качество модели на валидационной выборке Valid Score = 0.9481, что выше, чем качество на шаге 1. При этом уровень переобучения возрастает по сравнению с шагом 1.\n",
    "* На шаге 3 качество модели на валидационной выборке Valid Score = 0.946, то немного ниже, чем качество на шаге 2. При этом имеется переобучение также как на шаге 2.\n",
    "* На шаге 4 качество модели на валидационной выборке Valid Score = 0.9483, что выше, чем качество на шаге 3 и на предыдущих шагах.\n",
    "* На шаге 5 качество модели на валидационной выборке Valid Score = 0.9476, что немного ниже, чем качество на шаге 4."
   ]
  },
  {
   "cell_type": "markdown",
   "metadata": {},
   "source": [
    "## Задание 6: \n",
    "* выделить дробную часть и целую часть признака TransactionAmt в два отдельных признака. \n",
    "* После создать отдельных признак - логарифм от `TransactionAmt`"
   ]
  },
  {
   "cell_type": "code",
   "execution_count": 199,
   "metadata": {},
   "outputs": [
    {
     "data": {
      "text/plain": [
       "0    68.5\n",
       "1    29.0\n",
       "2    59.0\n",
       "3    50.0\n",
       "4    50.0\n",
       "Name: TransactionAmt, dtype: float64"
      ]
     },
     "execution_count": 199,
     "metadata": {},
     "output_type": "execute_result"
    }
   ],
   "source": [
    "data = X.copy()\n",
    "value_col = \"TransactionAmt\"\n",
    "data[value_col].head(5)"
   ]
  },
  {
   "cell_type": "code",
   "execution_count": 200,
   "metadata": {},
   "outputs": [],
   "source": [
    "import math"
   ]
  },
  {
   "cell_type": "code",
   "execution_count": 201,
   "metadata": {},
   "outputs": [
    {
     "data": {
      "text/html": [
       "<div>\n",
       "<style scoped>\n",
       "    .dataframe tbody tr th:only-of-type {\n",
       "        vertical-align: middle;\n",
       "    }\n",
       "\n",
       "    .dataframe tbody tr th {\n",
       "        vertical-align: top;\n",
       "    }\n",
       "\n",
       "    .dataframe thead th {\n",
       "        text-align: right;\n",
       "    }\n",
       "</style>\n",
       "<table border=\"1\" class=\"dataframe\">\n",
       "  <thead>\n",
       "    <tr style=\"text-align: right;\">\n",
       "      <th></th>\n",
       "      <th>IntegerPart_of_TransactionAmt</th>\n",
       "      <th>FractionalPart_of_TransactionAmt</th>\n",
       "      <th>Logarithm_of_TransactionAmt</th>\n",
       "    </tr>\n",
       "  </thead>\n",
       "  <tbody>\n",
       "    <tr>\n",
       "      <th>0</th>\n",
       "      <td>68.0</td>\n",
       "      <td>0.5</td>\n",
       "      <td>4.226834</td>\n",
       "    </tr>\n",
       "    <tr>\n",
       "      <th>1</th>\n",
       "      <td>29.0</td>\n",
       "      <td>0.0</td>\n",
       "      <td>3.367296</td>\n",
       "    </tr>\n",
       "    <tr>\n",
       "      <th>2</th>\n",
       "      <td>59.0</td>\n",
       "      <td>0.0</td>\n",
       "      <td>4.077537</td>\n",
       "    </tr>\n",
       "    <tr>\n",
       "      <th>3</th>\n",
       "      <td>50.0</td>\n",
       "      <td>0.0</td>\n",
       "      <td>3.912023</td>\n",
       "    </tr>\n",
       "    <tr>\n",
       "      <th>4</th>\n",
       "      <td>50.0</td>\n",
       "      <td>0.0</td>\n",
       "      <td>3.912023</td>\n",
       "    </tr>\n",
       "  </tbody>\n",
       "</table>\n",
       "</div>"
      ],
      "text/plain": [
       "   IntegerPart_of_TransactionAmt  FractionalPart_of_TransactionAmt  \\\n",
       "0                           68.0                               0.5   \n",
       "1                           29.0                               0.0   \n",
       "2                           59.0                               0.0   \n",
       "3                           50.0                               0.0   \n",
       "4                           50.0                               0.0   \n",
       "\n",
       "   Logarithm_of_TransactionAmt  \n",
       "0                     4.226834  \n",
       "1                     3.367296  \n",
       "2                     4.077537  \n",
       "3                     3.912023  \n",
       "4                     3.912023  "
      ]
     },
     "execution_count": 201,
     "metadata": {},
     "output_type": "execute_result"
    }
   ],
   "source": [
    "data['IntegerPart_of_' + value_col] = data[value_col].apply(lambda x: math.modf(x)[1])\n",
    "data['FractionalPart_of_' + value_col] = data[value_col].apply(lambda x: math.modf(x)[0])\n",
    "data['Logarithm_of_' + value_col] = np.log(data[value_col])\n",
    "\n",
    "data.iloc[:, -3:].head(5)"
   ]
  },
  {
   "cell_type": "code",
   "execution_count": 202,
   "metadata": {},
   "outputs": [
    {
     "name": "stdout",
     "output_type": "stream",
     "text": [
      "0:\ttest: 0.5956089\ttest1: 0.5890069\tbest: 0.5890069 (0)\ttotal: 1.12s\tremaining: 37m 13s\n",
      "100:\ttest: 0.9586634\ttest1: 0.9130151\tbest: 0.9130151 (100)\ttotal: 1m 26s\tremaining: 27m 5s\n",
      "200:\ttest: 0.9695288\ttest1: 0.9275364\tbest: 0.9275364 (200)\ttotal: 2m 57s\tremaining: 26m 25s\n",
      "300:\ttest: 0.9764152\ttest1: 0.9369768\tbest: 0.9369768 (300)\ttotal: 4m 31s\tremaining: 25m 32s\n",
      "400:\ttest: 0.9788671\ttest1: 0.9401976\tbest: 0.9401976 (400)\ttotal: 6m 3s\tremaining: 24m 10s\n",
      "500:\ttest: 0.9797111\ttest1: 0.9414614\tbest: 0.9414896 (493)\ttotal: 7m 34s\tremaining: 22m 40s\n",
      "600:\ttest: 0.9806734\ttest1: 0.9426564\tbest: 0.9426605 (598)\ttotal: 9m 3s\tremaining: 21m 4s\n",
      "700:\ttest: 0.9811254\ttest1: 0.9432546\tbest: 0.9432551 (699)\ttotal: 10m 31s\tremaining: 19m 30s\n",
      "800:\ttest: 0.9823769\ttest1: 0.9447062\tbest: 0.9447066 (798)\ttotal: 12m 2s\tremaining: 18m\n",
      "900:\ttest: 0.9830868\ttest1: 0.9458081\tbest: 0.9458082 (894)\ttotal: 13m 32s\tremaining: 16m 30s\n",
      "1000:\ttest: 0.9832524\ttest1: 0.9460461\tbest: 0.9460461 (1000)\ttotal: 14m 59s\tremaining: 14m 57s\n",
      "1100:\ttest: 0.9836889\ttest1: 0.9464105\tbest: 0.9464132 (1085)\ttotal: 16m 29s\tremaining: 13m 27s\n",
      "1200:\ttest: 0.9837881\ttest1: 0.9465027\tbest: 0.9465027 (1200)\ttotal: 17m 55s\tremaining: 11m 55s\n",
      "1300:\ttest: 0.9839239\ttest1: 0.9466272\tbest: 0.9466296 (1288)\ttotal: 19m 21s\tremaining: 10m 23s\n",
      "1400:\ttest: 0.9839789\ttest1: 0.9467456\tbest: 0.9467532 (1353)\ttotal: 20m 46s\tremaining: 8m 52s\n",
      "Stopped by overfitting detector  (50 iterations wait)\n",
      "\n",
      "bestTest = 0.9467532206\n",
      "bestIteration = 1353\n",
      "\n",
      "Shrink model to first 1354 iterations.\n",
      "================================================================================\n",
      "Train Score = 0.984\n",
      "Valid Score = 0.9468\n",
      "Wall time: 21min 5s\n"
     ]
    }
   ],
   "source": [
    "%%time\n",
    "\n",
    "X = data.copy()\n",
    "y = train[TARGET]\n",
    "\n",
    "model_cb_6 = catboost_hold_out_validation(params=params_cb,\n",
    "                                                        X=X,\n",
    "                                                        y=y,\n",
    "                                                        split_params =[0.7, 0.3],\n",
    "                                                        categorical = CAT_FEATS,\n",
    "                                                        seed=seed)"
   ]
  },
  {
   "cell_type": "markdown",
   "metadata": {},
   "source": [
    "**Итого:** \n",
    "* Базовое качество модели на валидационной выборке Valid Score = 0.9005\n",
    "* На шаге 1 качество модели на валидационной выборке Valid Score = 0.9055, что немного выше, чем базовое качество\n",
    "* На шаге 2 качество модели на валидационной выборке Valid Score = 0.9481, что выше, чем качество на шаге 1. При этом уровень переобучения возрастает по сравнению с шагом 1.\n",
    "* На шаге 3 качество модели на валидационной выборке Valid Score = 0.946, то немного ниже, чем качество на шаге 2. При этом имеется переобучение также как на шаге 2.\n",
    "* На шаге 4 качество модели на валидационной выборке Valid Score = 0.9483, что выше, чем качество на шаге 3 и на предыдущих шагах.\n",
    "* На шаге 5 качество модели на валидационной выборке Valid Score = 0.9476, что немного ниже, чем качество на шаге 4.\n",
    "* На шаге 6 качество модели на валидационной выборке Valid Score = 0.9468, что немного ниже, чем на шаге 5.\n",
    "\n",
    "В процессе Feature Engineering снижают качество модели генерация частотных признаков и признаки, образованные при дроблении и логарифмировании значений признака `TransactionAmt`. В целом Feature Engineering улучшает качество модели по сравнению с базовым."
   ]
  },
  {
   "cell_type": "markdown",
   "metadata": {},
   "source": [
    "## Задание 7 (опция): \n",
    "* выполнить предварительную подготовку / очистку признаков `P_emaildomain` и `R_emaildomain` (что и как делать - остается на ваше усмотрение) и сделать Frequency Encoding для очищенных признаков."
   ]
  },
  {
   "cell_type": "code",
   "execution_count": null,
   "metadata": {},
   "outputs": [],
   "source": []
  }
 ],
 "metadata": {
  "kernelspec": {
   "display_name": "Python 3",
   "language": "python",
   "name": "python3"
  },
  "language_info": {
   "codemirror_mode": {
    "name": "ipython",
    "version": 3
   },
   "file_extension": ".py",
   "mimetype": "text/x-python",
   "name": "python",
   "nbconvert_exporter": "python",
   "pygments_lexer": "ipython3",
   "version": "3.8.8"
  }
 },
 "nbformat": 4,
 "nbformat_minor": 4
}
