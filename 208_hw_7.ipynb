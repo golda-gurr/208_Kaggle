{
 "cells": [
  {
   "cell_type": "markdown",
   "id": "36dd73bf",
   "metadata": {},
   "source": [
    "# Курс Спортивный анализ данных. Платформа Kaggle"
   ]
  },
  {
   "cell_type": "markdown",
   "id": "955f66a5",
   "metadata": {},
   "source": [
    "# Практическое задание урока 7. Тюнинг гиперпараметров, построение ансамблей алгоритмов"
   ]
  },
  {
   "cell_type": "markdown",
   "id": "feb4e18f",
   "metadata": {},
   "source": [
    "Чтобы было больше времени на выполнение курсовой работы, задание выполнить на наборе данных для соревнования:\n",
    "Тестовая выборка - это выборка для применения модели и загрузки на ЛБ.\n",
    "\n",
    "1.\tОбучить алгоритмы LightGBM и XGBoost, получить OOF прогнозы, оценить корреляцию прогнозов на обучающей выборке. Применить модели на тестовую выборку и оценить корреляцию.\n",
    "2.\tУсреднить прогнозы с помощью арифмитического среднего, геометрического среднего и усреднить ранги, сделать выводы о качестве отдельных моделей и о качестве комбинации.\n",
    "3.\tОбучить CatBoost, получить OOF прогнозы и выполнить задание 1 для трех моделей.\n",
    "4.\tВыполнить задание 2 для трех моделей.\n",
    "5.\t(опция) Объединить OOF-прогнозы для трех моделей и обучить алгоритм Логистической регрессии (и любой другой, на ваше усмотрение). Сделать выводы о достигаемом качестве, сравнить достигаемое качество с качеством отдельных моделей и моделей, полученных в п.2 и п.4.\n",
    "6.\t(опция) Обучить алгоритм RandomForest (желательно подтюнить параметры) и добавить к построенным ранее моделям. Выполнить задание 5."
   ]
  },
  {
   "cell_type": "code",
   "execution_count": 2,
   "id": "8069fdf1",
   "metadata": {},
   "outputs": [],
   "source": [
    "import time\n",
    "import numpy as np\n",
    "import pandas as pd\n",
    "import catboost as cb\n",
    "import xgboost as xgb\n",
    "import lightgbm as lgb\n",
    "\n",
    "from sklearn.metrics import roc_auc_score\n",
    "from sklearn.model_selection import KFold\n",
    "from sklearn.model_selection import train_test_split\n",
    "from sklearn.preprocessing import LabelEncoder\n",
    "\n",
    "import matplotlib.pyplot as plt\n",
    "import seaborn as sns\n",
    "\n",
    "from scipy.stats import gmean\n",
    "\n",
    "from pathlib import Path\n",
    "\n",
    "pd.set_option('display.max_columns', None)"
   ]
  },
  {
   "cell_type": "code",
   "execution_count": 3,
   "id": "803e9140",
   "metadata": {},
   "outputs": [],
   "source": [
    "def get_input(dataset_path: str) -> pd.DataFrame:\n",
    "    \"\"\"\n",
    "    Считывание данных и вывод основной информации о наборе данных.\n",
    "    \n",
    "    Parametrs\n",
    "    ---------\n",
    "    dataset_path: str\n",
    "        Название файла\n",
    "        \n",
    "    Returns\n",
    "    -------\n",
    "    data: pandas.core.frame.DataFrame\n",
    "        Загруженный набор данных в pandas.DataFrame\n",
    "    \"\"\"\n",
    "    \n",
    "    data_root = Path('D:/DS_materials/208_kaggle/data_comp/')\n",
    "    dataset = pd.read_csv(f'{data_root}/{dataset_path}')\n",
    "    dataset.columns = [col.lower() for col in dataset.columns]\n",
    "    print(f\"{dataset_path} shape: {dataset.shape[0]} rows, {dataset.shape[1]} cols\")\n",
    "\n",
    "    return dataset"
   ]
  },
  {
   "cell_type": "code",
   "execution_count": 4,
   "id": "794a75d4",
   "metadata": {},
   "outputs": [],
   "source": [
    "def catboost_cross_validation(params, X, y, cv, categorical = None):\n",
    "    \"\"\"\n",
    "    Кросс-валидация для модели catbooost.\n",
    "\n",
    "    Parameters\n",
    "    ----------\n",
    "    params: dict\n",
    "        Словарь гиперпараметров модели.\n",
    "\n",
    "    X: pandas.core.frame.DataFrame\n",
    "        Матрица признаков для обучения модели.\n",
    "\n",
    "    y: pandas.core.frame.Series\n",
    "        Вектор целевой переменной для обучения модели.\n",
    "\n",
    "    cv: KFold or StratifiedKFold generator.\n",
    "        Объект KFold / StratifiedKFold для определения\n",
    "        стратегии кросс-валидации модели.\n",
    "\n",
    "    categorical: str, optional, default = None\n",
    "        Список категориальных признаков.\n",
    "        Опциональный параметр, по умолчанию, не используется.\n",
    "\n",
    "    Returns\n",
    "    -------\n",
    "    estimators: list\n",
    "        Список с объектами обученной модели.\n",
    "\n",
    "    oof_preds: np.array\n",
    "        Вектор OOF-прогнозов.\n",
    "\n",
    "    \"\"\"\n",
    "    estimators, folds_scores = [], []\n",
    "    oof_preds = np.zeros(X.shape[0])\n",
    "\n",
    "    print(f\"{time.ctime()}, Cross-Validation, {X.shape[0]} rows, {X.shape[1]} cols\")\n",
    "    if categorical:\n",
    "        X[categorical] = X[categorical].astype(str)\n",
    "\n",
    "    for fold, (train_idx, valid_idx) in enumerate(cv.split(X, y)):\n",
    "\n",
    "        x_train, x_valid = X.loc[train_idx], X.loc[valid_idx]\n",
    "        y_train, y_valid = y[train_idx], y[valid_idx]\n",
    "\n",
    "        model = cb.CatBoostClassifier(**params)\n",
    "        model.fit(\n",
    "            x_train, y_train, categorical,\n",
    "            eval_set=[(x_train, y_train), (x_valid, y_valid)]\n",
    "        )\n",
    "        oof_preds[valid_idx] = model.predict_proba(x_valid)[:, 1]\n",
    "        score = roc_auc_score(y_valid, oof_preds[valid_idx])\n",
    "        print(f\"Fold {fold+1}, Valid score = {round(score, 5)}\")\n",
    "        folds_scores.append(round(score, 5))\n",
    "        estimators.append(model)\n",
    "\n",
    "    print(f\"Score by each fold: {folds_scores}\")\n",
    "    print(\"=\"*65)\n",
    "    return estimators, oof_preds"
   ]
  },
  {
   "cell_type": "code",
   "execution_count": 5,
   "id": "af9400f4",
   "metadata": {},
   "outputs": [],
   "source": [
    "def xgboost_cross_validation(params, fit_params, X, y, cv):\n",
    "    \"\"\"\n",
    "    Кросс-валидация для модели catbooost.\n",
    "\n",
    "    Parameters\n",
    "    ----------\n",
    "    params: dict\n",
    "        Словарь гиперпараметров модели.\n",
    "\n",
    "    X: pandas.core.frame.DataFrame\n",
    "        Матрица признаков для обучения модели.\n",
    "\n",
    "    y: pandas.core.frame.Series\n",
    "        Вектор целевой переменной для обучения модели.\n",
    "\n",
    "    cv: KFold or StratifiedKFold generator.\n",
    "        Объект KFold / StratifiedKFold для определения\n",
    "        стратегии кросс-валидации модели.\n",
    "\n",
    "    categorical: str, optional, default = None\n",
    "        Список категориальных признаков.\n",
    "        Опциональный параметр, по умолчанию, не используется.\n",
    "\n",
    "    Returns\n",
    "    -------\n",
    "    estimators: list\n",
    "        Список с объектами обученной модели.\n",
    "\n",
    "    oof_preds: np.array\n",
    "        Вектор OOF-прогнозов.\n",
    "\n",
    "    \"\"\"\n",
    "    estimators, folds_scores = [], []\n",
    "    oof_preds = np.zeros(X.shape[0])\n",
    "\n",
    "    print(f\"{time.ctime()}, Cross-Validation, {X.shape[0]} rows, {X.shape[1]} cols\")\n",
    "\n",
    "    for fold, (train_idx, valid_idx) in enumerate(cv.split(X, y)):\n",
    "\n",
    "        x_train, x_valid = X.loc[train_idx], X.loc[valid_idx]\n",
    "        y_train, y_valid = y[train_idx], y[valid_idx]\n",
    "\n",
    "        model = xgb.XGBClassifier(**params)\n",
    "        model.fit(\n",
    "            x_train, y_train,\n",
    "            eval_set=[(x_train, y_train), (x_valid, y_valid)],\n",
    "            **fit_params\n",
    "        )\n",
    "        oof_preds[valid_idx] = model.predict_proba(x_valid)[:, 1]\n",
    "        score = roc_auc_score(y_valid, oof_preds[valid_idx])\n",
    "        print(f\"Fold {fold+1}, Valid score = {round(score, 5)}\")\n",
    "        folds_scores.append(round(score, 5))\n",
    "        estimators.append(model)\n",
    "\n",
    "    print(f\"Score by each fold: {folds_scores}\")\n",
    "    print(\"=\"*65)\n",
    "    return estimators, oof_preds"
   ]
  },
  {
   "cell_type": "code",
   "execution_count": 6,
   "id": "fcfd3588",
   "metadata": {},
   "outputs": [],
   "source": [
    "def lightgbm_cross_validation(params, fit_params, X, y, cv):\n",
    "    \"\"\"\n",
    "    Кросс-валидация для модели catbooost.\n",
    "\n",
    "    Parameters\n",
    "    ----------\n",
    "    params: dict\n",
    "        Словарь гиперпараметров модели.\n",
    "\n",
    "    X: pandas.core.frame.DataFrame\n",
    "        Матрица признаков для обучения модели.\n",
    "\n",
    "    y: pandas.core.frame.Series\n",
    "        Вектор целевой переменной для обучения модели.\n",
    "\n",
    "    cv: KFold or StratifiedKFold generator.\n",
    "        Объект KFold / StratifiedKFold для определения\n",
    "        стратегии кросс-валидации модели.\n",
    "\n",
    "    categorical: str, optional, default = None\n",
    "        Список категориальных признаков.\n",
    "        Опциональный параметр, по умолчанию, не используется.\n",
    "\n",
    "    Returns\n",
    "    -------\n",
    "    estimators: list\n",
    "        Список с объектами обученной модели.\n",
    "\n",
    "    oof_preds: np.array\n",
    "        Вектор OOF-прогнозов.\n",
    "\n",
    "    \"\"\"\n",
    "    estimators, folds_scores = [], []\n",
    "    oof_preds = np.zeros(X.shape[0])\n",
    "\n",
    "    print(f\"{time.ctime()}, Cross-Validation, {X.shape[0]} rows, {X.shape[1]} cols\")\n",
    "    #X[categorical] = X[categorical].astype(str)\n",
    "\n",
    "    for fold, (train_idx, valid_idx) in enumerate(cv.split(X, y)):\n",
    "\n",
    "        x_train, x_valid = X.loc[train_idx], X.loc[valid_idx]\n",
    "        y_train, y_valid = y[train_idx], y[valid_idx]\n",
    "\n",
    "        model = lgb.LGBMClassifier(**params)\n",
    "        model.fit(\n",
    "            x_train, y_train,\n",
    "            eval_set=[(x_train, y_train), (x_valid, y_valid)],\n",
    "            **fit_params\n",
    "        )\n",
    "        oof_preds[valid_idx] = model.predict_proba(x_valid)[:, 1]\n",
    "        score = roc_auc_score(y_valid, oof_preds[valid_idx])\n",
    "        print(f\"Fold {fold+1}, Valid score = {round(score, 5)}\")\n",
    "        folds_scores.append(round(score, 5))\n",
    "        estimators.append(model)\n",
    "\n",
    "    print(f\"Score by each fold: {folds_scores}\")\n",
    "    print(\"=\"*65)\n",
    "    return estimators, oof_preds"
   ]
  },
  {
   "cell_type": "code",
   "execution_count": 7,
   "id": "a94ab512",
   "metadata": {},
   "outputs": [],
   "source": [
    "def create_client_profile_features(X: pd.DataFrame, copy: bool = True) -> pd.DataFrame:\n",
    "    \"\"\"\n",
    "    Создание признаков на основе профиля клиентов.\n",
    "\n",
    "    Parameters\n",
    "    ----------\n",
    "    X: pandas.core.frame.DataFrame\n",
    "        Матрица признаков с исходным профилем клиента.\n",
    "\n",
    "    copy: bool, optional, default = True\n",
    "        Флаг использования копии датафрейма X.\n",
    "        Опциональный параметр, по умолчанию, равен True.\n",
    "\n",
    "    Returns\n",
    "    -------\n",
    "    X_transformed: pandas.core.frame.DataFrame\n",
    "        Расширенная матрица признаков с профилем клиентов.\n",
    "\n",
    "    \"\"\"\n",
    "    if copy:\n",
    "        X = X.copy()\n",
    "        \n",
    "        \n",
    "    X[\"days_on_last_job\"] = X[\"days_on_last_job\"].replace(365243, np.nan)\n",
    "    bki_flags = [flag for flag in X.columns if \"amt_req_credit_bureau\" in flag]\n",
    "    X[\"bki_requests_count\"] = X[bki_flags].sum(axis=1)\n",
    "    X[\"bki_kurtosis\"] = X[bki_flags].kurtosis(axis=1)\n",
    "\n",
    "    X[\"external_scoring_prod\"] = X[\"external_scoring_rating_1\"] * X[\"external_scoring_rating_2\"] * X[\"external_scoring_rating_3\"]\n",
    "    X[\"external_scoring_weighted\"] = X.external_scoring_rating_1 * 2 + X.external_scoring_rating_2 * 1 + X.external_scoring_rating_3 * 3\n",
    "\n",
    "    for function_name in [\"min\", \"max\", \"mean\", \"nanmedian\", \"var\"]:\n",
    "        feature_name = \"external_scoring_rating_{}\".format(function_name)\n",
    "        X[feature_name] = eval(\"np.{}\".format(function_name))(\n",
    "            X[[\"external_scoring_rating_1\", \"external_scoring_rating_2\", \"external_scoring_rating_3\"]], axis=1\n",
    "            )\n",
    "\n",
    "\n",
    "    # Отношение между основными фин. показателями\n",
    "    X['ratio_credit_to_annuity'] = X['amount_credit'] / X['amount_annuity']\n",
    "    X[\"ratio_annuity_to_salary\"] = X['amount_annuity'] / X['total_salary']\n",
    "    X['ratio_credit_to_salary'] = X['amount_credit'] / X['total_salary']\n",
    "\n",
    "    X[\"ratio_salary_to_per_family_size\"] = X[\"total_salary\"] / X[\"family_size\"]\n",
    "\n",
    "    # Отношение фин. показателей к возрасту и временным фичам\n",
    "    X[\"ratio_annuity_to_age\"] = X[\"amount_annuity\"] / X[\"age\"]\n",
    "    X[\"ratio_credit_to_age\"] = X[\"amount_credit\"] / X[\"age\"]\n",
    "    X[\"ratio_salary_to_age\"] = X[\"total_salary\"] / X[\"age\"]\n",
    "    X[\"ratio_salary_to_experience\"] = X[\"total_salary\"] / X[\"days_on_last_job\"]\n",
    "    X[\"ratio_credit_to_experience\"] = X[\"amount_credit\"] / X[\"days_on_last_job\"]\n",
    "    X[\"ratio_annuity_to_experience\"] = X[\"amount_annuity\"] / X[\"days_on_last_job\"]\n",
    "\n",
    "    # Отношение временных признаков\n",
    "    X[\"ratio_age_to_experience\"] = X[\"age\"] / X[\"days_on_last_job\"]\n",
    "    X[\"ratio_salary_to_region_population\"] = X[\"total_salary\"] * X[\"region_population\"]\n",
    "    X[\"ratio_car_to_experience\"] = X[\"own_car_age\"] / X[\"days_on_last_job\"]\n",
    "    X[\"ratio_car_to_age\"] = X[\"own_car_age\"] / X[\"age\"]\n",
    "\n",
    "    # Произведение фин. показателей кредита на вероятность дефолта\n",
    "    # Такая штука называется математическим ожиданием дефолта или ожидаемыми потерями\n",
    "    X[\"expected_total_loss_1\"] = X[\"external_scoring_rating_1\"] * X[\"amount_credit\"]\n",
    "    X[\"expected_total_loss_2\"] = X[\"external_scoring_rating_2\"] * X[\"amount_credit\"]\n",
    "    X[\"expected_total_loss_3\"] = X[\"external_scoring_rating_3\"] * X[\"amount_credit\"]\n",
    "    X[\"expected_monthly_loss_1\"] = X[\"external_scoring_rating_1\"] * X[\"amount_annuity\"]\n",
    "    X[\"expected_monthly_loss_2\"] = X[\"external_scoring_rating_2\"] * X[\"amount_annuity\"]\n",
    "    X[\"expected_monthly_loss_3\"] = X[\"external_scoring_rating_3\"] * X[\"amount_annuity\"]\n",
    "\n",
    "    \"\"\"\n",
    "    # Сделать конкатенацию признаков, рассматривая их как категориальные\n",
    "    features_1 = ['childrens', 'family_size']\n",
    "    for feature in features_1:\n",
    "        X[feature] = X[feature].astype('str')\n",
    "    \n",
    "    X[\"gender_childrens\"] = X['gender'] + \" | \" + X['childrens']\n",
    "    X[\"gender_family_status\"] = X['gender'] + \" | \" + X['family_status']    \n",
    "    X[\"gender_family_size\"] = X['gender'] + \" | \" + X['family_size'] \n",
    "    X[\"gender_childrens_family_status\"] = X['gender_childrens'] + \" | \" + X['family_status']  \n",
    "    X[\"gender_childrens_family_size\"] = X['gender_childrens'] + \" | \" + X['family_size']   \n",
    "    X[\"gender_family_status_family_size\"] = X['gender_family_status'] + \" | \" + X['family_size']       \n",
    "    X[\"family_status_family_size\"] = X['family_status'] + \" | \" + X['family_size']  \n",
    "    X[\"childrens_family_size\"] = X['childrens'] + \" | \" + X['family_size']\n",
    "    X[\"childrens_family_status\"] = X['childrens'] + \" | \" + X['family_status']  \n",
    "    X[\"childrens_family_status_family_size\"] = X['childrens'] + \" | \" + X['family_status_family_size']  \n",
    "    \"\"\"\n",
    "    \n",
    "    # Сделать FrequencyEncoder для категориальных признаков\n",
    "    features_2 = ['gender', 'childrens', 'family_status', 'family_size']   \n",
    "    for feature in features_2:\n",
    "        freq_enc = X[feature].value_counts(normalize=True)\n",
    "        X[feature + \"_freq_enc\"] = X[feature].map(freq_enc)    \n",
    "          \n",
    "    return X"
   ]
  },
  {
   "cell_type": "code",
   "execution_count": 8,
   "id": "65373629",
   "metadata": {},
   "outputs": [],
   "source": [
    "def encode_cat_feats(train, test, categorial):\n",
    "    for feature in categorial:\n",
    "        le = LabelEncoder()\n",
    "        train[feature] = le.fit_transform(train[feature].astype(\"str\").fillna(\"NA\"))\n",
    "        test[feature] = le.transform(test[feature].astype(\"str\").fillna(\"NA\"))\n",
    "    return train, test"
   ]
  },
  {
   "cell_type": "markdown",
   "id": "bcb60236",
   "metadata": {},
   "source": [
    "# Подготовка датасета"
   ]
  },
  {
   "cell_type": "code",
   "execution_count": 9,
   "id": "b451e5c4",
   "metadata": {},
   "outputs": [
    {
     "name": "stdout",
     "output_type": "stream",
     "text": [
      "train.csv shape: 110093 rows, 3 cols\n",
      "test.csv shape: 165141 rows, 2 cols\n"
     ]
    },
    {
     "data": {
      "text/html": [
       "<div>\n",
       "<style scoped>\n",
       "    .dataframe tbody tr th:only-of-type {\n",
       "        vertical-align: middle;\n",
       "    }\n",
       "\n",
       "    .dataframe tbody tr th {\n",
       "        vertical-align: top;\n",
       "    }\n",
       "\n",
       "    .dataframe thead th {\n",
       "        text-align: right;\n",
       "    }\n",
       "</style>\n",
       "<table border=\"1\" class=\"dataframe\">\n",
       "  <thead>\n",
       "    <tr style=\"text-align: right;\">\n",
       "      <th></th>\n",
       "      <th>application_number</th>\n",
       "      <th>target</th>\n",
       "      <th>name_contract_type</th>\n",
       "    </tr>\n",
       "  </thead>\n",
       "  <tbody>\n",
       "    <tr>\n",
       "      <th>0</th>\n",
       "      <td>123687442</td>\n",
       "      <td>0.0</td>\n",
       "      <td>Cash</td>\n",
       "    </tr>\n",
       "    <tr>\n",
       "      <th>1</th>\n",
       "      <td>123597908</td>\n",
       "      <td>1.0</td>\n",
       "      <td>Cash</td>\n",
       "    </tr>\n",
       "  </tbody>\n",
       "</table>\n",
       "</div>"
      ],
      "text/plain": [
       "   application_number  target name_contract_type\n",
       "0           123687442     0.0               Cash\n",
       "1           123597908     1.0               Cash"
      ]
     },
     "execution_count": 9,
     "metadata": {},
     "output_type": "execute_result"
    }
   ],
   "source": [
    "train = get_input(\"train.csv\")\n",
    "test = get_input(\"test.csv\")\n",
    "\n",
    "data = pd.concat([train, test], axis=0)\n",
    "data = data.reset_index(drop=True)\n",
    "data.head(n=2)"
   ]
  },
  {
   "cell_type": "code",
   "execution_count": 10,
   "id": "1029a432",
   "metadata": {},
   "outputs": [
    {
     "name": "stdout",
     "output_type": "stream",
     "text": [
      "client_profile.csv shape: 250000 rows, 24 cols\n"
     ]
    },
    {
     "name": "stderr",
     "output_type": "stream",
     "text": [
      "C:\\ProgramData\\Anaconda3\\lib\\site-packages\\numpy\\lib\\nanfunctions.py:1113: RuntimeWarning: All-NaN slice encountered\n",
      "  r, k = function_base._ureduce(a, func=_nanmedian, axis=axis, out=out,\n"
     ]
    },
    {
     "data": {
      "text/html": [
       "<div>\n",
       "<style scoped>\n",
       "    .dataframe tbody tr th:only-of-type {\n",
       "        vertical-align: middle;\n",
       "    }\n",
       "\n",
       "    .dataframe tbody tr th {\n",
       "        vertical-align: top;\n",
       "    }\n",
       "\n",
       "    .dataframe thead th {\n",
       "        text-align: right;\n",
       "    }\n",
       "</style>\n",
       "<table border=\"1\" class=\"dataframe\">\n",
       "  <thead>\n",
       "    <tr style=\"text-align: right;\">\n",
       "      <th></th>\n",
       "      <th>application_number</th>\n",
       "      <th>gender</th>\n",
       "      <th>childrens</th>\n",
       "      <th>total_salary</th>\n",
       "      <th>amount_credit</th>\n",
       "      <th>amount_annuity</th>\n",
       "      <th>education_level</th>\n",
       "      <th>family_status</th>\n",
       "      <th>region_population</th>\n",
       "      <th>age</th>\n",
       "      <th>days_on_last_job</th>\n",
       "      <th>own_car_age</th>\n",
       "      <th>flag_phone</th>\n",
       "      <th>flag_email</th>\n",
       "      <th>family_size</th>\n",
       "      <th>external_scoring_rating_1</th>\n",
       "      <th>external_scoring_rating_2</th>\n",
       "      <th>external_scoring_rating_3</th>\n",
       "      <th>amt_req_credit_bureau_hour</th>\n",
       "      <th>amt_req_credit_bureau_day</th>\n",
       "      <th>amt_req_credit_bureau_week</th>\n",
       "      <th>amt_req_credit_bureau_mon</th>\n",
       "      <th>amt_req_credit_bureau_qrt</th>\n",
       "      <th>amt_req_credit_bureau_year</th>\n",
       "      <th>bki_requests_count</th>\n",
       "      <th>bki_kurtosis</th>\n",
       "      <th>external_scoring_prod</th>\n",
       "      <th>external_scoring_weighted</th>\n",
       "      <th>external_scoring_rating_min</th>\n",
       "      <th>external_scoring_rating_max</th>\n",
       "      <th>external_scoring_rating_mean</th>\n",
       "      <th>external_scoring_rating_nanmedian</th>\n",
       "      <th>external_scoring_rating_var</th>\n",
       "      <th>ratio_credit_to_annuity</th>\n",
       "      <th>ratio_annuity_to_salary</th>\n",
       "      <th>ratio_credit_to_salary</th>\n",
       "      <th>ratio_salary_to_per_family_size</th>\n",
       "      <th>ratio_annuity_to_age</th>\n",
       "      <th>ratio_credit_to_age</th>\n",
       "      <th>ratio_salary_to_age</th>\n",
       "      <th>ratio_salary_to_experience</th>\n",
       "      <th>ratio_credit_to_experience</th>\n",
       "      <th>ratio_annuity_to_experience</th>\n",
       "      <th>ratio_age_to_experience</th>\n",
       "      <th>ratio_salary_to_region_population</th>\n",
       "      <th>ratio_car_to_experience</th>\n",
       "      <th>ratio_car_to_age</th>\n",
       "      <th>expected_total_loss_1</th>\n",
       "      <th>expected_total_loss_2</th>\n",
       "      <th>expected_total_loss_3</th>\n",
       "      <th>expected_monthly_loss_1</th>\n",
       "      <th>expected_monthly_loss_2</th>\n",
       "      <th>expected_monthly_loss_3</th>\n",
       "      <th>gender_freq_enc</th>\n",
       "      <th>childrens_freq_enc</th>\n",
       "      <th>family_status_freq_enc</th>\n",
       "      <th>family_size_freq_enc</th>\n",
       "    </tr>\n",
       "  </thead>\n",
       "  <tbody>\n",
       "    <tr>\n",
       "      <th>0</th>\n",
       "      <td>123666076</td>\n",
       "      <td>F</td>\n",
       "      <td>0</td>\n",
       "      <td>157500.0</td>\n",
       "      <td>270000.0</td>\n",
       "      <td>13500.0</td>\n",
       "      <td>Incomplete higher</td>\n",
       "      <td>Civil marriage</td>\n",
       "      <td>0.008068</td>\n",
       "      <td>8560</td>\n",
       "      <td>1549.0</td>\n",
       "      <td>NaN</td>\n",
       "      <td>1</td>\n",
       "      <td>0</td>\n",
       "      <td>2.0</td>\n",
       "      <td>0.329471</td>\n",
       "      <td>0.236315</td>\n",
       "      <td>0.678568</td>\n",
       "      <td>0.0</td>\n",
       "      <td>0.0</td>\n",
       "      <td>0.0</td>\n",
       "      <td>0.0</td>\n",
       "      <td>1.0</td>\n",
       "      <td>2.0</td>\n",
       "      <td>3.0</td>\n",
       "      <td>1.428571</td>\n",
       "      <td>0.052832</td>\n",
       "      <td>2.930959</td>\n",
       "      <td>0.236315</td>\n",
       "      <td>0.678568</td>\n",
       "      <td>0.414784</td>\n",
       "      <td>0.329471</td>\n",
       "      <td>0.036237</td>\n",
       "      <td>20.00000</td>\n",
       "      <td>0.085714</td>\n",
       "      <td>1.714286</td>\n",
       "      <td>78750.0</td>\n",
       "      <td>1.577103</td>\n",
       "      <td>31.542056</td>\n",
       "      <td>18.399533</td>\n",
       "      <td>101.678502</td>\n",
       "      <td>174.306004</td>\n",
       "      <td>8.7153</td>\n",
       "      <td>5.526146</td>\n",
       "      <td>1270.71</td>\n",
       "      <td>NaN</td>\n",
       "      <td>NaN</td>\n",
       "      <td>88957.124333</td>\n",
       "      <td>63804.966560</td>\n",
       "      <td>183213.275945</td>\n",
       "      <td>4447.856217</td>\n",
       "      <td>3190.248328</td>\n",
       "      <td>9160.663797</td>\n",
       "      <td>0.65858</td>\n",
       "      <td>0.70004</td>\n",
       "      <td>0.097008</td>\n",
       "      <td>0.514472</td>\n",
       "    </tr>\n",
       "    <tr>\n",
       "      <th>1</th>\n",
       "      <td>123423688</td>\n",
       "      <td>F</td>\n",
       "      <td>0</td>\n",
       "      <td>270000.0</td>\n",
       "      <td>536917.5</td>\n",
       "      <td>28467.0</td>\n",
       "      <td>Secondary / secondary special</td>\n",
       "      <td>Married</td>\n",
       "      <td>0.020246</td>\n",
       "      <td>23187</td>\n",
       "      <td>NaN</td>\n",
       "      <td>NaN</td>\n",
       "      <td>0</td>\n",
       "      <td>0</td>\n",
       "      <td>2.0</td>\n",
       "      <td>NaN</td>\n",
       "      <td>0.442295</td>\n",
       "      <td>0.802745</td>\n",
       "      <td>0.0</td>\n",
       "      <td>0.0</td>\n",
       "      <td>0.0</td>\n",
       "      <td>0.0</td>\n",
       "      <td>1.0</td>\n",
       "      <td>1.0</td>\n",
       "      <td>2.0</td>\n",
       "      <td>-1.875000</td>\n",
       "      <td>NaN</td>\n",
       "      <td>NaN</td>\n",
       "      <td>0.442295</td>\n",
       "      <td>0.802745</td>\n",
       "      <td>0.622520</td>\n",
       "      <td>0.622520</td>\n",
       "      <td>0.032481</td>\n",
       "      <td>18.86105</td>\n",
       "      <td>0.105433</td>\n",
       "      <td>1.988583</td>\n",
       "      <td>135000.0</td>\n",
       "      <td>1.227714</td>\n",
       "      <td>23.155971</td>\n",
       "      <td>11.644456</td>\n",
       "      <td>NaN</td>\n",
       "      <td>NaN</td>\n",
       "      <td>NaN</td>\n",
       "      <td>NaN</td>\n",
       "      <td>5466.42</td>\n",
       "      <td>NaN</td>\n",
       "      <td>NaN</td>\n",
       "      <td>NaN</td>\n",
       "      <td>237475.743779</td>\n",
       "      <td>431008.094056</td>\n",
       "      <td>NaN</td>\n",
       "      <td>12590.802122</td>\n",
       "      <td>22851.755462</td>\n",
       "      <td>0.65858</td>\n",
       "      <td>0.70004</td>\n",
       "      <td>0.639384</td>\n",
       "      <td>0.514472</td>\n",
       "    </tr>\n",
       "  </tbody>\n",
       "</table>\n",
       "</div>"
      ],
      "text/plain": [
       "   application_number gender  childrens  total_salary  amount_credit  \\\n",
       "0           123666076      F          0      157500.0       270000.0   \n",
       "1           123423688      F          0      270000.0       536917.5   \n",
       "\n",
       "   amount_annuity                education_level   family_status  \\\n",
       "0         13500.0              Incomplete higher  Civil marriage   \n",
       "1         28467.0  Secondary / secondary special         Married   \n",
       "\n",
       "   region_population    age  days_on_last_job  own_car_age  flag_phone  \\\n",
       "0           0.008068   8560            1549.0          NaN           1   \n",
       "1           0.020246  23187               NaN          NaN           0   \n",
       "\n",
       "   flag_email  family_size  external_scoring_rating_1  \\\n",
       "0           0          2.0                   0.329471   \n",
       "1           0          2.0                        NaN   \n",
       "\n",
       "   external_scoring_rating_2  external_scoring_rating_3  \\\n",
       "0                   0.236315                   0.678568   \n",
       "1                   0.442295                   0.802745   \n",
       "\n",
       "   amt_req_credit_bureau_hour  amt_req_credit_bureau_day  \\\n",
       "0                         0.0                        0.0   \n",
       "1                         0.0                        0.0   \n",
       "\n",
       "   amt_req_credit_bureau_week  amt_req_credit_bureau_mon  \\\n",
       "0                         0.0                        0.0   \n",
       "1                         0.0                        0.0   \n",
       "\n",
       "   amt_req_credit_bureau_qrt  amt_req_credit_bureau_year  bki_requests_count  \\\n",
       "0                        1.0                         2.0                 3.0   \n",
       "1                        1.0                         1.0                 2.0   \n",
       "\n",
       "   bki_kurtosis  external_scoring_prod  external_scoring_weighted  \\\n",
       "0      1.428571               0.052832                   2.930959   \n",
       "1     -1.875000                    NaN                        NaN   \n",
       "\n",
       "   external_scoring_rating_min  external_scoring_rating_max  \\\n",
       "0                     0.236315                     0.678568   \n",
       "1                     0.442295                     0.802745   \n",
       "\n",
       "   external_scoring_rating_mean  external_scoring_rating_nanmedian  \\\n",
       "0                      0.414784                           0.329471   \n",
       "1                      0.622520                           0.622520   \n",
       "\n",
       "   external_scoring_rating_var  ratio_credit_to_annuity  \\\n",
       "0                     0.036237                 20.00000   \n",
       "1                     0.032481                 18.86105   \n",
       "\n",
       "   ratio_annuity_to_salary  ratio_credit_to_salary  \\\n",
       "0                 0.085714                1.714286   \n",
       "1                 0.105433                1.988583   \n",
       "\n",
       "   ratio_salary_to_per_family_size  ratio_annuity_to_age  ratio_credit_to_age  \\\n",
       "0                          78750.0              1.577103            31.542056   \n",
       "1                         135000.0              1.227714            23.155971   \n",
       "\n",
       "   ratio_salary_to_age  ratio_salary_to_experience  \\\n",
       "0            18.399533                  101.678502   \n",
       "1            11.644456                         NaN   \n",
       "\n",
       "   ratio_credit_to_experience  ratio_annuity_to_experience  \\\n",
       "0                  174.306004                       8.7153   \n",
       "1                         NaN                          NaN   \n",
       "\n",
       "   ratio_age_to_experience  ratio_salary_to_region_population  \\\n",
       "0                 5.526146                            1270.71   \n",
       "1                      NaN                            5466.42   \n",
       "\n",
       "   ratio_car_to_experience  ratio_car_to_age  expected_total_loss_1  \\\n",
       "0                      NaN               NaN           88957.124333   \n",
       "1                      NaN               NaN                    NaN   \n",
       "\n",
       "   expected_total_loss_2  expected_total_loss_3  expected_monthly_loss_1  \\\n",
       "0           63804.966560          183213.275945              4447.856217   \n",
       "1          237475.743779          431008.094056                      NaN   \n",
       "\n",
       "   expected_monthly_loss_2  expected_monthly_loss_3  gender_freq_enc  \\\n",
       "0              3190.248328              9160.663797          0.65858   \n",
       "1             12590.802122             22851.755462          0.65858   \n",
       "\n",
       "   childrens_freq_enc  family_status_freq_enc  family_size_freq_enc  \n",
       "0             0.70004                0.097008              0.514472  \n",
       "1             0.70004                0.639384              0.514472  "
      ]
     },
     "execution_count": 10,
     "metadata": {},
     "output_type": "execute_result"
    }
   ],
   "source": [
    "client_profile = get_input(\"client_profile.csv\")\n",
    "client_profile = create_client_profile_features(client_profile)\n",
    "client_profile.head(n=2)"
   ]
  },
  {
   "cell_type": "code",
   "execution_count": 11,
   "id": "4ff7d82d",
   "metadata": {},
   "outputs": [],
   "source": [
    "data = data.merge(\n",
    "    client_profile, how=\"left\", on=\"application_number\"\n",
    ")"
   ]
  },
  {
   "cell_type": "code",
   "execution_count": 12,
   "id": "e02cbcc6",
   "metadata": {},
   "outputs": [],
   "source": [
    "def get_train_test(X: pd.DataFrame) -> pd.DataFrame:\n",
    "    \"\"\"\n",
    "    Формирование обучающей выборки и тестовой выборки\n",
    "    \n",
    "    Parameters\n",
    "    ----------\n",
    "    X: pandas.core.frame.DataFrame\n",
    "        Матрица признаков с исходными данными.\n",
    "\n",
    "    copy: bool, optional, default = True\n",
    "        Флаг использования копии датафрейма X.\n",
    "        Опциональный параметр, по умолчанию, равен True.\n",
    "\n",
    "    Returns\n",
    "    -------\n",
    "    train: pandas.core.frame.DataFrame\n",
    "        Обучающая выборка\n",
    "        \n",
    "    test: pandas.core.frame.DataFrame\n",
    "        Тестовая выборка\n",
    "        \n",
    "    target: pd.Series\n",
    "        Целевая переменная\n",
    "        \n",
    "    test_id: pd.Series\n",
    "        id пользователей для тестовой выборки\n",
    "    \n",
    "    categorial: str\n",
    "        Список категориальных признаков.\n",
    "    \"\"\"\n",
    "    mask = X[\"target\"].isnull()\n",
    "    features_to_drop = [\"application_number\", \"target\"]\n",
    "\n",
    "    train, test = X.loc[~mask], X.loc[mask]\n",
    "\n",
    "    target, test_id = train[\"target\"], test[\"application_number\"]\n",
    "    train = train.drop(features_to_drop, axis=1)\n",
    "    test = test.drop(features_to_drop, axis=1)\n",
    "\n",
    "    categorial = train.dtypes[train.dtypes == \"object\"].index\n",
    "    numerical = list(set(train.columns) - set(categorial))\n",
    "\n",
    "    train = train.replace(np.inf, np.nan)\n",
    "    train = train.replace(-np.inf, np.nan)\n",
    "  \n",
    "    return train, test, target, test_id, categorial"
   ]
  },
  {
   "cell_type": "code",
   "execution_count": 13,
   "id": "c26c6ca2",
   "metadata": {},
   "outputs": [],
   "source": [
    "train, test, target, test_id, categorial = get_train_test(data)"
   ]
  },
  {
   "cell_type": "code",
   "execution_count": 14,
   "id": "a4555b5b",
   "metadata": {},
   "outputs": [
    {
     "name": "stdout",
     "output_type": "stream",
     "text": [
      "Categorical Features Count: 4\n"
     ]
    },
    {
     "data": {
      "text/plain": [
       "['name_contract_type', 'gender', 'education_level', 'family_status']"
      ]
     },
     "execution_count": 14,
     "metadata": {},
     "output_type": "execute_result"
    }
   ],
   "source": [
    "CAT_FEATS = categorial.tolist()\n",
    "print(f\"Categorical Features Count: {len(CAT_FEATS)}\")\n",
    "CAT_FEATS"
   ]
  },
  {
   "cell_type": "code",
   "execution_count": 15,
   "id": "ffbaa533",
   "metadata": {},
   "outputs": [],
   "source": [
    "train_encode, test_encode = encode_cat_feats(train, test, categorial)"
   ]
  },
  {
   "cell_type": "markdown",
   "id": "84138f56",
   "metadata": {},
   "source": [
    "## Задание 1\n",
    "Обучить алгоритмы LightGBM и XGBoost, получить OOF прогнозы, оценить корреляцию прогнозов на обучающей выборке. Применить модели на тестовую выборку и оценить корреляцию."
   ]
  },
  {
   "cell_type": "code",
   "execution_count": 16,
   "id": "218286eb",
   "metadata": {},
   "outputs": [],
   "source": [
    "seed = 42\n",
    "np.random.seed(seed)\n",
    "\n",
    "cv = KFold(n_splits=5, random_state=1234123, shuffle=True)"
   ]
  },
  {
   "cell_type": "markdown",
   "id": "faa723ee",
   "metadata": {},
   "source": [
    "### LightGBM model"
   ]
  },
  {
   "cell_type": "code",
   "execution_count": 17,
   "id": "f8d6518d",
   "metadata": {},
   "outputs": [
    {
     "name": "stdout",
     "output_type": "stream",
     "text": [
      "Sun Oct 31 19:46:53 2021, Cross-Validation, 110093 rows, 57 cols\n",
      "Training until validation scores don't improve for 50 rounds\n",
      "[50]\ttraining's auc: 0.720913\ttraining's binary_logloss: 0.262911\tvalid_1's auc: 0.702475\tvalid_1's binary_logloss: 0.274015\n",
      "[100]\ttraining's auc: 0.729627\ttraining's binary_logloss: 0.256255\tvalid_1's auc: 0.707372\tvalid_1's binary_logloss: 0.268708\n",
      "[150]\ttraining's auc: 0.736012\ttraining's binary_logloss: 0.252428\tvalid_1's auc: 0.709847\tvalid_1's binary_logloss: 0.266229\n",
      "[200]\ttraining's auc: 0.741844\ttraining's binary_logloss: 0.2499\tvalid_1's auc: 0.712157\tvalid_1's binary_logloss: 0.264895\n",
      "[250]\ttraining's auc: 0.747422\ttraining's binary_logloss: 0.247822\tvalid_1's auc: 0.71508\tvalid_1's binary_logloss: 0.264005\n",
      "[300]\ttraining's auc: 0.752743\ttraining's binary_logloss: 0.246025\tvalid_1's auc: 0.716881\tvalid_1's binary_logloss: 0.263393\n",
      "[350]\ttraining's auc: 0.757574\ttraining's binary_logloss: 0.244463\tvalid_1's auc: 0.718231\tvalid_1's binary_logloss: 0.263041\n",
      "[400]\ttraining's auc: 0.762184\ttraining's binary_logloss: 0.243008\tvalid_1's auc: 0.718909\tvalid_1's binary_logloss: 0.262819\n",
      "[450]\ttraining's auc: 0.766413\ttraining's binary_logloss: 0.241683\tvalid_1's auc: 0.719504\tvalid_1's binary_logloss: 0.262611\n",
      "Early stopping, best iteration is:\n",
      "[439]\ttraining's auc: 0.765603\ttraining's binary_logloss: 0.241971\tvalid_1's auc: 0.719869\tvalid_1's binary_logloss: 0.26264\n",
      "Fold 1, Valid score = 0.71987\n",
      "Training until validation scores don't improve for 50 rounds\n",
      "[50]\ttraining's auc: 0.719572\ttraining's binary_logloss: 0.265944\tvalid_1's auc: 0.712013\tvalid_1's binary_logloss: 0.262549\n",
      "[100]\ttraining's auc: 0.728048\ttraining's binary_logloss: 0.259325\tvalid_1's auc: 0.715478\tvalid_1's binary_logloss: 0.257282\n",
      "[150]\ttraining's auc: 0.734685\ttraining's binary_logloss: 0.255571\tvalid_1's auc: 0.717875\tvalid_1's binary_logloss: 0.254775\n",
      "[200]\ttraining's auc: 0.741366\ttraining's binary_logloss: 0.252942\tvalid_1's auc: 0.719144\tvalid_1's binary_logloss: 0.25339\n",
      "[250]\ttraining's auc: 0.747866\ttraining's binary_logloss: 0.250767\tvalid_1's auc: 0.720325\tvalid_1's binary_logloss: 0.252511\n",
      "[300]\ttraining's auc: 0.753001\ttraining's binary_logloss: 0.248952\tvalid_1's auc: 0.721426\tvalid_1's binary_logloss: 0.251923\n",
      "[350]\ttraining's auc: 0.757624\ttraining's binary_logloss: 0.247355\tvalid_1's auc: 0.722114\tvalid_1's binary_logloss: 0.25158\n",
      "[400]\ttraining's auc: 0.761948\ttraining's binary_logloss: 0.245887\tvalid_1's auc: 0.722505\tvalid_1's binary_logloss: 0.251358\n",
      "Early stopping, best iteration is:\n",
      "[381]\ttraining's auc: 0.760523\ttraining's binary_logloss: 0.246425\tvalid_1's auc: 0.722866\tvalid_1's binary_logloss: 0.251428\n",
      "Fold 2, Valid score = 0.72287\n",
      "Training until validation scores don't improve for 50 rounds\n",
      "[50]\ttraining's auc: 0.71799\ttraining's binary_logloss: 0.265332\tvalid_1's auc: 0.711022\tvalid_1's binary_logloss: 0.265023\n",
      "[100]\ttraining's auc: 0.727153\ttraining's binary_logloss: 0.258776\tvalid_1's auc: 0.718503\tvalid_1's binary_logloss: 0.259372\n",
      "[150]\ttraining's auc: 0.733991\ttraining's binary_logloss: 0.255052\tvalid_1's auc: 0.721353\tvalid_1's binary_logloss: 0.256562\n",
      "[200]\ttraining's auc: 0.739813\ttraining's binary_logloss: 0.252511\tvalid_1's auc: 0.724913\tvalid_1's binary_logloss: 0.254898\n",
      "[250]\ttraining's auc: 0.74564\ttraining's binary_logloss: 0.25046\tvalid_1's auc: 0.727091\tvalid_1's binary_logloss: 0.253777\n",
      "[300]\ttraining's auc: 0.750908\ttraining's binary_logloss: 0.248627\tvalid_1's auc: 0.729148\tvalid_1's binary_logloss: 0.253073\n",
      "[350]\ttraining's auc: 0.755868\ttraining's binary_logloss: 0.24704\tvalid_1's auc: 0.730085\tvalid_1's binary_logloss: 0.252667\n",
      "[400]\ttraining's auc: 0.760403\ttraining's binary_logloss: 0.245589\tvalid_1's auc: 0.730301\tvalid_1's binary_logloss: 0.252391\n",
      "Early stopping, best iteration is:\n",
      "[387]\ttraining's auc: 0.759264\ttraining's binary_logloss: 0.245954\tvalid_1's auc: 0.730482\tvalid_1's binary_logloss: 0.252444\n",
      "Fold 3, Valid score = 0.73048\n",
      "Training until validation scores don't improve for 50 rounds\n",
      "[50]\ttraining's auc: 0.720961\ttraining's binary_logloss: 0.265649\tvalid_1's auc: 0.703622\tvalid_1's binary_logloss: 0.263412\n",
      "[100]\ttraining's auc: 0.72902\ttraining's binary_logloss: 0.259048\tvalid_1's auc: 0.707171\tvalid_1's binary_logloss: 0.258356\n",
      "[150]\ttraining's auc: 0.734828\ttraining's binary_logloss: 0.255361\tvalid_1's auc: 0.709689\tvalid_1's binary_logloss: 0.255966\n",
      "[200]\ttraining's auc: 0.741332\ttraining's binary_logloss: 0.252688\tvalid_1's auc: 0.712945\tvalid_1's binary_logloss: 0.254522\n",
      "[250]\ttraining's auc: 0.746768\ttraining's binary_logloss: 0.250595\tvalid_1's auc: 0.714962\tvalid_1's binary_logloss: 0.253645\n",
      "[300]\ttraining's auc: 0.752423\ttraining's binary_logloss: 0.248788\tvalid_1's auc: 0.716581\tvalid_1's binary_logloss: 0.253036\n",
      "[350]\ttraining's auc: 0.75735\ttraining's binary_logloss: 0.247205\tvalid_1's auc: 0.717987\tvalid_1's binary_logloss: 0.252587\n",
      "[400]\ttraining's auc: 0.761612\ttraining's binary_logloss: 0.245812\tvalid_1's auc: 0.718516\tvalid_1's binary_logloss: 0.252296\n",
      "[450]\ttraining's auc: 0.765484\ttraining's binary_logloss: 0.244523\tvalid_1's auc: 0.71947\tvalid_1's binary_logloss: 0.252124\n",
      "[500]\ttraining's auc: 0.769544\ttraining's binary_logloss: 0.243359\tvalid_1's auc: 0.719815\tvalid_1's binary_logloss: 0.252005\n",
      "[550]\ttraining's auc: 0.773689\ttraining's binary_logloss: 0.242174\tvalid_1's auc: 0.720233\tvalid_1's binary_logloss: 0.251951\n",
      "[600]\ttraining's auc: 0.777251\ttraining's binary_logloss: 0.241067\tvalid_1's auc: 0.720652\tvalid_1's binary_logloss: 0.251828\n",
      "[650]\ttraining's auc: 0.780769\ttraining's binary_logloss: 0.240107\tvalid_1's auc: 0.72073\tvalid_1's binary_logloss: 0.25175\n",
      "Early stopping, best iteration is:\n",
      "[622]\ttraining's auc: 0.778835\ttraining's binary_logloss: 0.240635\tvalid_1's auc: 0.720998\tvalid_1's binary_logloss: 0.251774\n",
      "Fold 4, Valid score = 0.721\n",
      "Training until validation scores don't improve for 50 rounds\n",
      "[50]\ttraining's auc: 0.719631\ttraining's binary_logloss: 0.264597\tvalid_1's auc: 0.704519\tvalid_1's binary_logloss: 0.26797\n",
      "[100]\ttraining's auc: 0.727801\ttraining's binary_logloss: 0.257951\tvalid_1's auc: 0.709363\tvalid_1's binary_logloss: 0.262619\n",
      "[150]\ttraining's auc: 0.734158\ttraining's binary_logloss: 0.254258\tvalid_1's auc: 0.712842\tvalid_1's binary_logloss: 0.260067\n",
      "[200]\ttraining's auc: 0.740642\ttraining's binary_logloss: 0.251686\tvalid_1's auc: 0.715692\tvalid_1's binary_logloss: 0.258663\n",
      "[250]\ttraining's auc: 0.746802\ttraining's binary_logloss: 0.24961\tvalid_1's auc: 0.718268\tvalid_1's binary_logloss: 0.257687\n",
      "[300]\ttraining's auc: 0.751862\ttraining's binary_logloss: 0.247842\tvalid_1's auc: 0.720285\tvalid_1's binary_logloss: 0.257016\n",
      "[350]\ttraining's auc: 0.756334\ttraining's binary_logloss: 0.24625\tvalid_1's auc: 0.721824\tvalid_1's binary_logloss: 0.256513\n",
      "[400]\ttraining's auc: 0.760746\ttraining's binary_logloss: 0.244807\tvalid_1's auc: 0.723427\tvalid_1's binary_logloss: 0.256234\n",
      "[450]\ttraining's auc: 0.764996\ttraining's binary_logloss: 0.243469\tvalid_1's auc: 0.723613\tvalid_1's binary_logloss: 0.256107\n",
      "[500]\ttraining's auc: 0.768947\ttraining's binary_logloss: 0.242275\tvalid_1's auc: 0.724232\tvalid_1's binary_logloss: 0.256086\n",
      "[550]\ttraining's auc: 0.772969\ttraining's binary_logloss: 0.241088\tvalid_1's auc: 0.724438\tvalid_1's binary_logloss: 0.256045\n",
      "[600]\ttraining's auc: 0.776751\ttraining's binary_logloss: 0.239955\tvalid_1's auc: 0.724688\tvalid_1's binary_logloss: 0.256011\n",
      "[650]\ttraining's auc: 0.780564\ttraining's binary_logloss: 0.238865\tvalid_1's auc: 0.724661\tvalid_1's binary_logloss: 0.255991\n",
      "[700]\ttraining's auc: 0.783976\ttraining's binary_logloss: 0.237832\tvalid_1's auc: 0.724998\tvalid_1's binary_logloss: 0.255994\n",
      "Early stopping, best iteration is:\n",
      "[669]\ttraining's auc: 0.781809\ttraining's binary_logloss: 0.238464\tvalid_1's auc: 0.725144\tvalid_1's binary_logloss: 0.255968\n",
      "Fold 5, Valid score = 0.72514\n",
      "Score by each fold: [0.71987, 0.72287, 0.73048, 0.721, 0.72514]\n",
      "=================================================================\n"
     ]
    }
   ],
   "source": [
    "lgbm_params = {\n",
    "    \"n_estimators\": 2000,\n",
    "    \"learning_rate\": 0.01,\n",
    "    \"objective\": \"binary\",\n",
    "    \"boosting_type\": \"gbdt\",    \n",
    "    \"max_bin\": 20,\n",
    "    \"max_depth\": 6,\n",
    "    \"random_seed\": seed\n",
    "}\n",
    "lgbm_fit_params = {\n",
    "    \"eval_metric\": \"auc\",\n",
    "    \"early_stopping_rounds\": 50,\n",
    "    \"verbose\": 50\n",
    "}\n",
    "\n",
    "\n",
    "lgbm_estimators, lgbm_oof_preds = lightgbm_cross_validation(\n",
    "    params=lgbm_params, fit_params=lgbm_fit_params, X=train_encode, y=target, cv=cv\n",
    ")"
   ]
  },
  {
   "cell_type": "code",
   "execution_count": 18,
   "id": "33a2615d",
   "metadata": {},
   "outputs": [
    {
     "name": "stdout",
     "output_type": "stream",
     "text": [
      "OOF-score = 0.72286\n"
     ]
    }
   ],
   "source": [
    "# Score by each fold: [0.71987, 0.72287, 0.73048, 0.721, 0.72514]\n",
    "\n",
    "lgbm_oof_score = roc_auc_score(\n",
    "    target, lgbm_oof_preds\n",
    ")\n",
    "print(f\"OOF-score = {round(lgbm_oof_score, 5)}\")\n",
    "# OOF-score = 0.72286"
   ]
  },
  {
   "cell_type": "markdown",
   "id": "a44ca28b",
   "metadata": {},
   "source": [
    "### XGBoost model"
   ]
  },
  {
   "cell_type": "code",
   "execution_count": 19,
   "id": "fc936d3e",
   "metadata": {},
   "outputs": [
    {
     "name": "stdout",
     "output_type": "stream",
     "text": [
      "Sun Oct 31 19:48:03 2021, Cross-Validation, 110093 rows, 57 cols\n"
     ]
    },
    {
     "name": "stderr",
     "output_type": "stream",
     "text": [
      "C:\\Users\\User\\AppData\\Roaming\\Python\\Python38\\site-packages\\xgboost\\sklearn.py:1224: UserWarning: The use of label encoder in XGBClassifier is deprecated and will be removed in a future release. To remove this warning, do the following: 1) Pass option use_label_encoder=False when constructing XGBClassifier object; and 2) Encode your labels (y) as integers starting with 0, i.e. 0, 1, 2, ..., [num_class - 1].\n",
      "  warnings.warn(label_encoder_deprecation_msg, UserWarning)\n"
     ]
    },
    {
     "name": "stdout",
     "output_type": "stream",
     "text": [
      "[0]\tvalidation_0-auc:0.70718\tvalidation_1-auc:0.69074\n",
      "[50]\tvalidation_0-auc:0.72979\tvalidation_1-auc:0.70027\n",
      "[100]\tvalidation_0-auc:0.73670\tvalidation_1-auc:0.70180\n",
      "[150]\tvalidation_0-auc:0.74275\tvalidation_1-auc:0.70298\n",
      "[200]\tvalidation_0-auc:0.75051\tvalidation_1-auc:0.70576\n",
      "[250]\tvalidation_0-auc:0.75551\tvalidation_1-auc:0.70859\n",
      "[300]\tvalidation_0-auc:0.76198\tvalidation_1-auc:0.71080\n",
      "[350]\tvalidation_0-auc:0.76922\tvalidation_1-auc:0.71343\n",
      "[400]\tvalidation_0-auc:0.77623\tvalidation_1-auc:0.71428\n",
      "[450]\tvalidation_0-auc:0.78350\tvalidation_1-auc:0.71605\n",
      "[500]\tvalidation_0-auc:0.79011\tvalidation_1-auc:0.71851\n",
      "[550]\tvalidation_0-auc:0.79577\tvalidation_1-auc:0.72015\n",
      "[600]\tvalidation_0-auc:0.80038\tvalidation_1-auc:0.72054\n",
      "[650]\tvalidation_0-auc:0.80399\tvalidation_1-auc:0.72105\n",
      "[700]\tvalidation_0-auc:0.80760\tvalidation_1-auc:0.72157\n",
      "[750]\tvalidation_0-auc:0.81029\tvalidation_1-auc:0.72216\n",
      "[800]\tvalidation_0-auc:0.81349\tvalidation_1-auc:0.72187\n",
      "[831]\tvalidation_0-auc:0.81494\tvalidation_1-auc:0.72152\n",
      "Fold 1, Valid score = 0.72219\n"
     ]
    },
    {
     "name": "stderr",
     "output_type": "stream",
     "text": [
      "C:\\Users\\User\\AppData\\Roaming\\Python\\Python38\\site-packages\\xgboost\\sklearn.py:1224: UserWarning: The use of label encoder in XGBClassifier is deprecated and will be removed in a future release. To remove this warning, do the following: 1) Pass option use_label_encoder=False when constructing XGBClassifier object; and 2) Encode your labels (y) as integers starting with 0, i.e. 0, 1, 2, ..., [num_class - 1].\n",
      "  warnings.warn(label_encoder_deprecation_msg, UserWarning)\n"
     ]
    },
    {
     "name": "stdout",
     "output_type": "stream",
     "text": [
      "[0]\tvalidation_0-auc:0.70677\tvalidation_1-auc:0.69640\n",
      "[50]\tvalidation_0-auc:0.72887\tvalidation_1-auc:0.70707\n",
      "[100]\tvalidation_0-auc:0.73381\tvalidation_1-auc:0.70756\n",
      "[150]\tvalidation_0-auc:0.73873\tvalidation_1-auc:0.71065\n",
      "[200]\tvalidation_0-auc:0.74658\tvalidation_1-auc:0.71351\n",
      "[250]\tvalidation_0-auc:0.75191\tvalidation_1-auc:0.71552\n",
      "[300]\tvalidation_0-auc:0.75979\tvalidation_1-auc:0.71887\n",
      "[350]\tvalidation_0-auc:0.76782\tvalidation_1-auc:0.72167\n",
      "[400]\tvalidation_0-auc:0.77524\tvalidation_1-auc:0.72257\n",
      "[450]\tvalidation_0-auc:0.78238\tvalidation_1-auc:0.72435\n",
      "[500]\tvalidation_0-auc:0.78765\tvalidation_1-auc:0.72590\n",
      "[550]\tvalidation_0-auc:0.79231\tvalidation_1-auc:0.72692\n",
      "[600]\tvalidation_0-auc:0.79712\tvalidation_1-auc:0.72740\n",
      "[637]\tvalidation_0-auc:0.80005\tvalidation_1-auc:0.72735\n",
      "Fold 2, Valid score = 0.72763\n"
     ]
    },
    {
     "name": "stderr",
     "output_type": "stream",
     "text": [
      "C:\\Users\\User\\AppData\\Roaming\\Python\\Python38\\site-packages\\xgboost\\sklearn.py:1224: UserWarning: The use of label encoder in XGBClassifier is deprecated and will be removed in a future release. To remove this warning, do the following: 1) Pass option use_label_encoder=False when constructing XGBClassifier object; and 2) Encode your labels (y) as integers starting with 0, i.e. 0, 1, 2, ..., [num_class - 1].\n",
      "  warnings.warn(label_encoder_deprecation_msg, UserWarning)\n"
     ]
    },
    {
     "name": "stdout",
     "output_type": "stream",
     "text": [
      "[0]\tvalidation_0-auc:0.70523\tvalidation_1-auc:0.69588\n",
      "[50]\tvalidation_0-auc:0.72659\tvalidation_1-auc:0.70957\n",
      "[100]\tvalidation_0-auc:0.73378\tvalidation_1-auc:0.71105\n",
      "[150]\tvalidation_0-auc:0.74013\tvalidation_1-auc:0.71264\n",
      "[200]\tvalidation_0-auc:0.74623\tvalidation_1-auc:0.71692\n",
      "[250]\tvalidation_0-auc:0.75292\tvalidation_1-auc:0.72013\n",
      "[300]\tvalidation_0-auc:0.76050\tvalidation_1-auc:0.72339\n",
      "[350]\tvalidation_0-auc:0.76735\tvalidation_1-auc:0.72621\n",
      "[400]\tvalidation_0-auc:0.77428\tvalidation_1-auc:0.72883\n",
      "[450]\tvalidation_0-auc:0.78101\tvalidation_1-auc:0.73109\n",
      "[500]\tvalidation_0-auc:0.78714\tvalidation_1-auc:0.73280\n",
      "[550]\tvalidation_0-auc:0.79260\tvalidation_1-auc:0.73347\n",
      "[600]\tvalidation_0-auc:0.79733\tvalidation_1-auc:0.73467\n",
      "[650]\tvalidation_0-auc:0.80120\tvalidation_1-auc:0.73547\n",
      "[700]\tvalidation_0-auc:0.80431\tvalidation_1-auc:0.73579\n",
      "[738]\tvalidation_0-auc:0.80649\tvalidation_1-auc:0.73612\n",
      "Fold 3, Valid score = 0.73625\n"
     ]
    },
    {
     "name": "stderr",
     "output_type": "stream",
     "text": [
      "C:\\Users\\User\\AppData\\Roaming\\Python\\Python38\\site-packages\\xgboost\\sklearn.py:1224: UserWarning: The use of label encoder in XGBClassifier is deprecated and will be removed in a future release. To remove this warning, do the following: 1) Pass option use_label_encoder=False when constructing XGBClassifier object; and 2) Encode your labels (y) as integers starting with 0, i.e. 0, 1, 2, ..., [num_class - 1].\n",
      "  warnings.warn(label_encoder_deprecation_msg, UserWarning)\n"
     ]
    },
    {
     "name": "stdout",
     "output_type": "stream",
     "text": [
      "[0]\tvalidation_0-auc:0.70948\tvalidation_1-auc:0.68769\n",
      "[50]\tvalidation_0-auc:0.72882\tvalidation_1-auc:0.70053\n",
      "[100]\tvalidation_0-auc:0.73365\tvalidation_1-auc:0.70339\n",
      "[150]\tvalidation_0-auc:0.74125\tvalidation_1-auc:0.70610\n",
      "[200]\tvalidation_0-auc:0.74932\tvalidation_1-auc:0.70738\n",
      "[250]\tvalidation_0-auc:0.75545\tvalidation_1-auc:0.70898\n",
      "[300]\tvalidation_0-auc:0.76028\tvalidation_1-auc:0.71193\n",
      "[350]\tvalidation_0-auc:0.76748\tvalidation_1-auc:0.71460\n",
      "[400]\tvalidation_0-auc:0.77399\tvalidation_1-auc:0.71734\n",
      "[450]\tvalidation_0-auc:0.78144\tvalidation_1-auc:0.71884\n",
      "[500]\tvalidation_0-auc:0.78752\tvalidation_1-auc:0.71982\n",
      "[550]\tvalidation_0-auc:0.79309\tvalidation_1-auc:0.72135\n",
      "[600]\tvalidation_0-auc:0.79779\tvalidation_1-auc:0.72213\n",
      "[650]\tvalidation_0-auc:0.80115\tvalidation_1-auc:0.72293\n",
      "[700]\tvalidation_0-auc:0.80414\tvalidation_1-auc:0.72341\n",
      "[750]\tvalidation_0-auc:0.80684\tvalidation_1-auc:0.72375\n",
      "[800]\tvalidation_0-auc:0.80906\tvalidation_1-auc:0.72414\n",
      "[850]\tvalidation_0-auc:0.81148\tvalidation_1-auc:0.72449\n",
      "[900]\tvalidation_0-auc:0.81404\tvalidation_1-auc:0.72485\n",
      "[950]\tvalidation_0-auc:0.81648\tvalidation_1-auc:0.72517\n",
      "[1000]\tvalidation_0-auc:0.81857\tvalidation_1-auc:0.72534\n",
      "[1050]\tvalidation_0-auc:0.82046\tvalidation_1-auc:0.72503\n",
      "[1057]\tvalidation_0-auc:0.82083\tvalidation_1-auc:0.72500\n",
      "Fold 4, Valid score = 0.7254\n"
     ]
    },
    {
     "name": "stderr",
     "output_type": "stream",
     "text": [
      "C:\\Users\\User\\AppData\\Roaming\\Python\\Python38\\site-packages\\xgboost\\sklearn.py:1224: UserWarning: The use of label encoder in XGBClassifier is deprecated and will be removed in a future release. To remove this warning, do the following: 1) Pass option use_label_encoder=False when constructing XGBClassifier object; and 2) Encode your labels (y) as integers starting with 0, i.e. 0, 1, 2, ..., [num_class - 1].\n",
      "  warnings.warn(label_encoder_deprecation_msg, UserWarning)\n"
     ]
    },
    {
     "name": "stdout",
     "output_type": "stream",
     "text": [
      "[0]\tvalidation_0-auc:0.70842\tvalidation_1-auc:0.69386\n",
      "[50]\tvalidation_0-auc:0.72713\tvalidation_1-auc:0.70053\n",
      "[100]\tvalidation_0-auc:0.73517\tvalidation_1-auc:0.70244\n",
      "[150]\tvalidation_0-auc:0.73988\tvalidation_1-auc:0.70425\n",
      "[200]\tvalidation_0-auc:0.74681\tvalidation_1-auc:0.70972\n",
      "[250]\tvalidation_0-auc:0.75297\tvalidation_1-auc:0.71228\n",
      "[300]\tvalidation_0-auc:0.75939\tvalidation_1-auc:0.71458\n",
      "[350]\tvalidation_0-auc:0.76757\tvalidation_1-auc:0.71674\n",
      "[400]\tvalidation_0-auc:0.77517\tvalidation_1-auc:0.71874\n",
      "[450]\tvalidation_0-auc:0.78240\tvalidation_1-auc:0.72130\n",
      "[500]\tvalidation_0-auc:0.78817\tvalidation_1-auc:0.72325\n",
      "[550]\tvalidation_0-auc:0.79380\tvalidation_1-auc:0.72477\n",
      "[600]\tvalidation_0-auc:0.79852\tvalidation_1-auc:0.72533\n",
      "[650]\tvalidation_0-auc:0.80200\tvalidation_1-auc:0.72573\n",
      "[700]\tvalidation_0-auc:0.80489\tvalidation_1-auc:0.72655\n",
      "[750]\tvalidation_0-auc:0.80787\tvalidation_1-auc:0.72698\n",
      "[789]\tvalidation_0-auc:0.81006\tvalidation_1-auc:0.72693\n",
      "Fold 5, Valid score = 0.72702\n",
      "Score by each fold: [0.72219, 0.72763, 0.73625, 0.7254, 0.72702]\n",
      "=================================================================\n"
     ]
    }
   ],
   "source": [
    "xgb_params = {\n",
    "    \"n_estimators\": 2000,\n",
    "    \"learning_rate\": 0.01,\n",
    "    \"max_bin\": 20,\n",
    "    \"max_depth\": 6,\n",
    "    \"nthread\": 6,\n",
    "    \"seed\": seed\n",
    "}\n",
    "xgb_fit_params = {\n",
    "    \"early_stopping_rounds\": 50,\n",
    "    \"verbose\":50,    \n",
    "    \"eval_metric\": \"auc\"    \n",
    "}\n",
    "\n",
    "xgb_estimators, xgb_oof_preds = xgboost_cross_validation(\n",
    "    params=xgb_params, fit_params=xgb_fit_params, X=train_encode, y=target, cv=cv\n",
    ")"
   ]
  },
  {
   "cell_type": "code",
   "execution_count": 20,
   "id": "1bcd16cc",
   "metadata": {},
   "outputs": [
    {
     "name": "stdout",
     "output_type": "stream",
     "text": [
      "OOF-score = 0.72668\n"
     ]
    }
   ],
   "source": [
    "# Score by each fold: [0.72219, 0.72763, 0.73625, 0.7254, 0.72702]\n",
    "\n",
    "xgb_oof_score = roc_auc_score(\n",
    "    target, xgb_oof_preds\n",
    ")\n",
    "print(f\"OOF-score = {round(xgb_oof_score, 5)}\")\n",
    "# OOF-score = 0.72668"
   ]
  },
  {
   "cell_type": "markdown",
   "id": "fd5c0553",
   "metadata": {},
   "source": [
    "### Prediction Correlation for LightGBM & XGBoost"
   ]
  },
  {
   "cell_type": "code",
   "execution_count": 21,
   "id": "122d403a",
   "metadata": {},
   "outputs": [
    {
     "name": "stderr",
     "output_type": "stream",
     "text": [
      "<ipython-input-21-2808fd249174>:7: DeprecationWarning: `np.bool` is a deprecated alias for the builtin `bool`. To silence this warning, use `bool` by itself. Doing this will not modify any behavior and is safe. If you specifically wanted the numpy scalar type, use `np.bool_` here.\n",
      "Deprecated in NumPy 1.20; for more details and guidance: https://numpy.org/devdocs/release/1.20.0-notes.html#deprecations\n",
      "  mask = np.zeros_like(corr_2, dtype=np.bool)\n"
     ]
    }
   ],
   "source": [
    "scores_2 = pd.DataFrame({\n",
    "    \"lgbm\": lgbm_oof_preds,\n",
    "    \"xgb\": xgb_oof_preds,\n",
    "})\n",
    "\n",
    "corr_2 = scores_2.corr()\n",
    "mask = np.zeros_like(corr_2, dtype=np.bool)\n",
    "mask[np.triu_indices_from(mask)] = True"
   ]
  },
  {
   "cell_type": "code",
   "execution_count": 22,
   "id": "4c9d69ba",
   "metadata": {},
   "outputs": [
    {
     "data": {
      "text/plain": [
       "<AxesSubplot:>"
      ]
     },
     "execution_count": 22,
     "metadata": {},
     "output_type": "execute_result"
    },
    {
     "data": {
      "image/png": "[encoded data removed]",
      "text/plain": [
       "<Figure size 576x576 with 2 Axes>"
      ]
     },
     "metadata": {
      "needs_background": "light"
     },
     "output_type": "display_data"
    }
   ],
   "source": [
    "fig, axes = plt.subplots(1, 1, figsize=(8, 8))\n",
    "sns.heatmap(corr_2, mask=mask, annot=True, fmt=\".4g\", square=True, cmap=\"viridis\", ax=axes)"
   ]
  },
  {
   "cell_type": "markdown",
   "id": "5fa8f901",
   "metadata": {},
   "source": [
    "### Test Correlation for LightGBM & XGBoost"
   ]
  },
  {
   "cell_type": "code",
   "execution_count": 23,
   "id": "a47a6673",
   "metadata": {},
   "outputs": [],
   "source": [
    "def predict_by_estimators(test, estimators, test_id=test_id):\n",
    "    y_pred = np.zeros(test.shape[0])\n",
    "\n",
    "    for estimator in estimators:\n",
    "        y_pred += estimator.predict_proba(test)[:, 1]\n",
    "        \n",
    "    y_pred = pd.DataFrame({\n",
    "        \"APPLICATION_NUMBER\": test_id,\n",
    "        \"TARGET\": y_pred / len(estimators)\n",
    "    })\n",
    "    return y_pred"
   ]
  },
  {
   "cell_type": "code",
   "execution_count": 41,
   "id": "eaf34f80",
   "metadata": {},
   "outputs": [],
   "source": [
    "xgb_y_pred = predict_by_estimators(test_encode, xgb_estimators)\n",
    "lgbm_y_pred = predict_by_estimators(test_encode, lgbm_estimators)"
   ]
  },
  {
   "cell_type": "code",
   "execution_count": 42,
   "id": "c9198154",
   "metadata": {},
   "outputs": [
    {
     "name": "stderr",
     "output_type": "stream",
     "text": [
      "<ipython-input-42-b9b1694668bb>:7: DeprecationWarning: `np.bool` is a deprecated alias for the builtin `bool`. To silence this warning, use `bool` by itself. Doing this will not modify any behavior and is safe. If you specifically wanted the numpy scalar type, use `np.bool_` here.\n",
      "Deprecated in NumPy 1.20; for more details and guidance: https://numpy.org/devdocs/release/1.20.0-notes.html#deprecations\n",
      "  mask = np.zeros_like(corr_test_2, dtype=np.bool)\n"
     ]
    }
   ],
   "source": [
    "scores_test_2 = pd.DataFrame({\n",
    "    \"lgbm\": lgbm_y_pred[\"TARGET\"],\n",
    "    \"xgb\": xgb_y_pred[\"TARGET\"],\n",
    "})\n",
    "\n",
    "corr_test_2 = scores_test_2.corr()\n",
    "mask = np.zeros_like(corr_test_2, dtype=np.bool)\n",
    "mask[np.triu_indices_from(mask)] = True"
   ]
  },
  {
   "cell_type": "code",
   "execution_count": 43,
   "id": "00dce61d",
   "metadata": {},
   "outputs": [
    {
     "data": {
      "text/plain": [
       "<AxesSubplot:>"
      ]
     },
     "execution_count": 43,
     "metadata": {},
     "output_type": "execute_result"
    },
    {
     "data": {
      "image/png": "[encoded data removed]",
      "text/plain": [
       "<Figure size 576x576 with 2 Axes>"
      ]
     },
     "metadata": {
      "needs_background": "light"
     },
     "output_type": "display_data"
    }
   ],
   "source": [
    "fig, axes = plt.subplots(1, 1, figsize=(8, 8))\n",
    "sns.heatmap(corr_test_2, mask=mask, annot=True, fmt=\".4g\", square=True, cmap=\"viridis\", ax=axes)"
   ]
  },
  {
   "cell_type": "markdown",
   "id": "7ab2cfb4",
   "metadata": {},
   "source": [
    "**Вывод**\n",
    "* Наблюдается высокая коррелляция между рассматриваемыми моделями LightGBM и XGBoost, что свидетельствует о схожей предсказательной силе."
   ]
  },
  {
   "cell_type": "markdown",
   "id": "6d42f6ac",
   "metadata": {},
   "source": [
    "## Задание 2\n",
    "Усреднить прогнозы с помощью арифмитического среднего, геометрического среднего и усреднить ранги, сделать выводы о качестве отдельных моделей и о качестве комбинации."
   ]
  },
  {
   "cell_type": "code",
   "execution_count": 27,
   "id": "b008fd5b",
   "metadata": {},
   "outputs": [
    {
     "name": "stdout",
     "output_type": "stream",
     "text": [
      "AMean Score = 0.72584\n",
      "GMean Score = 0.72576\n",
      "Rankdata Score = 0.72584\n",
      "GMean Rankdata Score = 0.72582\n"
     ]
    }
   ],
   "source": [
    "scores_amean = scores_2.mean(axis=1)\n",
    "auc_amean = roc_auc_score(target, scores_amean)\n",
    "print(f\"AMean Score = {round(auc_amean, 5)}\")\n",
    "\n",
    "scores_gmean = gmean(scores_2, axis=1)\n",
    "auc_gmean = roc_auc_score(target, scores_gmean)\n",
    "print(f\"GMean Score = {round(auc_gmean, 5)}\")\n",
    "\n",
    "scores_rankdata = scores_2.rank().mean(axis=1)\n",
    "auc_rankdata = roc_auc_score(target, scores_rankdata)\n",
    "print(f\"Rankdata Score = {round(auc_rankdata, 5)}\")\n",
    "\n",
    "scores_gmean_rankdata = gmean(scores_2.rank(), axis=1)\n",
    "auc_gmean_rankdata = roc_auc_score(target, scores_gmean_rankdata)\n",
    "print(f\"GMean Rankdata Score = {round(auc_gmean_rankdata, 5)}\")"
   ]
  },
  {
   "cell_type": "markdown",
   "id": "46e5e41a",
   "metadata": {},
   "source": [
    "**Вывод**\n",
    "* Качество на одиночных моделях составляет: LightGBM - 0.72286, XGBoost - 0.72668\n",
    "* Качество усредненных прогнозов по двум моделям состаявляет AMean - 0.72584, GMean - 0.72576, Rankdata - 0.72584, GMean Rankdata - 0.72582 .\n",
    "* Качество усредненных прогнозов по двум моделям близко друг к другу. \n",
    "* Качество на одиночной модели XGBoost выше, чем качество усредненных прогнозов по двум моделям и качество на одиночной модели LightGBM."
   ]
  },
  {
   "cell_type": "markdown",
   "id": "ea13c44a",
   "metadata": {},
   "source": [
    "## Задание 3\n",
    "Обучить CatBoost, получить OOF прогнозы и выполнить задание 1 для трех моделей."
   ]
  },
  {
   "cell_type": "markdown",
   "id": "057754e3",
   "metadata": {},
   "source": [
    "### CatBoost model"
   ]
  },
  {
   "cell_type": "code",
   "execution_count": 28,
   "id": "178b1c63",
   "metadata": {},
   "outputs": [
    {
     "name": "stdout",
     "output_type": "stream",
     "text": [
      "Sun Oct 31 20:19:27 2021, Cross-Validation, 110093 rows, 57 cols\n",
      "0:\ttest: 0.6676419\ttest1: 0.6565851\tbest: 0.6565851 (0)\ttotal: 203ms\tremaining: 6m 46s\n",
      "50:\ttest: 0.7072350\ttest1: 0.6990368\tbest: 0.6990368 (50)\ttotal: 2.88s\tremaining: 1m 50s\n",
      "100:\ttest: 0.7109242\ttest1: 0.7032906\tbest: 0.7032906 (100)\ttotal: 5.58s\tremaining: 1m 44s\n",
      "150:\ttest: 0.7137146\ttest1: 0.7061418\tbest: 0.7061418 (150)\ttotal: 8.32s\tremaining: 1m 41s\n",
      "200:\ttest: 0.7171668\ttest1: 0.7086127\tbest: 0.7086127 (200)\ttotal: 11.5s\tremaining: 1m 43s\n",
      "250:\ttest: 0.7195405\ttest1: 0.7108951\tbest: 0.7109810 (249)\ttotal: 14.3s\tremaining: 1m 39s\n",
      "300:\ttest: 0.7223988\ttest1: 0.7131276\tbest: 0.7131610 (298)\ttotal: 17.1s\tremaining: 1m 36s\n",
      "350:\ttest: 0.7249552\ttest1: 0.7140680\tbest: 0.7140680 (350)\ttotal: 19.9s\tremaining: 1m 33s\n",
      "400:\ttest: 0.7276370\ttest1: 0.7153257\tbest: 0.7153257 (400)\ttotal: 22.5s\tremaining: 1m 29s\n",
      "450:\ttest: 0.7297042\ttest1: 0.7165595\tbest: 0.7166820 (433)\ttotal: 25.2s\tremaining: 1m 26s\n",
      "500:\ttest: 0.7315794\ttest1: 0.7174997\tbest: 0.7174997 (500)\ttotal: 27.8s\tremaining: 1m 23s\n",
      "550:\ttest: 0.7335080\ttest1: 0.7183016\tbest: 0.7183037 (549)\ttotal: 30.5s\tremaining: 1m 20s\n",
      "600:\ttest: 0.7353294\ttest1: 0.7189256\tbest: 0.7189256 (600)\ttotal: 33s\tremaining: 1m 16s\n",
      "650:\ttest: 0.7371009\ttest1: 0.7193045\tbest: 0.7193596 (639)\ttotal: 35.7s\tremaining: 1m 13s\n",
      "700:\ttest: 0.7388226\ttest1: 0.7197125\tbest: 0.7197250 (690)\ttotal: 38.6s\tremaining: 1m 11s\n",
      "750:\ttest: 0.7402787\ttest1: 0.7202773\tbest: 0.7202773 (750)\ttotal: 41.5s\tremaining: 1m 9s\n",
      "800:\ttest: 0.7416199\ttest1: 0.7205861\tbest: 0.7207299 (797)\ttotal: 44.5s\tremaining: 1m 6s\n",
      "850:\ttest: 0.7428975\ttest1: 0.7211692\tbest: 0.7212992 (844)\ttotal: 47.4s\tremaining: 1m 3s\n",
      "900:\ttest: 0.7443140\ttest1: 0.7215472\tbest: 0.7216965 (893)\ttotal: 50s\tremaining: 1m\n",
      "950:\ttest: 0.7458586\ttest1: 0.7216341\tbest: 0.7217527 (940)\ttotal: 52.7s\tremaining: 58.1s\n",
      "1000:\ttest: 0.7470626\ttest1: 0.7217553\tbest: 0.7218420 (989)\ttotal: 55.3s\tremaining: 55.1s\n",
      "1050:\ttest: 0.7485303\ttest1: 0.7219530\tbest: 0.7219532 (1042)\ttotal: 57.7s\tremaining: 52.1s\n",
      "1100:\ttest: 0.7498900\ttest1: 0.7224538\tbest: 0.7224775 (1093)\ttotal: 1m\tremaining: 49.4s\n",
      "1150:\ttest: 0.7511026\ttest1: 0.7224743\tbest: 0.7226108 (1145)\ttotal: 1m 3s\tremaining: 46.5s\n",
      "1200:\ttest: 0.7525932\ttest1: 0.7225506\tbest: 0.7226748 (1171)\ttotal: 1m 5s\tremaining: 43.7s\n",
      "1250:\ttest: 0.7538531\ttest1: 0.7228695\tbest: 0.7228816 (1247)\ttotal: 1m 8s\tremaining: 41s\n",
      "1300:\ttest: 0.7552124\ttest1: 0.7229515\tbest: 0.7231149 (1284)\ttotal: 1m 11s\tremaining: 38.2s\n",
      "Stopped by overfitting detector  (50 iterations wait)\n",
      "\n",
      "bestTest = 0.7231149346\n",
      "bestIteration = 1284\n",
      "\n",
      "Shrink model to first 1285 iterations.\n",
      "Fold 1, Valid score = 0.72311\n",
      "0:\ttest: 0.6671790\ttest1: 0.6688976\tbest: 0.6688976 (0)\ttotal: 75.5ms\tremaining: 2m 30s\n",
      "50:\ttest: 0.7069443\ttest1: 0.7066711\tbest: 0.7068792 (45)\ttotal: 2.85s\tremaining: 1m 48s\n",
      "100:\ttest: 0.7097516\ttest1: 0.7089333\tbest: 0.7089333 (100)\ttotal: 5.82s\tremaining: 1m 49s\n",
      "150:\ttest: 0.7125393\ttest1: 0.7109680\tbest: 0.7109942 (147)\ttotal: 8.83s\tremaining: 1m 48s\n",
      "200:\ttest: 0.7153203\ttest1: 0.7142545\tbest: 0.7142970 (199)\ttotal: 11.8s\tremaining: 1m 45s\n",
      "250:\ttest: 0.7183955\ttest1: 0.7166267\tbest: 0.7167530 (244)\ttotal: 14.9s\tremaining: 1m 43s\n",
      "300:\ttest: 0.7214723\ttest1: 0.7180843\tbest: 0.7181567 (290)\ttotal: 17.9s\tremaining: 1m 40s\n",
      "350:\ttest: 0.7238905\ttest1: 0.7193803\tbest: 0.7194646 (346)\ttotal: 20.8s\tremaining: 1m 37s\n",
      "400:\ttest: 0.7267902\ttest1: 0.7210037\tbest: 0.7212073 (399)\ttotal: 23.7s\tremaining: 1m 34s\n",
      "450:\ttest: 0.7288197\ttest1: 0.7224979\tbest: 0.7224979 (450)\ttotal: 26.6s\tremaining: 1m 31s\n",
      "500:\ttest: 0.7309847\ttest1: 0.7232823\tbest: 0.7233326 (499)\ttotal: 29.6s\tremaining: 1m 28s\n",
      "550:\ttest: 0.7327321\ttest1: 0.7236867\tbest: 0.7238573 (540)\ttotal: 32.5s\tremaining: 1m 25s\n",
      "600:\ttest: 0.7345431\ttest1: 0.7246504\tbest: 0.7247812 (596)\ttotal: 35.5s\tremaining: 1m 22s\n",
      "650:\ttest: 0.7360852\ttest1: 0.7244502\tbest: 0.7247925 (602)\ttotal: 38.3s\tremaining: 1m 19s\n",
      "Stopped by overfitting detector  (50 iterations wait)\n",
      "\n",
      "bestTest = 0.7247924512\n",
      "bestIteration = 602\n",
      "\n",
      "Shrink model to first 603 iterations.\n",
      "Fold 2, Valid score = 0.72479\n",
      "0:\ttest: 0.6501249\ttest1: 0.6542465\tbest: 0.6542465 (0)\ttotal: 63.5ms\tremaining: 2m 6s\n",
      "50:\ttest: 0.7065708\ttest1: 0.7074257\tbest: 0.7074436 (49)\ttotal: 3.04s\tremaining: 1m 56s\n",
      "100:\ttest: 0.7108050\ttest1: 0.7108936\tbest: 0.7111410 (93)\ttotal: 5.86s\tremaining: 1m 50s\n",
      "150:\ttest: 0.7130503\ttest1: 0.7128930\tbest: 0.7131497 (147)\ttotal: 8.79s\tremaining: 1m 47s\n",
      "200:\ttest: 0.7157435\ttest1: 0.7153132\tbest: 0.7155402 (198)\ttotal: 11.6s\tremaining: 1m 44s\n",
      "250:\ttest: 0.7185820\ttest1: 0.7174272\tbest: 0.7174272 (250)\ttotal: 14.7s\tremaining: 1m 42s\n",
      "300:\ttest: 0.7208347\ttest1: 0.7200861\tbest: 0.7200861 (300)\ttotal: 17.8s\tremaining: 1m 40s\n",
      "350:\ttest: 0.7236002\ttest1: 0.7225481\tbest: 0.7225481 (350)\ttotal: 21s\tremaining: 1m 38s\n",
      "400:\ttest: 0.7259926\ttest1: 0.7240442\tbest: 0.7241984 (399)\ttotal: 24.2s\tremaining: 1m 36s\n",
      "450:\ttest: 0.7283993\ttest1: 0.7258762\tbest: 0.7258827 (443)\ttotal: 27s\tremaining: 1m 32s\n",
      "500:\ttest: 0.7304347\ttest1: 0.7267904\tbest: 0.7267904 (500)\ttotal: 29.9s\tremaining: 1m 29s\n",
      "550:\ttest: 0.7318121\ttest1: 0.7273616\tbest: 0.7274592 (547)\ttotal: 32.7s\tremaining: 1m 26s\n",
      "600:\ttest: 0.7336742\ttest1: 0.7289589\tbest: 0.7289589 (600)\ttotal: 35.6s\tremaining: 1m 22s\n",
      "650:\ttest: 0.7351723\ttest1: 0.7288772\tbest: 0.7290318 (608)\ttotal: 38.4s\tremaining: 1m 19s\n",
      "Stopped by overfitting detector  (50 iterations wait)\n",
      "\n",
      "bestTest = 0.7290318417\n",
      "bestIteration = 608\n",
      "\n",
      "Shrink model to first 609 iterations.\n",
      "Fold 3, Valid score = 0.72903\n",
      "0:\ttest: 0.6655136\ttest1: 0.6622001\tbest: 0.6622001 (0)\ttotal: 61.7ms\tremaining: 2m 3s\n",
      "50:\ttest: 0.7073620\ttest1: 0.7024247\tbest: 0.7026669 (46)\ttotal: 3.12s\tremaining: 1m 59s\n",
      "100:\ttest: 0.7107977\ttest1: 0.7051310\tbest: 0.7051310 (100)\ttotal: 6.02s\tremaining: 1m 53s\n",
      "150:\ttest: 0.7141559\ttest1: 0.7059195\tbest: 0.7062622 (146)\ttotal: 9.07s\tremaining: 1m 51s\n",
      "200:\ttest: 0.7169480\ttest1: 0.7077291\tbest: 0.7077342 (199)\ttotal: 12s\tremaining: 1m 47s\n",
      "250:\ttest: 0.7201684\ttest1: 0.7093453\tbest: 0.7093453 (250)\ttotal: 14.9s\tremaining: 1m 44s\n",
      "300:\ttest: 0.7231701\ttest1: 0.7107464\tbest: 0.7107625 (299)\ttotal: 18s\tremaining: 1m 41s\n",
      "350:\ttest: 0.7259750\ttest1: 0.7122503\tbest: 0.7123322 (349)\ttotal: 21.2s\tremaining: 1m 39s\n",
      "400:\ttest: 0.7282884\ttest1: 0.7137571\tbest: 0.7137571 (400)\ttotal: 24.1s\tremaining: 1m 36s\n",
      "450:\ttest: 0.7304154\ttest1: 0.7152746\tbest: 0.7152746 (450)\ttotal: 27s\tremaining: 1m 32s\n",
      "500:\ttest: 0.7323520\ttest1: 0.7159872\tbest: 0.7160150 (498)\ttotal: 29.8s\tremaining: 1m 29s\n",
      "550:\ttest: 0.7342832\ttest1: 0.7168646\tbest: 0.7169406 (547)\ttotal: 32.7s\tremaining: 1m 26s\n",
      "600:\ttest: 0.7357249\ttest1: 0.7172672\tbest: 0.7173655 (593)\ttotal: 35.6s\tremaining: 1m 22s\n",
      "650:\ttest: 0.7373746\ttest1: 0.7181870\tbest: 0.7181911 (648)\ttotal: 38.4s\tremaining: 1m 19s\n",
      "700:\ttest: 0.7389441\ttest1: 0.7189220\tbest: 0.7189220 (700)\ttotal: 41.2s\tremaining: 1m 16s\n",
      "750:\ttest: 0.7403108\ttest1: 0.7192269\tbest: 0.7192269 (750)\ttotal: 44.1s\tremaining: 1m 13s\n",
      "800:\ttest: 0.7414791\ttest1: 0.7195201\tbest: 0.7195549 (796)\ttotal: 46.9s\tremaining: 1m 10s\n",
      "850:\ttest: 0.7427601\ttest1: 0.7198239\tbest: 0.7199804 (844)\ttotal: 49.7s\tremaining: 1m 7s\n",
      "900:\ttest: 0.7440537\ttest1: 0.7202142\tbest: 0.7202142 (900)\ttotal: 52.5s\tremaining: 1m 4s\n",
      "950:\ttest: 0.7453653\ttest1: 0.7208378\tbest: 0.7208467 (948)\ttotal: 55.3s\tremaining: 1m 1s\n",
      "1000:\ttest: 0.7464426\ttest1: 0.7210754\tbest: 0.7211301 (998)\ttotal: 58.2s\tremaining: 58.1s\n",
      "1050:\ttest: 0.7477272\ttest1: 0.7211324\tbest: 0.7211644 (1049)\ttotal: 1m 1s\tremaining: 55.1s\n",
      "1100:\ttest: 0.7487816\ttest1: 0.7213195\tbest: 0.7213950 (1077)\ttotal: 1m 3s\tremaining: 52.2s\n",
      "1150:\ttest: 0.7497601\ttest1: 0.7214999\tbest: 0.7215662 (1135)\ttotal: 1m 6s\tremaining: 49.2s\n",
      "Stopped by overfitting detector  (50 iterations wait)\n",
      "\n",
      "bestTest = 0.7215662498\n",
      "bestIteration = 1135\n",
      "\n",
      "Shrink model to first 1136 iterations.\n",
      "Fold 4, Valid score = 0.72157\n",
      "0:\ttest: 0.6670023\ttest1: 0.6690238\tbest: 0.6690238 (0)\ttotal: 67.1ms\tremaining: 2m 14s\n",
      "50:\ttest: 0.7074240\ttest1: 0.7043277\tbest: 0.7046371 (43)\ttotal: 2.9s\tremaining: 1m 50s\n",
      "100:\ttest: 0.7103723\ttest1: 0.7069264\tbest: 0.7069264 (100)\ttotal: 5.85s\tremaining: 1m 50s\n",
      "150:\ttest: 0.7129746\ttest1: 0.7088143\tbest: 0.7088143 (150)\ttotal: 8.6s\tremaining: 1m 45s\n"
     ]
    },
    {
     "name": "stdout",
     "output_type": "stream",
     "text": [
      "200:\ttest: 0.7157954\ttest1: 0.7111899\tbest: 0.7113442 (198)\ttotal: 11.6s\tremaining: 1m 44s\n",
      "250:\ttest: 0.7190971\ttest1: 0.7135174\tbest: 0.7135174 (250)\ttotal: 15.2s\tremaining: 1m 45s\n",
      "300:\ttest: 0.7218266\ttest1: 0.7159561\tbest: 0.7161072 (299)\ttotal: 18.3s\tremaining: 1m 43s\n",
      "350:\ttest: 0.7240180\ttest1: 0.7174955\tbest: 0.7174955 (350)\ttotal: 21.5s\tremaining: 1m 40s\n",
      "400:\ttest: 0.7265128\ttest1: 0.7187277\tbest: 0.7187281 (398)\ttotal: 24.6s\tremaining: 1m 37s\n",
      "450:\ttest: 0.7289258\ttest1: 0.7196873\tbest: 0.7196873 (450)\ttotal: 27.7s\tremaining: 1m 35s\n",
      "500:\ttest: 0.7309218\ttest1: 0.7204517\tbest: 0.7204517 (500)\ttotal: 30.7s\tremaining: 1m 31s\n",
      "550:\ttest: 0.7325789\ttest1: 0.7213493\tbest: 0.7213755 (546)\ttotal: 33.6s\tremaining: 1m 28s\n",
      "600:\ttest: 0.7343768\ttest1: 0.7221950\tbest: 0.7221950 (600)\ttotal: 36.6s\tremaining: 1m 25s\n",
      "650:\ttest: 0.7357887\ttest1: 0.7229075\tbest: 0.7229075 (650)\ttotal: 39.6s\tremaining: 1m 22s\n",
      "700:\ttest: 0.7371983\ttest1: 0.7235591\tbest: 0.7235591 (700)\ttotal: 42.7s\tremaining: 1m 19s\n",
      "750:\ttest: 0.7386915\ttest1: 0.7237819\tbest: 0.7237819 (750)\ttotal: 45.7s\tremaining: 1m 16s\n",
      "800:\ttest: 0.7401868\ttest1: 0.7244462\tbest: 0.7245555 (797)\ttotal: 48.8s\tremaining: 1m 13s\n",
      "850:\ttest: 0.7414087\ttest1: 0.7248969\tbest: 0.7249355 (847)\ttotal: 51.9s\tremaining: 1m 10s\n",
      "900:\ttest: 0.7426815\ttest1: 0.7252940\tbest: 0.7253851 (883)\ttotal: 55s\tremaining: 1m 7s\n",
      "950:\ttest: 0.7438400\ttest1: 0.7253076\tbest: 0.7254806 (937)\ttotal: 58s\tremaining: 1m 4s\n",
      "1000:\ttest: 0.7452140\ttest1: 0.7255676\tbest: 0.7255970 (997)\ttotal: 1m 1s\tremaining: 1m\n",
      "1050:\ttest: 0.7465450\ttest1: 0.7260115\tbest: 0.7260530 (1043)\ttotal: 1m 4s\tremaining: 58.1s\n",
      "1100:\ttest: 0.7477145\ttest1: 0.7258606\tbest: 0.7263129 (1080)\ttotal: 1m 7s\tremaining: 55.1s\n",
      "Stopped by overfitting detector  (50 iterations wait)\n",
      "\n",
      "bestTest = 0.7263129091\n",
      "bestIteration = 1080\n",
      "\n",
      "Shrink model to first 1081 iterations.\n",
      "Fold 5, Valid score = 0.72631\n",
      "Score by each fold: [0.72311, 0.72479, 0.72903, 0.72157, 0.72631]\n",
      "=================================================================\n"
     ]
    }
   ],
   "source": [
    "cb_params = {\n",
    "    \"n_estimators\": 2000,\n",
    "    \"learning_rate\": 0.01,\n",
    "    \"loss_function\": \"Logloss\",\n",
    "    \"eval_metric\": \"AUC\",\n",
    "    \"task_type\": \"CPU\",\n",
    "    \"max_bin\": 20,\n",
    "    \"verbose\": 50,\n",
    "    \"max_depth\": 6,\n",
    "    \"l2_leaf_reg\": 10,\n",
    "    \"early_stopping_rounds\": 50,\n",
    "    \"thread_count\": 6,\n",
    "    \"random_seed\": seed\n",
    "}\n",
    "\n",
    "cb_estimators, cb_oof_preds = catboost_cross_validation(\n",
    "    params=cb_params, X=train_encode, y=target, cv=cv, categorical=None\n",
    ")"
   ]
  },
  {
   "cell_type": "code",
   "execution_count": 29,
   "id": "fb11abb9",
   "metadata": {},
   "outputs": [
    {
     "name": "stdout",
     "output_type": "stream",
     "text": [
      "OOF-score = 0.724\n"
     ]
    }
   ],
   "source": [
    "# Score by each fold: [0.72311, 0.72479, 0.72903, 0.72157, 0.72631]\n",
    "\n",
    "cb_oof_score = roc_auc_score(\n",
    "    target, cb_oof_preds\n",
    ")\n",
    "print(f\"OOF-score = {round(cb_oof_score, 5)}\")\n",
    "# OOF-score = 0.724"
   ]
  },
  {
   "cell_type": "markdown",
   "id": "fe3638c2",
   "metadata": {},
   "source": [
    "### Prediction Correlation"
   ]
  },
  {
   "cell_type": "code",
   "execution_count": 46,
   "id": "327ca177",
   "metadata": {},
   "outputs": [
    {
     "name": "stderr",
     "output_type": "stream",
     "text": [
      "<ipython-input-46-78669812e1f9>:8: DeprecationWarning: `np.bool` is a deprecated alias for the builtin `bool`. To silence this warning, use `bool` by itself. Doing this will not modify any behavior and is safe. If you specifically wanted the numpy scalar type, use `np.bool_` here.\n",
      "Deprecated in NumPy 1.20; for more details and guidance: https://numpy.org/devdocs/release/1.20.0-notes.html#deprecations\n",
      "  mask = np.zeros_like(corr_3, dtype=np.bool)\n"
     ]
    }
   ],
   "source": [
    "scores_3 = pd.DataFrame({\n",
    "    \"lgbm\": lgbm_oof_preds,\n",
    "    \"xgb\": xgb_oof_preds,\n",
    "    \"cb\": cb_oof_preds,\n",
    "})\n",
    "\n",
    "corr_3 = scores_3.corr()\n",
    "mask = np.zeros_like(corr_3, dtype=np.bool)\n",
    "mask[np.triu_indices_from(mask)] = True"
   ]
  },
  {
   "cell_type": "code",
   "execution_count": 47,
   "id": "a17788a8",
   "metadata": {},
   "outputs": [
    {
     "data": {
      "text/plain": [
       "<AxesSubplot:>"
      ]
     },
     "execution_count": 47,
     "metadata": {},
     "output_type": "execute_result"
    },
    {
     "data": {
      "image/png": "[encoded data removed]",
      "text/plain": [
       "<Figure size 576x576 with 2 Axes>"
      ]
     },
     "metadata": {
      "needs_background": "light"
     },
     "output_type": "display_data"
    }
   ],
   "source": [
    "fig, axes = plt.subplots(1, 1, figsize=(8, 8))\n",
    "sns.heatmap(corr_3, mask=mask, annot=True, fmt=\".4g\", square=True, cmap=\"viridis\", ax=axes)"
   ]
  },
  {
   "cell_type": "markdown",
   "id": "ac0fe35d",
   "metadata": {},
   "source": [
    "### Test Correlation"
   ]
  },
  {
   "cell_type": "code",
   "execution_count": 44,
   "id": "6be23814",
   "metadata": {},
   "outputs": [],
   "source": [
    "cb_y_pred  = predict_by_estimators(test_encode, cb_estimators)"
   ]
  },
  {
   "cell_type": "code",
   "execution_count": 45,
   "id": "67ea6e53",
   "metadata": {},
   "outputs": [
    {
     "name": "stderr",
     "output_type": "stream",
     "text": [
      "<ipython-input-45-8ba3ae7b8914>:8: DeprecationWarning: `np.bool` is a deprecated alias for the builtin `bool`. To silence this warning, use `bool` by itself. Doing this will not modify any behavior and is safe. If you specifically wanted the numpy scalar type, use `np.bool_` here.\n",
      "Deprecated in NumPy 1.20; for more details and guidance: https://numpy.org/devdocs/release/1.20.0-notes.html#deprecations\n",
      "  mask = np.zeros_like(corr_test_3, dtype=np.bool)\n"
     ]
    }
   ],
   "source": [
    "scores_test_3 = pd.DataFrame({\n",
    "    \"lgbm\": lgbm_y_pred[\"TARGET\"],\n",
    "    \"xgb\": xgb_y_pred[\"TARGET\"],\n",
    "    \"cb\": cb_y_pred[\"TARGET\"],\n",
    "})\n",
    "\n",
    "corr_test_3 = scores_test_3.corr()\n",
    "mask = np.zeros_like(corr_test_3, dtype=np.bool)\n",
    "mask[np.triu_indices_from(mask)] = True"
   ]
  },
  {
   "cell_type": "code",
   "execution_count": 48,
   "id": "bedd8f7c",
   "metadata": {},
   "outputs": [
    {
     "data": {
      "text/plain": [
       "<AxesSubplot:>"
      ]
     },
     "execution_count": 48,
     "metadata": {},
     "output_type": "execute_result"
    },
    {
     "data": {
      "image/png": "[encoded data removed]",
      "text/plain": [
       "<Figure size 576x576 with 2 Axes>"
      ]
     },
     "metadata": {
      "needs_background": "light"
     },
     "output_type": "display_data"
    }
   ],
   "source": [
    "fig, axes = plt.subplots(1, 1, figsize=(8, 8))\n",
    "sns.heatmap(corr_test_3, mask=mask, annot=True, fmt=\".4g\", square=True, cmap=\"viridis\", ax=axes)"
   ]
  },
  {
   "cell_type": "markdown",
   "id": "f0316c8c",
   "metadata": {},
   "source": [
    "**Вывод**\n",
    "* Наблюдается высокая корреляция между рассматриваемыми тремя моделями, что свидетельствует о схожей предсказательной силе.\n",
    "* Корреляция между моделями на тестовой выборке выше, чем на обучающей выборке"
   ]
  },
  {
   "cell_type": "markdown",
   "id": "a8f462d9",
   "metadata": {},
   "source": [
    "### Catboost с категориальными признаками"
   ]
  },
  {
   "cell_type": "code",
   "execution_count": 35,
   "id": "42e48f86",
   "metadata": {},
   "outputs": [
    {
     "name": "stdout",
     "output_type": "stream",
     "text": [
      "Sun Oct 31 20:24:22 2021, Cross-Validation, 110093 rows, 57 cols\n",
      "0:\ttest: 0.6750450\ttest1: 0.6725448\tbest: 0.6725448 (0)\ttotal: 222ms\tremaining: 7m 22s\n",
      "50:\ttest: 0.7075599\ttest1: 0.7019942\tbest: 0.7019942 (50)\ttotal: 9.76s\tremaining: 6m 12s\n",
      "100:\ttest: 0.7098210\ttest1: 0.7039208\tbest: 0.7041863 (83)\ttotal: 19.5s\tremaining: 6m 7s\n",
      "150:\ttest: 0.7123233\ttest1: 0.7059732\tbest: 0.7059778 (145)\ttotal: 29.2s\tremaining: 5m 57s\n",
      "200:\ttest: 0.7166612\ttest1: 0.7099389\tbest: 0.7099966 (199)\ttotal: 38.7s\tremaining: 5m 46s\n",
      "250:\ttest: 0.7199851\ttest1: 0.7118843\tbest: 0.7119478 (247)\ttotal: 48.9s\tremaining: 5m 40s\n",
      "300:\ttest: 0.7232534\ttest1: 0.7142375\tbest: 0.7142375 (300)\ttotal: 58.7s\tremaining: 5m 31s\n",
      "350:\ttest: 0.7255715\ttest1: 0.7149236\tbest: 0.7149624 (348)\ttotal: 1m 8s\tremaining: 5m 20s\n",
      "400:\ttest: 0.7279732\ttest1: 0.7170524\tbest: 0.7170524 (400)\ttotal: 1m 17s\tremaining: 5m 8s\n",
      "450:\ttest: 0.7302781\ttest1: 0.7183522\tbest: 0.7184663 (445)\ttotal: 1m 26s\tremaining: 4m 57s\n",
      "500:\ttest: 0.7323640\ttest1: 0.7190441\tbest: 0.7191060 (499)\ttotal: 1m 35s\tremaining: 4m 46s\n",
      "550:\ttest: 0.7344331\ttest1: 0.7196334\tbest: 0.7196958 (539)\ttotal: 1m 44s\tremaining: 4m 36s\n",
      "600:\ttest: 0.7359936\ttest1: 0.7202071\tbest: 0.7203982 (590)\ttotal: 1m 54s\tremaining: 4m 25s\n",
      "650:\ttest: 0.7375004\ttest1: 0.7205592\tbest: 0.7208099 (636)\ttotal: 2m 3s\tremaining: 4m 15s\n",
      "700:\ttest: 0.7386079\ttest1: 0.7210355\tbest: 0.7210355 (700)\ttotal: 2m 12s\tremaining: 4m 4s\n",
      "750:\ttest: 0.7400785\ttest1: 0.7214327\tbest: 0.7214327 (750)\ttotal: 2m 21s\tremaining: 3m 54s\n",
      "800:\ttest: 0.7415788\ttest1: 0.7214507\tbest: 0.7216626 (778)\ttotal: 2m 30s\tremaining: 3m 44s\n",
      "850:\ttest: 0.7426611\ttest1: 0.7220813\tbest: 0.7220902 (845)\ttotal: 2m 38s\tremaining: 3m 34s\n",
      "900:\ttest: 0.7438995\ttest1: 0.7227177\tbest: 0.7227366 (898)\ttotal: 2m 47s\tremaining: 3m 24s\n",
      "950:\ttest: 0.7449963\ttest1: 0.7228226\tbest: 0.7228702 (914)\ttotal: 2m 56s\tremaining: 3m 14s\n",
      "Stopped by overfitting detector  (50 iterations wait)\n",
      "\n",
      "bestTest = 0.7228702326\n",
      "bestIteration = 914\n",
      "\n",
      "Shrink model to first 915 iterations.\n",
      "Fold 1, Valid score = 0.72287\n",
      "0:\ttest: 0.6787931\ttest1: 0.6771362\tbest: 0.6771362 (0)\ttotal: 202ms\tremaining: 6m 44s\n",
      "50:\ttest: 0.7056507\ttest1: 0.7051613\tbest: 0.7054572 (47)\ttotal: 9.38s\tremaining: 5m 58s\n",
      "100:\ttest: 0.7073739\ttest1: 0.7072131\tbest: 0.7073075 (99)\ttotal: 18.3s\tremaining: 5m 44s\n",
      "150:\ttest: 0.7097348\ttest1: 0.7088391\tbest: 0.7089673 (146)\ttotal: 27.5s\tremaining: 5m 36s\n",
      "200:\ttest: 0.7141807\ttest1: 0.7125603\tbest: 0.7125603 (200)\ttotal: 36.6s\tremaining: 5m 27s\n",
      "250:\ttest: 0.7175276\ttest1: 0.7152374\tbest: 0.7152853 (247)\ttotal: 45.6s\tremaining: 5m 17s\n",
      "300:\ttest: 0.7204822\ttest1: 0.7173135\tbest: 0.7173135 (300)\ttotal: 55s\tremaining: 5m 10s\n",
      "350:\ttest: 0.7235060\ttest1: 0.7185108\tbest: 0.7186495 (349)\ttotal: 1m 4s\tremaining: 5m 2s\n",
      "400:\ttest: 0.7264415\ttest1: 0.7202824\tbest: 0.7202824 (400)\ttotal: 1m 13s\tremaining: 4m 54s\n",
      "450:\ttest: 0.7292450\ttest1: 0.7219372\tbest: 0.7219372 (450)\ttotal: 1m 23s\tremaining: 4m 45s\n",
      "500:\ttest: 0.7310618\ttest1: 0.7224541\tbest: 0.7225294 (492)\ttotal: 1m 32s\tremaining: 4m 36s\n",
      "550:\ttest: 0.7324944\ttest1: 0.7234406\tbest: 0.7235011 (547)\ttotal: 1m 41s\tremaining: 4m 26s\n",
      "600:\ttest: 0.7342187\ttest1: 0.7238817\tbest: 0.7239946 (591)\ttotal: 1m 50s\tremaining: 4m 17s\n",
      "650:\ttest: 0.7357558\ttest1: 0.7245308\tbest: 0.7247220 (649)\ttotal: 1m 59s\tremaining: 4m 7s\n",
      "700:\ttest: 0.7373856\ttest1: 0.7251029\tbest: 0.7251029 (700)\ttotal: 2m 8s\tremaining: 3m 58s\n",
      "750:\ttest: 0.7386647\ttest1: 0.7253558\tbest: 0.7253934 (746)\ttotal: 2m 17s\tremaining: 3m 49s\n",
      "800:\ttest: 0.7401749\ttest1: 0.7251697\tbest: 0.7254202 (777)\ttotal: 2m 26s\tremaining: 3m 39s\n",
      "850:\ttest: 0.7412516\ttest1: 0.7256037\tbest: 0.7256387 (838)\ttotal: 2m 36s\tremaining: 3m 30s\n",
      "900:\ttest: 0.7422514\ttest1: 0.7258830\tbest: 0.7259620 (882)\ttotal: 2m 45s\tremaining: 3m 22s\n",
      "950:\ttest: 0.7431766\ttest1: 0.7261970\tbest: 0.7261970 (950)\ttotal: 2m 55s\tremaining: 3m 13s\n",
      "1000:\ttest: 0.7443747\ttest1: 0.7264216\tbest: 0.7264754 (994)\ttotal: 3m 4s\tremaining: 3m 4s\n",
      "1050:\ttest: 0.7454074\ttest1: 0.7264936\tbest: 0.7266906 (1026)\ttotal: 3m 14s\tremaining: 2m 55s\n",
      "1100:\ttest: 0.7466317\ttest1: 0.7266710\tbest: 0.7268548 (1094)\ttotal: 3m 23s\tremaining: 2m 46s\n",
      "1150:\ttest: 0.7476276\ttest1: 0.7270142\tbest: 0.7270142 (1150)\ttotal: 3m 32s\tremaining: 2m 37s\n",
      "1200:\ttest: 0.7488216\ttest1: 0.7272356\tbest: 0.7273261 (1195)\ttotal: 3m 42s\tremaining: 2m 27s\n",
      "1250:\ttest: 0.7499662\ttest1: 0.7271150\tbest: 0.7273782 (1227)\ttotal: 3m 51s\tremaining: 2m 18s\n",
      "Stopped by overfitting detector  (50 iterations wait)\n",
      "\n",
      "bestTest = 0.7273782226\n",
      "bestIteration = 1227\n",
      "\n",
      "Shrink model to first 1228 iterations.\n",
      "Fold 2, Valid score = 0.72738\n",
      "0:\ttest: 0.6762590\ttest1: 0.6733358\tbest: 0.6733358 (0)\ttotal: 212ms\tremaining: 7m 3s\n",
      "50:\ttest: 0.7057352\ttest1: 0.7061455\tbest: 0.7071781 (42)\ttotal: 9.41s\tremaining: 5m 59s\n",
      "100:\ttest: 0.7076547\ttest1: 0.7083568\tbest: 0.7084487 (95)\ttotal: 18.5s\tremaining: 5m 47s\n",
      "150:\ttest: 0.7105945\ttest1: 0.7108077\tbest: 0.7108077 (150)\ttotal: 27.8s\tremaining: 5m 40s\n",
      "200:\ttest: 0.7142623\ttest1: 0.7148061\tbest: 0.7148816 (199)\ttotal: 36.9s\tremaining: 5m 30s\n",
      "250:\ttest: 0.7171332\ttest1: 0.7173265\tbest: 0.7173265 (250)\ttotal: 45.9s\tremaining: 5m 19s\n",
      "300:\ttest: 0.7203172\ttest1: 0.7201373\tbest: 0.7201373 (300)\ttotal: 54.9s\tremaining: 5m 10s\n",
      "350:\ttest: 0.7226054\ttest1: 0.7218734\tbest: 0.7218734 (350)\ttotal: 1m 4s\tremaining: 5m 1s\n",
      "400:\ttest: 0.7256622\ttest1: 0.7244508\tbest: 0.7245221 (399)\ttotal: 1m 13s\tremaining: 4m 54s\n",
      "450:\ttest: 0.7277982\ttest1: 0.7256478\tbest: 0.7256562 (449)\ttotal: 1m 23s\tremaining: 4m 46s\n",
      "500:\ttest: 0.7298159\ttest1: 0.7264023\tbest: 0.7265509 (492)\ttotal: 1m 33s\tremaining: 4m 40s\n",
      "550:\ttest: 0.7314344\ttest1: 0.7275543\tbest: 0.7275543 (550)\ttotal: 1m 44s\tremaining: 4m 33s\n",
      "600:\ttest: 0.7333276\ttest1: 0.7285717\tbest: 0.7285717 (600)\ttotal: 1m 54s\tremaining: 4m 25s\n",
      "650:\ttest: 0.7344794\ttest1: 0.7291404\tbest: 0.7291416 (649)\ttotal: 2m 3s\tremaining: 4m 16s\n",
      "700:\ttest: 0.7357766\ttest1: 0.7293190\tbest: 0.7294665 (675)\ttotal: 2m 12s\tremaining: 4m 5s\n",
      "Stopped by overfitting detector  (50 iterations wait)\n",
      "\n",
      "bestTest = 0.7294665176\n",
      "bestIteration = 675\n",
      "\n",
      "Shrink model to first 676 iterations.\n",
      "Fold 3, Valid score = 0.72947\n",
      "0:\ttest: 0.6284273\ttest1: 0.6247425\tbest: 0.6247425 (0)\ttotal: 187ms\tremaining: 6m 14s\n",
      "50:\ttest: 0.7076429\ttest1: 0.7043497\tbest: 0.7043497 (50)\ttotal: 10.2s\tremaining: 6m 29s\n",
      "100:\ttest: 0.7101255\ttest1: 0.7054206\tbest: 0.7054843 (99)\ttotal: 20.1s\tremaining: 6m 18s\n",
      "150:\ttest: 0.7123041\ttest1: 0.7055592\tbest: 0.7056296 (137)\ttotal: 29.6s\tremaining: 6m 2s\n",
      "200:\ttest: 0.7162276\ttest1: 0.7074879\tbest: 0.7077108 (197)\ttotal: 39.1s\tremaining: 5m 50s\n",
      "250:\ttest: 0.7192356\ttest1: 0.7090901\tbest: 0.7090901 (250)\ttotal: 48.3s\tremaining: 5m 36s\n",
      "300:\ttest: 0.7224811\ttest1: 0.7103368\tbest: 0.7103826 (298)\ttotal: 57.3s\tremaining: 5m 23s\n",
      "350:\ttest: 0.7258049\ttest1: 0.7122470\tbest: 0.7123368 (348)\ttotal: 1m 6s\tremaining: 5m 13s\n",
      "400:\ttest: 0.7283415\ttest1: 0.7138957\tbest: 0.7138957 (400)\ttotal: 1m 16s\tremaining: 5m 3s\n",
      "450:\ttest: 0.7303224\ttest1: 0.7149610\tbest: 0.7149730 (447)\ttotal: 1m 25s\tremaining: 4m 55s\n",
      "500:\ttest: 0.7320983\ttest1: 0.7164134\tbest: 0.7164134 (500)\ttotal: 1m 35s\tremaining: 4m 46s\n",
      "550:\ttest: 0.7336122\ttest1: 0.7170790\tbest: 0.7172837 (545)\ttotal: 1m 45s\tremaining: 4m 38s\n",
      "600:\ttest: 0.7352223\ttest1: 0.7175765\tbest: 0.7175765 (600)\ttotal: 1m 57s\tremaining: 4m 33s\n",
      "650:\ttest: 0.7368947\ttest1: 0.7183942\tbest: 0.7185299 (649)\ttotal: 2m 10s\tremaining: 4m 31s\n",
      "700:\ttest: 0.7383259\ttest1: 0.7189046\tbest: 0.7190088 (698)\ttotal: 2m 24s\tremaining: 4m 27s\n",
      "750:\ttest: 0.7393792\ttest1: 0.7194465\tbest: 0.7194465 (750)\ttotal: 2m 37s\tremaining: 4m 21s\n",
      "800:\ttest: 0.7407264\ttest1: 0.7195336\tbest: 0.7195498 (770)\ttotal: 2m 50s\tremaining: 4m 15s\n",
      "850:\ttest: 0.7418496\ttest1: 0.7198969\tbest: 0.7199075 (847)\ttotal: 3m 3s\tremaining: 4m 7s\n",
      "900:\ttest: 0.7429783\ttest1: 0.7202015\tbest: 0.7202762 (899)\ttotal: 3m 16s\tremaining: 3m 59s\n",
      "950:\ttest: 0.7438954\ttest1: 0.7202940\tbest: 0.7205059 (928)\ttotal: 3m 29s\tremaining: 3m 50s\n",
      "Stopped by overfitting detector  (50 iterations wait)\n",
      "\n",
      "bestTest = 0.7205059077\n",
      "bestIteration = 928\n",
      "\n",
      "Shrink model to first 929 iterations.\n",
      "Fold 4, Valid score = 0.72051\n",
      "0:\ttest: 0.6528386\ttest1: 0.6489850\tbest: 0.6489850 (0)\ttotal: 299ms\tremaining: 9m 58s\n"
     ]
    },
    {
     "name": "stdout",
     "output_type": "stream",
     "text": [
      "50:\ttest: 0.7064700\ttest1: 0.7010255\tbest: 0.7010255 (50)\ttotal: 13.7s\tremaining: 8m 41s\n",
      "100:\ttest: 0.7089789\ttest1: 0.7044224\tbest: 0.7045582 (99)\ttotal: 27.3s\tremaining: 8m 33s\n",
      "150:\ttest: 0.7109562\ttest1: 0.7061083\tbest: 0.7061083 (150)\ttotal: 40.9s\tremaining: 8m 20s\n",
      "200:\ttest: 0.7150975\ttest1: 0.7090696\tbest: 0.7091310 (198)\ttotal: 54.4s\tremaining: 8m 6s\n",
      "250:\ttest: 0.7183822\ttest1: 0.7120193\tbest: 0.7120624 (247)\ttotal: 1m 8s\tremaining: 7m 55s\n",
      "300:\ttest: 0.7214079\ttest1: 0.7143127\tbest: 0.7143231 (299)\ttotal: 1m 21s\tremaining: 7m 42s\n",
      "350:\ttest: 0.7239763\ttest1: 0.7160389\tbest: 0.7160389 (350)\ttotal: 1m 35s\tremaining: 7m 29s\n",
      "400:\ttest: 0.7265081\ttest1: 0.7180159\tbest: 0.7180159 (400)\ttotal: 1m 49s\tremaining: 7m 17s\n",
      "450:\ttest: 0.7289416\ttest1: 0.7194632\tbest: 0.7194826 (449)\ttotal: 2m 2s\tremaining: 7m 2s\n",
      "500:\ttest: 0.7310990\ttest1: 0.7203631\tbest: 0.7203709 (498)\ttotal: 2m 12s\tremaining: 6m 36s\n",
      "550:\ttest: 0.7326683\ttest1: 0.7206529\tbest: 0.7206743 (549)\ttotal: 2m 22s\tremaining: 6m 13s\n",
      "600:\ttest: 0.7342364\ttest1: 0.7216066\tbest: 0.7216089 (598)\ttotal: 2m 31s\tremaining: 5m 52s\n",
      "650:\ttest: 0.7358456\ttest1: 0.7222136\tbest: 0.7222136 (650)\ttotal: 2m 40s\tremaining: 5m 33s\n",
      "700:\ttest: 0.7370582\ttest1: 0.7225199\tbest: 0.7225199 (700)\ttotal: 2m 50s\tremaining: 5m 15s\n",
      "750:\ttest: 0.7382914\ttest1: 0.7226385\tbest: 0.7227530 (740)\ttotal: 2m 59s\tremaining: 4m 59s\n",
      "800:\ttest: 0.7395034\ttest1: 0.7231087\tbest: 0.7232379 (785)\ttotal: 3m 9s\tremaining: 4m 43s\n",
      "850:\ttest: 0.7407441\ttest1: 0.7233978\tbest: 0.7234371 (839)\ttotal: 3m 18s\tremaining: 4m 28s\n",
      "900:\ttest: 0.7420032\ttest1: 0.7237061\tbest: 0.7237735 (895)\ttotal: 3m 28s\tremaining: 4m 13s\n",
      "950:\ttest: 0.7429327\ttest1: 0.7240678\tbest: 0.7241838 (942)\ttotal: 3m 37s\tremaining: 3m 59s\n",
      "1000:\ttest: 0.7438873\ttest1: 0.7240155\tbest: 0.7242728 (986)\ttotal: 3m 46s\tremaining: 3m 45s\n",
      "1050:\ttest: 0.7450704\ttest1: 0.7244539\tbest: 0.7245053 (1043)\ttotal: 3m 55s\tremaining: 3m 32s\n",
      "1100:\ttest: 0.7460319\ttest1: 0.7243342\tbest: 0.7245231 (1078)\ttotal: 4m 5s\tremaining: 3m 20s\n",
      "1150:\ttest: 0.7470934\ttest1: 0.7248313\tbest: 0.7248739 (1143)\ttotal: 4m 14s\tremaining: 3m 7s\n",
      "1200:\ttest: 0.7479979\ttest1: 0.7249022\tbest: 0.7251639 (1187)\ttotal: 4m 23s\tremaining: 2m 55s\n",
      "Stopped by overfitting detector  (50 iterations wait)\n",
      "\n",
      "bestTest = 0.7251639177\n",
      "bestIteration = 1187\n",
      "\n",
      "Shrink model to first 1188 iterations.\n",
      "Fold 5, Valid score = 0.72516\n",
      "Score by each fold: [0.72287, 0.72738, 0.72947, 0.72051, 0.72516]\n",
      "=================================================================\n",
      "Wall time: 17min 29s\n"
     ]
    }
   ],
   "source": [
    "%%time\n",
    "\n",
    "# Кросс-валидация\n",
    "\n",
    "cb_cat_estimators, cb_cat_oof_preds = catboost_cross_validation(\n",
    "    params=cb_params, X=train, y=target, cv=cv, categorical=CAT_FEATS\n",
    ")"
   ]
  },
  {
   "cell_type": "code",
   "execution_count": 36,
   "id": "cb4a0dda",
   "metadata": {},
   "outputs": [
    {
     "name": "stdout",
     "output_type": "stream",
     "text": [
      "OOF-score = 0.72417\n"
     ]
    }
   ],
   "source": [
    "cb_cat_oof_score = roc_auc_score(\n",
    "    target, cb_cat_oof_preds\n",
    ")\n",
    "print(f\"OOF-score = {round(cb_cat_oof_score, 5)}\")\n",
    "# OOF-score = 0.72417"
   ]
  },
  {
   "cell_type": "markdown",
   "id": "14def64b",
   "metadata": {},
   "source": [
    "### Prediction Correlation"
   ]
  },
  {
   "cell_type": "code",
   "execution_count": 37,
   "id": "9874806f",
   "metadata": {},
   "outputs": [
    {
     "name": "stderr",
     "output_type": "stream",
     "text": [
      "<ipython-input-37-623c950fa4e3>:9: DeprecationWarning: `np.bool` is a deprecated alias for the builtin `bool`. To silence this warning, use `bool` by itself. Doing this will not modify any behavior and is safe. If you specifically wanted the numpy scalar type, use `np.bool_` here.\n",
      "Deprecated in NumPy 1.20; for more details and guidance: https://numpy.org/devdocs/release/1.20.0-notes.html#deprecations\n",
      "  mask = np.zeros_like(corr_4, dtype=np.bool)\n"
     ]
    }
   ],
   "source": [
    "scores_4 = pd.DataFrame({\n",
    "    \"lgbm\": lgbm_oof_preds,\n",
    "    \"xgb\": xgb_oof_preds,\n",
    "    \"cb\": cb_oof_preds,\n",
    "    \"cb_cat\": cb_cat_oof_preds,\n",
    "})\n",
    "\n",
    "corr_4 = scores_4.corr()\n",
    "mask = np.zeros_like(corr_4, dtype=np.bool)\n",
    "mask[np.triu_indices_from(mask)] = True"
   ]
  },
  {
   "cell_type": "code",
   "execution_count": 38,
   "id": "41fbbd1a",
   "metadata": {},
   "outputs": [
    {
     "data": {
      "text/plain": [
       "<AxesSubplot:>"
      ]
     },
     "execution_count": 38,
     "metadata": {},
     "output_type": "execute_result"
    },
    {
     "data": {
      "image/png": "[encoded data removed]",
      "text/plain": [
       "<Figure size 576x576 with 2 Axes>"
      ]
     },
     "metadata": {
      "needs_background": "light"
     },
     "output_type": "display_data"
    }
   ],
   "source": [
    "fig, axes = plt.subplots(1, 1, figsize=(8, 8))\n",
    "sns.heatmap(corr_4, mask=mask, annot=True, fmt=\".4g\", square=True, cmap=\"viridis\", ax=axes)"
   ]
  },
  {
   "cell_type": "code",
   "execution_count": 39,
   "id": "e21b9b50",
   "metadata": {},
   "outputs": [],
   "source": [
    "# Прогнозные значения Catboost с категриальными признаками\n",
    "cb_cat_y_pred  = predict_by_estimators(test_encode, cb_cat_estimators)"
   ]
  },
  {
   "cell_type": "markdown",
   "id": "90954f81",
   "metadata": {},
   "source": [
    "### Test Correlation"
   ]
  },
  {
   "cell_type": "code",
   "execution_count": 49,
   "id": "b95661ac",
   "metadata": {},
   "outputs": [
    {
     "name": "stderr",
     "output_type": "stream",
     "text": [
      "<ipython-input-49-aa7ae6e5f530>:9: DeprecationWarning: `np.bool` is a deprecated alias for the builtin `bool`. To silence this warning, use `bool` by itself. Doing this will not modify any behavior and is safe. If you specifically wanted the numpy scalar type, use `np.bool_` here.\n",
      "Deprecated in NumPy 1.20; for more details and guidance: https://numpy.org/devdocs/release/1.20.0-notes.html#deprecations\n",
      "  mask = np.zeros_like(corr_test_4, dtype=np.bool)\n"
     ]
    }
   ],
   "source": [
    "scores_test_4 = pd.DataFrame({\n",
    "    \"lgbm\": lgbm_y_pred[\"TARGET\"],\n",
    "    \"xgb\": xgb_y_pred[\"TARGET\"],\n",
    "    \"cb\": cb_y_pred[\"TARGET\"],\n",
    "    \"cb_cat\": cb_cat_y_pred[\"TARGET\"],\n",
    "})\n",
    "\n",
    "corr_test_4 = scores_test_4.corr()\n",
    "mask = np.zeros_like(corr_test_4, dtype=np.bool)\n",
    "mask[np.triu_indices_from(mask)] = True"
   ]
  },
  {
   "cell_type": "code",
   "execution_count": 50,
   "id": "dbbe3eda",
   "metadata": {},
   "outputs": [
    {
     "data": {
      "text/plain": [
       "<AxesSubplot:>"
      ]
     },
     "execution_count": 50,
     "metadata": {},
     "output_type": "execute_result"
    },
    {
     "data": {
      "image/png": "[encoded data removed]",
      "text/plain": [
       "<Figure size 576x576 with 2 Axes>"
      ]
     },
     "metadata": {
      "needs_background": "light"
     },
     "output_type": "display_data"
    }
   ],
   "source": [
    "fig, axes = plt.subplots(1, 1, figsize=(8, 8))\n",
    "sns.heatmap(corr_test_4, mask=mask, annot=True, fmt=\".4g\", square=True, cmap=\"viridis\", ax=axes)"
   ]
  },
  {
   "cell_type": "markdown",
   "id": "7ddc693e",
   "metadata": {},
   "source": [
    "Наблюдается высокая корреляция между рассматриваемыми несколькими моделями, что свидетельствует о схожей предсказательной силе.\n",
    "\n",
    "Корреляция между моделями на тестовой выборке выше, чем на обучающей выборке."
   ]
  },
  {
   "cell_type": "markdown",
   "id": "44904c79",
   "metadata": {},
   "source": [
    "## Задание 4\n",
    "Выполнить задание 2 для трех моделей."
   ]
  },
  {
   "cell_type": "code",
   "execution_count": 51,
   "id": "d7664db3",
   "metadata": {},
   "outputs": [
    {
     "name": "stdout",
     "output_type": "stream",
     "text": [
      "AMean Score = 0.72642\n",
      "GMean Score = 0.72644\n",
      "Rankdata Score = 0.72638\n",
      "GMean Rankdata Score = 0.72637\n"
     ]
    }
   ],
   "source": [
    "scores_amean = scores_3.mean(axis=1)\n",
    "auc_amean = roc_auc_score(target, scores_amean)\n",
    "print(f\"AMean Score = {round(auc_amean, 5)}\")\n",
    "\n",
    "scores_gmean = gmean(scores_3, axis=1)\n",
    "auc_gmean = roc_auc_score(target, scores_gmean)\n",
    "print(f\"GMean Score = {round(auc_gmean, 5)}\")\n",
    "\n",
    "scores_rankdata = scores_3.rank().mean(axis=1)\n",
    "auc_rankdata = roc_auc_score(target, scores_rankdata)\n",
    "print(f\"Rankdata Score = {round(auc_rankdata, 5)}\")\n",
    "\n",
    "scores_gmean_rankdata = gmean(scores_3.rank(), axis=1)\n",
    "auc_gmean_rankdata = roc_auc_score(target, scores_gmean_rankdata)\n",
    "print(f\"GMean Rankdata Score = {round(auc_gmean_rankdata, 5)}\")"
   ]
  },
  {
   "cell_type": "code",
   "execution_count": 52,
   "id": "f7e0c8f3",
   "metadata": {},
   "outputs": [
    {
     "name": "stdout",
     "output_type": "stream",
     "text": [
      "AMean Score = 0.72644\n",
      "GMean Score = 0.72646\n",
      "Rankdata Score = 0.72629\n",
      "GMean Rankdata Score = 0.72635\n"
     ]
    }
   ],
   "source": [
    "scores_amean = scores_4.mean(axis=1)\n",
    "auc_amean = roc_auc_score(target, scores_amean)\n",
    "print(f\"AMean Score = {round(auc_amean, 5)}\")\n",
    "\n",
    "scores_gmean = gmean(scores_4, axis=1)\n",
    "auc_gmean = roc_auc_score(target, scores_gmean)\n",
    "print(f\"GMean Score = {round(auc_gmean, 5)}\")\n",
    "\n",
    "scores_rankdata = scores_4.rank().mean(axis=1)\n",
    "auc_rankdata = roc_auc_score(target, scores_rankdata)\n",
    "print(f\"Rankdata Score = {round(auc_rankdata, 5)}\")\n",
    "\n",
    "scores_gmean_rankdata = gmean(scores_4.rank(), axis=1)\n",
    "auc_gmean_rankdata = roc_auc_score(target, scores_gmean_rankdata)\n",
    "print(f\"GMean Rankdata Score = {round(auc_gmean_rankdata, 5)}\")"
   ]
  },
  {
   "cell_type": "markdown",
   "id": "b5ef0ecb",
   "metadata": {},
   "source": [
    "**Вывод**\n",
    "* Качество на одиночных моделях составляет: LightGBM - 0.72286, XGBoost - 0.72668, Catboost - 0.724, Catboost с категориальными признаками - 0.72417.\n",
    "* Качество усредненных прогнозов по **трем моделям** AMean - 0.72642, GMean - 0.72644, Rankdata - 0.72638, GMean Rankdata - 0.72637\n",
    "* Усредненные прогнозы по трем моделям имеют незначительные различия качества метрики. \n",
    "* Качество одиночной модели XGBoost немного выше качества метрики усредненных прогнозов по трем моделям. \n",
    "* Качество усредненных прогнозов по трем моделям выше качества усредненных прогнозов по двум моделям.\n",
    "\n",
    "* Качество усредненных прогнозов по **четырем моделям** AMean - 0.72644, GMean - 0.72646, Rankdata - 0.72629, GMean Rankdata - 0.72635. Арифметическое среднее и геометрическое среднее по четырем моделям выше, чем по трем моделям, а средние Rankdata - ниже."
   ]
  },
  {
   "cell_type": "markdown",
   "id": "1dc5fe19",
   "metadata": {},
   "source": [
    "## Задание 5. (опция)\n",
    "Объединить OOF-прогнозы для трех моделей и обучить алгоритм Логистической регрессии (и любой другой, на ваше усмотрение). Сделать выводы о достигаемом качестве, сравнить достигаемое качество с качеством отдельных моделей и моделей, полученных в п.2 и п.4.¶"
   ]
  },
  {
   "cell_type": "code",
   "execution_count": 53,
   "id": "154a687c",
   "metadata": {},
   "outputs": [],
   "source": [
    "from sklearn.linear_model import LogisticRegression"
   ]
  },
  {
   "cell_type": "code",
   "execution_count": 54,
   "id": "6e7bf4fa",
   "metadata": {},
   "outputs": [],
   "source": [
    "def lr_cross_validation(model, X, y, cv):\n",
    "    \"\"\"\n",
    "    Кросс-валидация для логистической регрессии.\n",
    "\n",
    "    \"\"\"\n",
    "      \n",
    "    estimators, folds_scores = [], []\n",
    "    oof_preds = np.zeros(X.shape[0])\n",
    "\n",
    "    print(f\"{time.ctime()}, Cross-Validation, {X.shape[0]} rows, {X.shape[1]} cols\")\n",
    "\n",
    "    X = X.fillna(-1)\n",
    "    for fold, (train_idx, valid_idx) in enumerate(cv.split(X, y)):\n",
    "        x_train, x_valid = X.loc[train_idx], X.loc[valid_idx]\n",
    "        y_train, y_valid = y[train_idx], y[valid_idx]\n",
    "        \n",
    " \n",
    "        model.fit(X=x_train, y=y_train)\n",
    "    \n",
    "        oof_preds[valid_idx] = model.predict_proba(x_valid)[:, 1]\n",
    "        score = roc_auc_score(y_valid, oof_preds[valid_idx])\n",
    "        print(f\"Fold {fold+1}, Valid score = {round(score, 5)}\")\n",
    "        folds_scores.append(round(score, 5))\n",
    "        estimators.append(model)\n",
    "               \n",
    "            \n",
    "    print(f\"Score by each fold: {folds_scores}\")\n",
    "    print(\"=\"*65)\n",
    "    return estimators, oof_preds"
   ]
  },
  {
   "cell_type": "markdown",
   "id": "09ced956",
   "metadata": {},
   "source": [
    "### Логистическая регрессия на объединенных OOF-прогнозах 3-х моделей"
   ]
  },
  {
   "cell_type": "code",
   "execution_count": 55,
   "id": "fdd39fdd",
   "metadata": {},
   "outputs": [],
   "source": [
    "train_oof_preds = pd.DataFrame(np.vstack((lgbm_oof_preds, xgb_oof_preds, cb_oof_preds, cb_cat_oof_preds)).T,\n",
    "                                columns=['lgbm', 'xgb', 'cb', 'cb_cat'])"
   ]
  },
  {
   "cell_type": "code",
   "execution_count": 56,
   "id": "6c20ac44",
   "metadata": {},
   "outputs": [
    {
     "data": {
      "text/html": [
       "<div>\n",
       "<style scoped>\n",
       "    .dataframe tbody tr th:only-of-type {\n",
       "        vertical-align: middle;\n",
       "    }\n",
       "\n",
       "    .dataframe tbody tr th {\n",
       "        vertical-align: top;\n",
       "    }\n",
       "\n",
       "    .dataframe thead th {\n",
       "        text-align: right;\n",
       "    }\n",
       "</style>\n",
       "<table border=\"1\" class=\"dataframe\">\n",
       "  <thead>\n",
       "    <tr style=\"text-align: right;\">\n",
       "      <th></th>\n",
       "      <th>lgbm</th>\n",
       "      <th>xgb</th>\n",
       "      <th>cb</th>\n",
       "      <th>cb_cat</th>\n",
       "    </tr>\n",
       "  </thead>\n",
       "  <tbody>\n",
       "    <tr>\n",
       "      <th>0</th>\n",
       "      <td>0.019668</td>\n",
       "      <td>0.018412</td>\n",
       "      <td>0.027537</td>\n",
       "      <td>0.026070</td>\n",
       "    </tr>\n",
       "    <tr>\n",
       "      <th>1</th>\n",
       "      <td>0.085944</td>\n",
       "      <td>0.086530</td>\n",
       "      <td>0.085758</td>\n",
       "      <td>0.085688</td>\n",
       "    </tr>\n",
       "    <tr>\n",
       "      <th>2</th>\n",
       "      <td>0.056040</td>\n",
       "      <td>0.057675</td>\n",
       "      <td>0.058633</td>\n",
       "      <td>0.062634</td>\n",
       "    </tr>\n",
       "    <tr>\n",
       "      <th>3</th>\n",
       "      <td>0.192507</td>\n",
       "      <td>0.160854</td>\n",
       "      <td>0.204327</td>\n",
       "      <td>0.206858</td>\n",
       "    </tr>\n",
       "    <tr>\n",
       "      <th>4</th>\n",
       "      <td>0.082735</td>\n",
       "      <td>0.082997</td>\n",
       "      <td>0.082617</td>\n",
       "      <td>0.082579</td>\n",
       "    </tr>\n",
       "  </tbody>\n",
       "</table>\n",
       "</div>"
      ],
      "text/plain": [
       "       lgbm       xgb        cb    cb_cat\n",
       "0  0.019668  0.018412  0.027537  0.026070\n",
       "1  0.085944  0.086530  0.085758  0.085688\n",
       "2  0.056040  0.057675  0.058633  0.062634\n",
       "3  0.192507  0.160854  0.204327  0.206858\n",
       "4  0.082735  0.082997  0.082617  0.082579"
      ]
     },
     "execution_count": 56,
     "metadata": {},
     "output_type": "execute_result"
    }
   ],
   "source": [
    "train_oof_preds.head()"
   ]
  },
  {
   "cell_type": "code",
   "execution_count": 59,
   "id": "1e1a1d64",
   "metadata": {},
   "outputs": [
    {
     "data": {
      "text/html": [
       "<div>\n",
       "<style scoped>\n",
       "    .dataframe tbody tr th:only-of-type {\n",
       "        vertical-align: middle;\n",
       "    }\n",
       "\n",
       "    .dataframe tbody tr th {\n",
       "        vertical-align: top;\n",
       "    }\n",
       "\n",
       "    .dataframe thead th {\n",
       "        text-align: right;\n",
       "    }\n",
       "</style>\n",
       "<table border=\"1\" class=\"dataframe\">\n",
       "  <thead>\n",
       "    <tr style=\"text-align: right;\">\n",
       "      <th></th>\n",
       "      <th>lgbm</th>\n",
       "      <th>xgb</th>\n",
       "      <th>cb</th>\n",
       "    </tr>\n",
       "  </thead>\n",
       "  <tbody>\n",
       "    <tr>\n",
       "      <th>0</th>\n",
       "      <td>0.019668</td>\n",
       "      <td>0.018412</td>\n",
       "      <td>0.027537</td>\n",
       "    </tr>\n",
       "    <tr>\n",
       "      <th>1</th>\n",
       "      <td>0.085944</td>\n",
       "      <td>0.086530</td>\n",
       "      <td>0.085758</td>\n",
       "    </tr>\n",
       "    <tr>\n",
       "      <th>2</th>\n",
       "      <td>0.056040</td>\n",
       "      <td>0.057675</td>\n",
       "      <td>0.058633</td>\n",
       "    </tr>\n",
       "    <tr>\n",
       "      <th>3</th>\n",
       "      <td>0.192507</td>\n",
       "      <td>0.160854</td>\n",
       "      <td>0.204327</td>\n",
       "    </tr>\n",
       "    <tr>\n",
       "      <th>4</th>\n",
       "      <td>0.082735</td>\n",
       "      <td>0.082997</td>\n",
       "      <td>0.082617</td>\n",
       "    </tr>\n",
       "  </tbody>\n",
       "</table>\n",
       "</div>"
      ],
      "text/plain": [
       "       lgbm       xgb        cb\n",
       "0  0.019668  0.018412  0.027537\n",
       "1  0.085944  0.086530  0.085758\n",
       "2  0.056040  0.057675  0.058633\n",
       "3  0.192507  0.160854  0.204327\n",
       "4  0.082735  0.082997  0.082617"
      ]
     },
     "execution_count": 59,
     "metadata": {},
     "output_type": "execute_result"
    }
   ],
   "source": [
    "train_oof_preds[['lgbm', 'xgb', 'cb']].head()"
   ]
  },
  {
   "cell_type": "code",
   "execution_count": 60,
   "id": "65f86ece",
   "metadata": {},
   "outputs": [
    {
     "name": "stdout",
     "output_type": "stream",
     "text": [
      "Sun Oct 31 20:48:08 2021, Cross-Validation, 110093 rows, 3 cols\n",
      "Fold 1, Valid score = 0.72314\n",
      "Fold 2, Valid score = 0.7281\n",
      "Fold 3, Valid score = 0.73396\n",
      "Fold 4, Valid score = 0.72556\n",
      "Fold 5, Valid score = 0.72903\n",
      "Score by each fold: [0.72314, 0.7281, 0.73396, 0.72556, 0.72903]\n",
      "=================================================================\n"
     ]
    }
   ],
   "source": [
    "lr_clf = LogisticRegression(random_state=seed, solver=\"liblinear\")\n",
    "\n",
    "lr_estimators, lr_oof_preds = lr_cross_validation(model=lr_clf,\n",
    "                                                 X=train_oof_preds[['lgbm', 'xgb', 'cb']],\n",
    "                                                 y=target,\n",
    "                                                 cv=cv\n",
    "                                                 )"
   ]
  },
  {
   "cell_type": "code",
   "execution_count": 61,
   "id": "46428743",
   "metadata": {},
   "outputs": [
    {
     "name": "stdout",
     "output_type": "stream",
     "text": [
      "OOF-score = 0.72678\n"
     ]
    }
   ],
   "source": [
    "lr_oof_score = roc_auc_score(target, lr_oof_preds)\n",
    "print(f\"OOF-score = {round(lr_oof_score, 5)}\")"
   ]
  },
  {
   "cell_type": "markdown",
   "id": "dec51a75",
   "metadata": {},
   "source": [
    "### Логистическая регрессия на объединенных OOF-прогнозах 4-х моделей"
   ]
  },
  {
   "cell_type": "code",
   "execution_count": 62,
   "id": "b6320be3",
   "metadata": {},
   "outputs": [
    {
     "name": "stdout",
     "output_type": "stream",
     "text": [
      "Sun Oct 31 20:48:16 2021, Cross-Validation, 110093 rows, 4 cols\n",
      "Fold 1, Valid score = 0.72312\n",
      "Fold 2, Valid score = 0.72873\n",
      "Fold 3, Valid score = 0.73367\n",
      "Fold 4, Valid score = 0.72537\n",
      "Fold 5, Valid score = 0.7285\n",
      "Score by each fold: [0.72312, 0.72873, 0.73367, 0.72537, 0.7285]\n",
      "=================================================================\n"
     ]
    }
   ],
   "source": [
    "lr_clf = LogisticRegression(random_state=seed, solver=\"liblinear\")\n",
    "\n",
    "lr_estimators, lr_oof_preds = lr_cross_validation(model=lr_clf,\n",
    "                                                 X=train_oof_preds,\n",
    "                                                 y=target,\n",
    "                                                 cv=cv\n",
    "                                                 )"
   ]
  },
  {
   "cell_type": "code",
   "execution_count": 63,
   "id": "a8230d95",
   "metadata": {},
   "outputs": [
    {
     "name": "stdout",
     "output_type": "stream",
     "text": [
      "OOF-score = 0.72696\n"
     ]
    }
   ],
   "source": [
    "lr_oof_score = roc_auc_score(target, lr_oof_preds)\n",
    "print(f\"OOF-score = {round(lr_oof_score, 5)}\")\n",
    "# OOF-score = 0.72678 по трем моделям\n",
    "# OOF-score = 0.72696 по четырем моделям"
   ]
  },
  {
   "cell_type": "markdown",
   "id": "c46989a2",
   "metadata": {},
   "source": [
    "**Вывод**\n",
    "* Качество на одиночных моделях составляет: LightGBM - 0.72286, XGBoost - 0.72668, Catboost - 0.724, Catboost с категориальными признаками - 0.72417.\n",
    "* Качество усредненных прогнозов по трем моделям AMean - 0.72642, GMean - 0.72644, Rankdata - 0.72638, GMean Rankdata - 0.72637\n",
    "* Качество усредненных прогнозов по четырем моделям AMean - 0.72644, GMean - 0.72646, Rankdata - 0.72629, GMean Rankdata - 0.72635.\n",
    "* Качество Логистической регрессии немного выше, чем качество одиночных и усредненных прогнозов:\n",
    "    * построенной на трех моделях - 0.72678\n",
    "    * построенной на трех моделях - 0.72696"
   ]
  },
  {
   "cell_type": "code",
   "execution_count": null,
   "id": "b12d1c74",
   "metadata": {},
   "outputs": [],
   "source": []
  }
 ],
 "metadata": {
  "kernelspec": {
   "display_name": "Python 3",
   "language": "python",
   "name": "python3"
  },
  "language_info": {
   "codemirror_mode": {
    "name": "ipython",
    "version": 3
   },
   "file_extension": ".py",
   "mimetype": "text/x-python",
   "name": "python",
   "nbconvert_exporter": "python",
   "pygments_lexer": "ipython3",
   "version": "3.8.8"
  }
 },
 "nbformat": 4,
 "nbformat_minor": 5
}
